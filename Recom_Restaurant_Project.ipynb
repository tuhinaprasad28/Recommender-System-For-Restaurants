{
 "cells": [
  {
   "cell_type": "markdown",
   "metadata": {},
   "source": [
    "## Q1. LOAD YOUR DATA INTO THE TOOL OF YOUR CHOICE AND TAKE A SCREENSHOT"
   ]
  },
  {
   "cell_type": "code",
   "execution_count": 1,
   "metadata": {},
   "outputs": [],
   "source": [
    "# import necessary libraries and specify that graphs should be plotted inline. \n",
    "import numpy as np\n",
    "import pandas as pd\n",
    "from pandas import Series,DataFrame\n",
    "from IPython.display import display, HTML\n",
    "from sklearn import preprocessing\n",
    "import json\n",
    "from pprint import pprint\n",
    "#import plotly as py\n",
    "#from plotly.tools import FigureFactory as FF\n",
    "#from ggplot import *\n",
    "#import plotly.graph_objs as go"
   ]
  },
  {
   "cell_type": "code",
   "execution_count": 2,
   "metadata": {},
   "outputs": [],
   "source": [
    "import os;\n",
    "os.chdir('D:/Code/Datasets')"
   ]
  },
  {
   "cell_type": "markdown",
   "metadata": {},
   "source": [
    "## 1.1 Load the checkin data "
   ]
  },
  {
   "cell_type": "raw",
   "metadata": {
    "collapsed": true
   },
   "source": [
    "####  The json object looks like this :\n",
    "\n",
    "\"\"\"\n",
    "check-in\n",
    "{\n",
    "    'type': 'checkin',\n",
    "    'business_id': (encrypted business id),\n",
    "    'checkin_info': {\n",
    "        '0-0': (number of checkins from 00:00 to 01:00 on all Sundays),\n",
    "        '1-0': (number of checkins from 01:00 to 02:00 on all Sundays),\n",
    "        ...\n",
    "        '14-4': (number of checkins from 14:00 to 15:00 on all Thursdays),\n",
    "        ...\n",
    "        '23-6': (number of checkins from 23:00 to 00:00 on all Saturdays)\n",
    "    }, # if there was no checkin for a hour-day block it will not be in the dict\n",
    "}\n",
    "\"\"\""
   ]
  },
  {
   "cell_type": "code",
   "execution_count": 12,
   "metadata": {},
   "outputs": [],
   "source": [
    "# Let us import the checking data \n",
    "d = list()\n",
    "with open('yelp_academic_dataset_checkin.json','r') as json_data:\n",
    "    for line in json_data:\n",
    "        d.append(json.loads(line))\n",
    "checkin = DataFrame(d)\n",
    "del d,json_data,line"
   ]
  },
  {
   "cell_type": "code",
   "execution_count": 13,
   "metadata": {},
   "outputs": [],
   "source": [
    "checkin['tot_checkins'] = checkin['checkin_info'].apply(lambda a : sum(a.values()))"
   ]
  },
  {
   "cell_type": "code",
   "execution_count": 14,
   "metadata": {},
   "outputs": [
    {
     "data": {
      "text/html": [
       "<div>\n",
       "<table border=\"1\" class=\"dataframe\">\n",
       "  <thead>\n",
       "    <tr style=\"text-align: right;\">\n",
       "      <th></th>\n",
       "      <th>business_id</th>\n",
       "      <th>checkin_info</th>\n",
       "      <th>type</th>\n",
       "      <th>tot_checkins</th>\n",
       "    </tr>\n",
       "  </thead>\n",
       "  <tbody>\n",
       "    <tr>\n",
       "      <th>0</th>\n",
       "      <td>cE27W9VPgO88Qxe4ol6y_g</td>\n",
       "      <td>{u'9-5': 1, u'7-5': 1, u'13-3': 1, u'17-6': 1,...</td>\n",
       "      <td>checkin</td>\n",
       "      <td>9</td>\n",
       "    </tr>\n",
       "    <tr>\n",
       "      <th>1</th>\n",
       "      <td>mVHrayjG3uZ_RLHkLj-AMg</td>\n",
       "      <td>{u'11-5': 1, u'9-5': 2, u'9-4': 3, u'15-1': 1,...</td>\n",
       "      <td>checkin</td>\n",
       "      <td>28</td>\n",
       "    </tr>\n",
       "    <tr>\n",
       "      <th>2</th>\n",
       "      <td>mYSpR_SLPgUVymYOvTQd_Q</td>\n",
       "      <td>{u'5-5': 1, u'5-4': 1, u'9-3': 1, u'11-4': 1, ...</td>\n",
       "      <td>checkin</td>\n",
       "      <td>8</td>\n",
       "    </tr>\n",
       "    <tr>\n",
       "      <th>3</th>\n",
       "      <td>KayYbHCt-RkbGcPdGOThNg</td>\n",
       "      <td>{u'23-1': 1, u'11-2': 2, u'21-4': 1, u'16-1': ...</td>\n",
       "      <td>checkin</td>\n",
       "      <td>65</td>\n",
       "    </tr>\n",
       "    <tr>\n",
       "      <th>4</th>\n",
       "      <td>b12U9TFESStdy7CsTtcOeg</td>\n",
       "      <td>{u'5-5': 2, u'13-2': 1, u'8-6': 1, u'5-1': 2, ...</td>\n",
       "      <td>checkin</td>\n",
       "      <td>7</td>\n",
       "    </tr>\n",
       "  </tbody>\n",
       "</table>\n",
       "</div>"
      ],
      "text/plain": [
       "              business_id                                       checkin_info  \\\n",
       "0  cE27W9VPgO88Qxe4ol6y_g  {u'9-5': 1, u'7-5': 1, u'13-3': 1, u'17-6': 1,...   \n",
       "1  mVHrayjG3uZ_RLHkLj-AMg  {u'11-5': 1, u'9-5': 2, u'9-4': 3, u'15-1': 1,...   \n",
       "2  mYSpR_SLPgUVymYOvTQd_Q  {u'5-5': 1, u'5-4': 1, u'9-3': 1, u'11-4': 1, ...   \n",
       "3  KayYbHCt-RkbGcPdGOThNg  {u'23-1': 1, u'11-2': 2, u'21-4': 1, u'16-1': ...   \n",
       "4  b12U9TFESStdy7CsTtcOeg  {u'5-5': 2, u'13-2': 1, u'8-6': 1, u'5-1': 2, ...   \n",
       "\n",
       "      type  tot_checkins  \n",
       "0  checkin             9  \n",
       "1  checkin            28  \n",
       "2  checkin             8  \n",
       "3  checkin            65  \n",
       "4  checkin             7  "
      ]
     },
     "execution_count": 14,
     "metadata": {},
     "output_type": "execute_result"
    }
   ],
   "source": [
    "checkin.head(5)"
   ]
  },
  {
   "cell_type": "markdown",
   "metadata": {},
   "source": [
    "## 1.2 Load the business data "
   ]
  },
  {
   "cell_type": "raw",
   "metadata": {},
   "source": [
    "####  The json object looks like this :\n",
    "business\n",
    "{\n",
    "    'type': 'business',\n",
    "    'business_id': (encrypted business id),\n",
    "    'name': (business name),\n",
    "    'neighborhoods': [(hood names)],\n",
    "    'full_address': (localized address),\n",
    "    'city': (city),\n",
    "    'state': (state),\n",
    "    'latitude': latitude,\n",
    "    'longitude': longitude,\n",
    "    'stars': (star rating, rounded to half-stars),\n",
    "    'review_count': review count,\n",
    "    'categories': [(localized category names)]\n",
    "    'open': True / False (corresponds to closed, not business hours),\n",
    "    'hours': {\n",
    "        (day_of_week): {\n",
    "            'open': (HH:MM),\n",
    "            'close': (HH:MM)\n",
    "        },\n",
    "        ...\n",
    "    },\n",
    "    'attributes': {\n",
    "        (attribute_name): (),\n",
    "        ...\n",
    "    },"
   ]
  },
  {
   "cell_type": "code",
   "execution_count": 3,
   "metadata": {},
   "outputs": [],
   "source": [
    "# Let us import the checking data \n",
    "\n",
    "d = list()\n",
    "with open('yelp_academic_dataset_business.json','r') as json_data:\n",
    "    for line in json_data:\n",
    "        d.append(json.loads(line))\n",
    "business = DataFrame(d)\n",
    "del d,json_data,line"
   ]
  },
  {
   "cell_type": "code",
   "execution_count": 8,
   "metadata": {
    "collapsed": true
   },
   "outputs": [],
   "source": [
    "def find_rest(a_list,x):\n",
    "    res = [y for y in a_list if x in y]\n",
    "    if len(res) >= 1:\n",
    "        return True\n",
    "    else:\n",
    "        return False"
   ]
  },
  {
   "cell_type": "markdown",
   "metadata": {},
   "source": [
    "### Filtering restaurant data into a new dataframe"
   ]
  },
  {
   "cell_type": "code",
   "execution_count": 9,
   "metadata": {},
   "outputs": [],
   "source": [
    "restaurants = business[business['categories'].apply(lambda a : find_rest(a,'Restaurants'))].reset_index()\n",
    "restaurants = restaurants.drop('index',axis=1)"
   ]
  },
  {
   "cell_type": "code",
   "execution_count": 10,
   "metadata": {},
   "outputs": [
    {
     "data": {
      "text/html": [
       "<div>\n",
       "<table border=\"1\" class=\"dataframe\">\n",
       "  <thead>\n",
       "    <tr style=\"text-align: right;\">\n",
       "      <th></th>\n",
       "      <th>attributes</th>\n",
       "      <th>business_id</th>\n",
       "      <th>categories</th>\n",
       "      <th>city</th>\n",
       "      <th>full_address</th>\n",
       "      <th>hours</th>\n",
       "      <th>latitude</th>\n",
       "      <th>longitude</th>\n",
       "      <th>name</th>\n",
       "      <th>neighborhoods</th>\n",
       "      <th>open</th>\n",
       "      <th>review_count</th>\n",
       "      <th>stars</th>\n",
       "      <th>state</th>\n",
       "      <th>type</th>\n",
       "    </tr>\n",
       "  </thead>\n",
       "  <tbody>\n",
       "    <tr>\n",
       "      <th>0</th>\n",
       "      <td>{u'Take-out': True, u'Drive-Thru': False, u'Ou...</td>\n",
       "      <td>5UmKMjUEUNdYWqANhGckJw</td>\n",
       "      <td>[Fast Food, Restaurants]</td>\n",
       "      <td>Dravosburg</td>\n",
       "      <td>4734 Lebanon Church Rd\\nDravosburg, PA 15034</td>\n",
       "      <td>{u'Tuesday': {u'close': u'21:00', u'open': u'1...</td>\n",
       "      <td>40.354327</td>\n",
       "      <td>-79.900706</td>\n",
       "      <td>Mr Hoagie</td>\n",
       "      <td>[]</td>\n",
       "      <td>True</td>\n",
       "      <td>7</td>\n",
       "      <td>3.5</td>\n",
       "      <td>PA</td>\n",
       "      <td>business</td>\n",
       "    </tr>\n",
       "    <tr>\n",
       "      <th>1</th>\n",
       "      <td>{u'Alcohol': u'full_bar', u'Noise Level': u'av...</td>\n",
       "      <td>mVHrayjG3uZ_RLHkLj-AMg</td>\n",
       "      <td>[Bars, American (New), Nightlife, Lounges, Res...</td>\n",
       "      <td>Braddock</td>\n",
       "      <td>414 Hawkins Ave\\nBraddock, PA 15104</td>\n",
       "      <td>{u'Tuesday': {u'close': u'19:00', u'open': u'1...</td>\n",
       "      <td>40.408830</td>\n",
       "      <td>-79.866211</td>\n",
       "      <td>Emil's Lounge</td>\n",
       "      <td>[]</td>\n",
       "      <td>True</td>\n",
       "      <td>26</td>\n",
       "      <td>4.5</td>\n",
       "      <td>PA</td>\n",
       "      <td>business</td>\n",
       "    </tr>\n",
       "  </tbody>\n",
       "</table>\n",
       "</div>"
      ],
      "text/plain": [
       "                                          attributes             business_id  \\\n",
       "0  {u'Take-out': True, u'Drive-Thru': False, u'Ou...  5UmKMjUEUNdYWqANhGckJw   \n",
       "1  {u'Alcohol': u'full_bar', u'Noise Level': u'av...  mVHrayjG3uZ_RLHkLj-AMg   \n",
       "\n",
       "                                          categories        city  \\\n",
       "0                           [Fast Food, Restaurants]  Dravosburg   \n",
       "1  [Bars, American (New), Nightlife, Lounges, Res...    Braddock   \n",
       "\n",
       "                                   full_address  \\\n",
       "0  4734 Lebanon Church Rd\\nDravosburg, PA 15034   \n",
       "1           414 Hawkins Ave\\nBraddock, PA 15104   \n",
       "\n",
       "                                               hours   latitude  longitude  \\\n",
       "0  {u'Tuesday': {u'close': u'21:00', u'open': u'1...  40.354327 -79.900706   \n",
       "1  {u'Tuesday': {u'close': u'19:00', u'open': u'1...  40.408830 -79.866211   \n",
       "\n",
       "            name neighborhoods  open  review_count  stars state      type  \n",
       "0      Mr Hoagie            []  True             7    3.5    PA  business  \n",
       "1  Emil's Lounge            []  True            26    4.5    PA  business  "
      ]
     },
     "execution_count": 10,
     "metadata": {},
     "output_type": "execute_result"
    }
   ],
   "source": [
    "restaurants.head(2)"
   ]
  },
  {
   "cell_type": "code",
   "execution_count": 13,
   "metadata": {},
   "outputs": [],
   "source": [
    "def get_restaurant_attr(a_json,column):\n",
    "    if column == 'Ambience':\n",
    "        if column in a_json.keys(): \n",
    "            return sum(a_json[column].values())\n",
    "    if column == 'Good For':\n",
    "        if column in a_json.keys(): \n",
    "            if sum(a_json[column].values()) > 0 : return 1\n",
    "            else : return 0\n",
    "    if column == 'Parking':\n",
    "        if column in a_json.keys(): \n",
    "            return sum(a_json[column].values())\n",
    "    elif column in a_json.keys():\n",
    "        return a_json[column]\n",
    "    else:\n",
    "        return 'N/A'"
   ]
  },
  {
   "cell_type": "code",
   "execution_count": 17,
   "metadata": {},
   "outputs": [],
   "source": [
    "restaurants['Acc_credit_card'] = restaurants['attributes'].apply(lambda x : get_restaurant_attr(x,'Accepts Credit Cards'))\n",
    "restaurants['Alcohol'] = restaurants['attributes'].apply(lambda x : get_restaurant_attr(x,'Alcohol'))\n",
    "restaurants['Ambience'] = restaurants['attributes'].apply(lambda x : get_restaurant_attr(x,'Ambience'))\n",
    "restaurants['Delivery'] = restaurants['attributes'].apply(lambda x : get_restaurant_attr(x,'Delivery'))\n",
    "restaurants['Good For'] = restaurants['attributes'].apply(lambda x : get_restaurant_attr(x,'Good For'))\n",
    "restaurants['Parking'] = restaurants['attributes'].apply(lambda x : get_restaurant_attr(x,'Parking'))\n",
    "restaurants['Price Range'] = restaurants['attributes'].apply(lambda x : get_restaurant_attr(x,'Price Range'))\n",
    "restaurants['Take-out'] = restaurants['attributes'].apply(lambda x : get_restaurant_attr(x,'Take-out'))\n",
    "restaurants['Takes Reservations'] = restaurants['attributes'].apply(lambda x : get_restaurant_attr(x,'Takes Reservations'))\n",
    "restaurants['Waiter Service'] = restaurants['attributes'].apply(lambda x : get_restaurant_attr(x,'Waiter Service'))\n",
    "restaurants['Noise Level'] = restaurants['attributes'].apply(lambda x : get_restaurant_attr(x,'Noise Level'))\n",
    "restaurants['Outdoor Seating'] = restaurants['attributes'].apply(lambda x : get_restaurant_attr(x,'Outdoor Seating'))"
   ]
  },
  {
   "cell_type": "code",
   "execution_count": 18,
   "metadata": {
    "collapsed": true
   },
   "outputs": [],
   "source": [
    "restaurants_charlotte = restaurants[restaurants['city']=='Charlotte']"
   ]
  },
  {
   "cell_type": "code",
   "execution_count": 19,
   "metadata": {
    "collapsed": true
   },
   "outputs": [],
   "source": [
    "del business"
   ]
  },
  {
   "cell_type": "raw",
   "metadata": {},
   "source": [
    "a = list(list(restaurants['hours'][1].values())[0].values())\n",
    "time_p = int(a[1][0:2]) - int(a[0][0:2])\n",
    "def hour_cal()"
   ]
  },
  {
   "cell_type": "raw",
   "metadata": {},
   "source": [
    "def tot_cat(a_array):\n",
    "    unique_cat = list()\n",
    "    for i in range(0,len(a_array)):\n",
    "        a_list = a_array[i]\n",
    "        for j in a_list:\n",
    "            unique_cat.append(j)\n",
    "    return unique_cat\n",
    "unique_categories = tot_cat(np.array(restaurants['categories']))\n",
    "unique_categories= Series(unique_categories)\n",
    "len(unique_categories.value_counts())"
   ]
  },
  {
   "cell_type": "markdown",
   "metadata": {},
   "source": [
    "## 1.3 Load the Review data "
   ]
  },
  {
   "cell_type": "code",
   "execution_count": 20,
   "metadata": {},
   "outputs": [],
   "source": [
    "d = list()\n",
    "with open('yelp_academic_dataset_review.json','r') as json_data:\n",
    "    for line in json_data:\n",
    "        d.append(json.loads(line))\n",
    "review = DataFrame(d)\n",
    "del d,json_data,line"
   ]
  },
  {
   "cell_type": "code",
   "execution_count": 21,
   "metadata": {},
   "outputs": [],
   "source": [
    "review['useful'] = review['votes'].apply(lambda a : a['useful'])\n",
    "review['funny'] = review['votes'].apply(lambda a : a['funny'])\n",
    "review['cool'] = review['votes'].apply(lambda a : a['cool'])"
   ]
  },
  {
   "cell_type": "code",
   "execution_count": 22,
   "metadata": {},
   "outputs": [
    {
     "data": {
      "text/html": [
       "<div>\n",
       "<table border=\"1\" class=\"dataframe\">\n",
       "  <thead>\n",
       "    <tr style=\"text-align: right;\">\n",
       "      <th></th>\n",
       "      <th>business_id</th>\n",
       "      <th>date</th>\n",
       "      <th>review_id</th>\n",
       "      <th>stars</th>\n",
       "      <th>text</th>\n",
       "      <th>type</th>\n",
       "      <th>user_id</th>\n",
       "      <th>votes</th>\n",
       "      <th>useful</th>\n",
       "      <th>funny</th>\n",
       "      <th>cool</th>\n",
       "    </tr>\n",
       "  </thead>\n",
       "  <tbody>\n",
       "    <tr>\n",
       "      <th>0</th>\n",
       "      <td>5UmKMjUEUNdYWqANhGckJw</td>\n",
       "      <td>2012-08-01</td>\n",
       "      <td>Ya85v4eqdd6k9Od8HbQjyA</td>\n",
       "      <td>4</td>\n",
       "      <td>Mr Hoagie is an institution. Walking in, it do...</td>\n",
       "      <td>review</td>\n",
       "      <td>PUFPaY9KxDAcGqfsorJp3Q</td>\n",
       "      <td>{u'funny': 0, u'useful': 0, u'cool': 0}</td>\n",
       "      <td>0</td>\n",
       "      <td>0</td>\n",
       "      <td>0</td>\n",
       "    </tr>\n",
       "    <tr>\n",
       "      <th>1</th>\n",
       "      <td>5UmKMjUEUNdYWqANhGckJw</td>\n",
       "      <td>2014-02-13</td>\n",
       "      <td>KPvLNJ21_4wbYNctrOwWdQ</td>\n",
       "      <td>5</td>\n",
       "      <td>Excellent food. Superb customer service. I mis...</td>\n",
       "      <td>review</td>\n",
       "      <td>Iu6AxdBYGR4A0wspR9BYHA</td>\n",
       "      <td>{u'funny': 0, u'useful': 0, u'cool': 0}</td>\n",
       "      <td>0</td>\n",
       "      <td>0</td>\n",
       "      <td>0</td>\n",
       "    </tr>\n",
       "  </tbody>\n",
       "</table>\n",
       "</div>"
      ],
      "text/plain": [
       "              business_id        date               review_id  stars  \\\n",
       "0  5UmKMjUEUNdYWqANhGckJw  2012-08-01  Ya85v4eqdd6k9Od8HbQjyA      4   \n",
       "1  5UmKMjUEUNdYWqANhGckJw  2014-02-13  KPvLNJ21_4wbYNctrOwWdQ      5   \n",
       "\n",
       "                                                text    type  \\\n",
       "0  Mr Hoagie is an institution. Walking in, it do...  review   \n",
       "1  Excellent food. Superb customer service. I mis...  review   \n",
       "\n",
       "                  user_id                                    votes  useful  \\\n",
       "0  PUFPaY9KxDAcGqfsorJp3Q  {u'funny': 0, u'useful': 0, u'cool': 0}       0   \n",
       "1  Iu6AxdBYGR4A0wspR9BYHA  {u'funny': 0, u'useful': 0, u'cool': 0}       0   \n",
       "\n",
       "   funny  cool  \n",
       "0      0     0  \n",
       "1      0     0  "
      ]
     },
     "execution_count": 22,
     "metadata": {},
     "output_type": "execute_result"
    }
   ],
   "source": [
    "review.head(2)"
   ]
  },
  {
   "cell_type": "code",
   "execution_count": 23,
   "metadata": {},
   "outputs": [],
   "source": [
    "restaurants_review = pd.merge(review,restaurants_charlotte[['business_id','name']], on='business_id')"
   ]
  },
  {
   "cell_type": "code",
   "execution_count": 24,
   "metadata": {},
   "outputs": [
    {
     "data": {
      "text/html": [
       "<div>\n",
       "<table border=\"1\" class=\"dataframe\">\n",
       "  <thead>\n",
       "    <tr style=\"text-align: right;\">\n",
       "      <th></th>\n",
       "      <th>business_id</th>\n",
       "      <th>date</th>\n",
       "      <th>review_id</th>\n",
       "      <th>stars</th>\n",
       "      <th>text</th>\n",
       "      <th>type</th>\n",
       "      <th>user_id</th>\n",
       "      <th>votes</th>\n",
       "      <th>useful</th>\n",
       "      <th>funny</th>\n",
       "      <th>cool</th>\n",
       "      <th>name</th>\n",
       "    </tr>\n",
       "  </thead>\n",
       "  <tbody>\n",
       "    <tr>\n",
       "      <th>0</th>\n",
       "      <td>Gw5POFxBRoJxN_ZYhk6lgQ</td>\n",
       "      <td>2010-12-31</td>\n",
       "      <td>5jK4kzMbk5_2uFlW6SBqdQ</td>\n",
       "      <td>4</td>\n",
       "      <td>In the Pineville area and need a quick breakfa...</td>\n",
       "      <td>review</td>\n",
       "      <td>whKpnugMnWTz3UjlrN71yg</td>\n",
       "      <td>{u'funny': 1, u'useful': 1, u'cool': 1}</td>\n",
       "      <td>1</td>\n",
       "      <td>1</td>\n",
       "      <td>1</td>\n",
       "      <td>Bruegger's Bagels</td>\n",
       "    </tr>\n",
       "    <tr>\n",
       "      <th>1</th>\n",
       "      <td>Gw5POFxBRoJxN_ZYhk6lgQ</td>\n",
       "      <td>2011-07-18</td>\n",
       "      <td>GLBryAnx1thVohzWc1nV_A</td>\n",
       "      <td>5</td>\n",
       "      <td>I came here for the first time and was so happ...</td>\n",
       "      <td>review</td>\n",
       "      <td>4522K1jh68XVpUsPh-5I7A</td>\n",
       "      <td>{u'funny': 0, u'useful': 0, u'cool': 0}</td>\n",
       "      <td>0</td>\n",
       "      <td>0</td>\n",
       "      <td>0</td>\n",
       "      <td>Bruegger's Bagels</td>\n",
       "    </tr>\n",
       "    <tr>\n",
       "      <th>2</th>\n",
       "      <td>Gw5POFxBRoJxN_ZYhk6lgQ</td>\n",
       "      <td>2012-09-19</td>\n",
       "      <td>ZXPMc6Lc4V7nqknsJ13u9A</td>\n",
       "      <td>4</td>\n",
       "      <td>This place is an awesome!\\n\\nThe bagels are fr...</td>\n",
       "      <td>review</td>\n",
       "      <td>PM2jXrlVzik1jDwwahLJJQ</td>\n",
       "      <td>{u'funny': 0, u'useful': 0, u'cool': 0}</td>\n",
       "      <td>0</td>\n",
       "      <td>0</td>\n",
       "      <td>0</td>\n",
       "      <td>Bruegger's Bagels</td>\n",
       "    </tr>\n",
       "    <tr>\n",
       "      <th>3</th>\n",
       "      <td>Gw5POFxBRoJxN_ZYhk6lgQ</td>\n",
       "      <td>2012-12-29</td>\n",
       "      <td>DttWnjejrfXUDiZzC0aFAg</td>\n",
       "      <td>3</td>\n",
       "      <td>I have mixed feelings about Bruegger's but I s...</td>\n",
       "      <td>review</td>\n",
       "      <td>naBs2Kg2KClrKcoRgFE2eA</td>\n",
       "      <td>{u'funny': 0, u'useful': 0, u'cool': 0}</td>\n",
       "      <td>0</td>\n",
       "      <td>0</td>\n",
       "      <td>0</td>\n",
       "      <td>Bruegger's Bagels</td>\n",
       "    </tr>\n",
       "    <tr>\n",
       "      <th>4</th>\n",
       "      <td>Gw5POFxBRoJxN_ZYhk6lgQ</td>\n",
       "      <td>2013-06-16</td>\n",
       "      <td>zI76vgTW_MxrqEhl31FuZw</td>\n",
       "      <td>3</td>\n",
       "      <td>Brueggers Bagels when hot and fresh the bagel ...</td>\n",
       "      <td>review</td>\n",
       "      <td>mHGxSFGMYj4uDap-fcAvaw</td>\n",
       "      <td>{u'funny': 0, u'useful': 0, u'cool': 0}</td>\n",
       "      <td>0</td>\n",
       "      <td>0</td>\n",
       "      <td>0</td>\n",
       "      <td>Bruegger's Bagels</td>\n",
       "    </tr>\n",
       "    <tr>\n",
       "      <th>5</th>\n",
       "      <td>Gw5POFxBRoJxN_ZYhk6lgQ</td>\n",
       "      <td>2013-11-10</td>\n",
       "      <td>LNbRXormHaHJv8Cm_7tuiA</td>\n",
       "      <td>5</td>\n",
       "      <td>Great bagles and great ciabatta! We had one of...</td>\n",
       "      <td>review</td>\n",
       "      <td>izn2q7eRSq4XtlJMzoaonA</td>\n",
       "      <td>{u'funny': 0, u'useful': 0, u'cool': 0}</td>\n",
       "      <td>0</td>\n",
       "      <td>0</td>\n",
       "      <td>0</td>\n",
       "      <td>Bruegger's Bagels</td>\n",
       "    </tr>\n",
       "    <tr>\n",
       "      <th>6</th>\n",
       "      <td>Gw5POFxBRoJxN_ZYhk6lgQ</td>\n",
       "      <td>2014-05-25</td>\n",
       "      <td>a5prO8UITURPC_iaQBalgw</td>\n",
       "      <td>1</td>\n",
       "      <td>Cream cheese skimp alert!! We pay ~$7 per smok...</td>\n",
       "      <td>review</td>\n",
       "      <td>sc8OSFfftZk8dvJiKaH1Dg</td>\n",
       "      <td>{u'funny': 0, u'useful': 0, u'cool': 0}</td>\n",
       "      <td>0</td>\n",
       "      <td>0</td>\n",
       "      <td>0</td>\n",
       "      <td>Bruegger's Bagels</td>\n",
       "    </tr>\n",
       "    <tr>\n",
       "      <th>7</th>\n",
       "      <td>Gw5POFxBRoJxN_ZYhk6lgQ</td>\n",
       "      <td>2014-10-08</td>\n",
       "      <td>N_1pNPbWuvGoyU3o0Eg8jg</td>\n",
       "      <td>5</td>\n",
       "      <td>Admittedly, the grump factor is high in some o...</td>\n",
       "      <td>review</td>\n",
       "      <td>LkfzD47YI70jabh_9ViFdg</td>\n",
       "      <td>{u'funny': 0, u'useful': 0, u'cool': 0}</td>\n",
       "      <td>0</td>\n",
       "      <td>0</td>\n",
       "      <td>0</td>\n",
       "      <td>Bruegger's Bagels</td>\n",
       "    </tr>\n",
       "    <tr>\n",
       "      <th>8</th>\n",
       "      <td>Gw5POFxBRoJxN_ZYhk6lgQ</td>\n",
       "      <td>2015-03-06</td>\n",
       "      <td>kzzKuCzP0xekcBRPiMBTkA</td>\n",
       "      <td>5</td>\n",
       "      <td>Truly one of the BEST bagels I have ever had. ...</td>\n",
       "      <td>review</td>\n",
       "      <td>4FQPzJqtRi94aZWJ9Xo5iA</td>\n",
       "      <td>{u'funny': 0, u'useful': 0, u'cool': 0}</td>\n",
       "      <td>0</td>\n",
       "      <td>0</td>\n",
       "      <td>0</td>\n",
       "      <td>Bruegger's Bagels</td>\n",
       "    </tr>\n",
       "    <tr>\n",
       "      <th>9</th>\n",
       "      <td>Gw5POFxBRoJxN_ZYhk6lgQ</td>\n",
       "      <td>2015-09-18</td>\n",
       "      <td>deDcy6pD4CjOK7ceWx9nGQ</td>\n",
       "      <td>3</td>\n",
       "      <td>I'm all about a good cup of joe with my bagel....</td>\n",
       "      <td>review</td>\n",
       "      <td>-Q00KxShmMTQB50HZCfJ-Q</td>\n",
       "      <td>{u'funny': 0, u'useful': 0, u'cool': 0}</td>\n",
       "      <td>0</td>\n",
       "      <td>0</td>\n",
       "      <td>0</td>\n",
       "      <td>Bruegger's Bagels</td>\n",
       "    </tr>\n",
       "    <tr>\n",
       "      <th>10</th>\n",
       "      <td>Gw5POFxBRoJxN_ZYhk6lgQ</td>\n",
       "      <td>2015-10-11</td>\n",
       "      <td>4je8X_3MOAwBRJ0PDkCX1A</td>\n",
       "      <td>5</td>\n",
       "      <td>I will be here every time I'm in the area. So ...</td>\n",
       "      <td>review</td>\n",
       "      <td>AIY4Fmpj-ajPAhG8kh7gFA</td>\n",
       "      <td>{u'funny': 1, u'useful': 2, u'cool': 1}</td>\n",
       "      <td>2</td>\n",
       "      <td>1</td>\n",
       "      <td>1</td>\n",
       "      <td>Bruegger's Bagels</td>\n",
       "    </tr>\n",
       "    <tr>\n",
       "      <th>11</th>\n",
       "      <td>Gw5POFxBRoJxN_ZYhk6lgQ</td>\n",
       "      <td>2015-11-30</td>\n",
       "      <td>uUaq4_hH71Z6_zerWZ8PBg</td>\n",
       "      <td>2</td>\n",
       "      <td>The bagels was nice but I was the only one in ...</td>\n",
       "      <td>review</td>\n",
       "      <td>VkgLupJTf7AMBHfVYFblWQ</td>\n",
       "      <td>{u'funny': 0, u'useful': 0, u'cool': 0}</td>\n",
       "      <td>0</td>\n",
       "      <td>0</td>\n",
       "      <td>0</td>\n",
       "      <td>Bruegger's Bagels</td>\n",
       "    </tr>\n",
       "    <tr>\n",
       "      <th>12</th>\n",
       "      <td>Gw5POFxBRoJxN_ZYhk6lgQ</td>\n",
       "      <td>2015-12-15</td>\n",
       "      <td>CZh6ah4XLji5WSFaeml98g</td>\n",
       "      <td>4</td>\n",
       "      <td>Came here one morning. There was a line but it...</td>\n",
       "      <td>review</td>\n",
       "      <td>uc4QurS1XrvyiIpne2IbhA</td>\n",
       "      <td>{u'funny': 1, u'useful': 1, u'cool': 1}</td>\n",
       "      <td>1</td>\n",
       "      <td>1</td>\n",
       "      <td>1</td>\n",
       "      <td>Bruegger's Bagels</td>\n",
       "    </tr>\n",
       "    <tr>\n",
       "      <th>13</th>\n",
       "      <td>Gw5POFxBRoJxN_ZYhk6lgQ</td>\n",
       "      <td>2016-01-20</td>\n",
       "      <td>wTfUM3KPOuNvTQTLha2A5A</td>\n",
       "      <td>4</td>\n",
       "      <td>Normally I wouldn't rate a fast food place a 4...</td>\n",
       "      <td>review</td>\n",
       "      <td>Ocwziueb8WOkcB0haJkL9A</td>\n",
       "      <td>{u'funny': 0, u'useful': 0, u'cool': 0}</td>\n",
       "      <td>0</td>\n",
       "      <td>0</td>\n",
       "      <td>0</td>\n",
       "      <td>Bruegger's Bagels</td>\n",
       "    </tr>\n",
       "    <tr>\n",
       "      <th>14</th>\n",
       "      <td>Gw5POFxBRoJxN_ZYhk6lgQ</td>\n",
       "      <td>2016-04-03</td>\n",
       "      <td>ZDkJbfdXYAHsLsQQb63M5w</td>\n",
       "      <td>5</td>\n",
       "      <td>What a wonderful place for a quick breakfast! ...</td>\n",
       "      <td>review</td>\n",
       "      <td>znw7lax8yiISMhQq7Pu_Kw</td>\n",
       "      <td>{u'funny': 0, u'useful': 0, u'cool': 0}</td>\n",
       "      <td>0</td>\n",
       "      <td>0</td>\n",
       "      <td>0</td>\n",
       "      <td>Bruegger's Bagels</td>\n",
       "    </tr>\n",
       "    <tr>\n",
       "      <th>15</th>\n",
       "      <td>MMgjU4K0D9RLsb7BWEic4g</td>\n",
       "      <td>2011-12-16</td>\n",
       "      <td>tPDyoDKN0QWAYbg-ICmH_Q</td>\n",
       "      <td>5</td>\n",
       "      <td>I cannot tell a lie! GULP. When the urge for a...</td>\n",
       "      <td>review</td>\n",
       "      <td>A6bPFcUjuuayRBoyybedDQ</td>\n",
       "      <td>{u'funny': 5, u'useful': 0, u'cool': 0}</td>\n",
       "      <td>0</td>\n",
       "      <td>5</td>\n",
       "      <td>0</td>\n",
       "      <td>Domino's Pizza</td>\n",
       "    </tr>\n",
       "    <tr>\n",
       "      <th>16</th>\n",
       "      <td>MMgjU4K0D9RLsb7BWEic4g</td>\n",
       "      <td>2014-04-09</td>\n",
       "      <td>X9jq6hVw-_lDHMMjbzeGmA</td>\n",
       "      <td>5</td>\n",
       "      <td>THIS location is the best! I do not know about...</td>\n",
       "      <td>review</td>\n",
       "      <td>fXo7RWiS-U8zr4zImqIfLA</td>\n",
       "      <td>{u'funny': 0, u'useful': 0, u'cool': 0}</td>\n",
       "      <td>0</td>\n",
       "      <td>0</td>\n",
       "      <td>0</td>\n",
       "      <td>Domino's Pizza</td>\n",
       "    </tr>\n",
       "    <tr>\n",
       "      <th>17</th>\n",
       "      <td>MMgjU4K0D9RLsb7BWEic4g</td>\n",
       "      <td>2014-07-01</td>\n",
       "      <td>cYYbKvlnIdzOYuVoJ60iAQ</td>\n",
       "      <td>4</td>\n",
       "      <td>We've been ordering pizza from here for 20 yea...</td>\n",
       "      <td>review</td>\n",
       "      <td>lmMjtEAtQYGuM6Zq3tPv5A</td>\n",
       "      <td>{u'funny': 0, u'useful': 0, u'cool': 0}</td>\n",
       "      <td>0</td>\n",
       "      <td>0</td>\n",
       "      <td>0</td>\n",
       "      <td>Domino's Pizza</td>\n",
       "    </tr>\n",
       "    <tr>\n",
       "      <th>18</th>\n",
       "      <td>MMgjU4K0D9RLsb7BWEic4g</td>\n",
       "      <td>2015-01-11</td>\n",
       "      <td>Au2TsisbBzT1X0kkcIZM0A</td>\n",
       "      <td>4</td>\n",
       "      <td>OK, I gave up on Dominos a while ago for bette...</td>\n",
       "      <td>review</td>\n",
       "      <td>UUi-WIT8m3RszOfOh-hkHg</td>\n",
       "      <td>{u'funny': 0, u'useful': 0, u'cool': 0}</td>\n",
       "      <td>0</td>\n",
       "      <td>0</td>\n",
       "      <td>0</td>\n",
       "      <td>Domino's Pizza</td>\n",
       "    </tr>\n",
       "    <tr>\n",
       "      <th>19</th>\n",
       "      <td>MMgjU4K0D9RLsb7BWEic4g</td>\n",
       "      <td>2015-02-09</td>\n",
       "      <td>laccFK_HZclYne2OpOrjLQ</td>\n",
       "      <td>1</td>\n",
       "      <td>I really love Domino's so today when I saw on ...</td>\n",
       "      <td>review</td>\n",
       "      <td>JH4-alrN6saA6nB12zmP7A</td>\n",
       "      <td>{u'funny': 0, u'useful': 0, u'cool': 0}</td>\n",
       "      <td>0</td>\n",
       "      <td>0</td>\n",
       "      <td>0</td>\n",
       "      <td>Domino's Pizza</td>\n",
       "    </tr>\n",
       "    <tr>\n",
       "      <th>20</th>\n",
       "      <td>MMgjU4K0D9RLsb7BWEic4g</td>\n",
       "      <td>2015-09-26</td>\n",
       "      <td>TEFR0-Fqnyd-DK64Kq1_UQ</td>\n",
       "      <td>1</td>\n",
       "      <td>Just ordered a pizza at midnight i called it i...</td>\n",
       "      <td>review</td>\n",
       "      <td>x1A9lIxl0sE_hvVS6vrMkA</td>\n",
       "      <td>{u'funny': 0, u'useful': 0, u'cool': 0}</td>\n",
       "      <td>0</td>\n",
       "      <td>0</td>\n",
       "      <td>0</td>\n",
       "      <td>Domino's Pizza</td>\n",
       "    </tr>\n",
       "    <tr>\n",
       "      <th>21</th>\n",
       "      <td>MMgjU4K0D9RLsb7BWEic4g</td>\n",
       "      <td>2015-12-01</td>\n",
       "      <td>LKIaSFoj6AUjCRwUhAsQlQ</td>\n",
       "      <td>1</td>\n",
       "      <td>Love the online tracking, never had any delive...</td>\n",
       "      <td>review</td>\n",
       "      <td>9UHtKq9fUrxazpbjYl79HQ</td>\n",
       "      <td>{u'funny': 0, u'useful': 0, u'cool': 0}</td>\n",
       "      <td>0</td>\n",
       "      <td>0</td>\n",
       "      <td>0</td>\n",
       "      <td>Domino's Pizza</td>\n",
       "    </tr>\n",
       "    <tr>\n",
       "      <th>22</th>\n",
       "      <td>MMgjU4K0D9RLsb7BWEic4g</td>\n",
       "      <td>2016-02-29</td>\n",
       "      <td>jXn52ZdhOBCrzrXRABSnsA</td>\n",
       "      <td>4</td>\n",
       "      <td>Whoever makes the pizzas must not like mushroo...</td>\n",
       "      <td>review</td>\n",
       "      <td>HMgR5LYKyTSwP3AL9R6cgQ</td>\n",
       "      <td>{u'funny': 0, u'useful': 0, u'cool': 0}</td>\n",
       "      <td>0</td>\n",
       "      <td>0</td>\n",
       "      <td>0</td>\n",
       "      <td>Domino's Pizza</td>\n",
       "    </tr>\n",
       "    <tr>\n",
       "      <th>23</th>\n",
       "      <td>LT0AgHTpDifuHSXgyLmJwg</td>\n",
       "      <td>2008-03-04</td>\n",
       "      <td>zwhFMmSutjMhLX4gHShAgw</td>\n",
       "      <td>3</td>\n",
       "      <td>Green's has been here for a long time, and is ...</td>\n",
       "      <td>review</td>\n",
       "      <td>3Gazlt5RwZQIu1ZWMwi0cg</td>\n",
       "      <td>{u'funny': 0, u'useful': 0, u'cool': 0}</td>\n",
       "      <td>0</td>\n",
       "      <td>0</td>\n",
       "      <td>0</td>\n",
       "      <td>Green's Lunch</td>\n",
       "    </tr>\n",
       "    <tr>\n",
       "      <th>24</th>\n",
       "      <td>LT0AgHTpDifuHSXgyLmJwg</td>\n",
       "      <td>2010-09-10</td>\n",
       "      <td>gvzsobteZDUwzZBTdfYFZA</td>\n",
       "      <td>4</td>\n",
       "      <td>Loved this place.  It isn't the nicest/cleanes...</td>\n",
       "      <td>review</td>\n",
       "      <td>afTF61m7-hcOWAZ-FXc86Q</td>\n",
       "      <td>{u'funny': 0, u'useful': 0, u'cool': 0}</td>\n",
       "      <td>0</td>\n",
       "      <td>0</td>\n",
       "      <td>0</td>\n",
       "      <td>Green's Lunch</td>\n",
       "    </tr>\n",
       "    <tr>\n",
       "      <th>25</th>\n",
       "      <td>LT0AgHTpDifuHSXgyLmJwg</td>\n",
       "      <td>2010-11-11</td>\n",
       "      <td>Qdq_4aJWLDr-HAkuiq9DVg</td>\n",
       "      <td>5</td>\n",
       "      <td>I have been eating at greens since I was a lit...</td>\n",
       "      <td>review</td>\n",
       "      <td>D7i1VsUJmrdSOkxDKtPsNQ</td>\n",
       "      <td>{u'funny': 1, u'useful': 1, u'cool': 1}</td>\n",
       "      <td>1</td>\n",
       "      <td>1</td>\n",
       "      <td>1</td>\n",
       "      <td>Green's Lunch</td>\n",
       "    </tr>\n",
       "    <tr>\n",
       "      <th>26</th>\n",
       "      <td>LT0AgHTpDifuHSXgyLmJwg</td>\n",
       "      <td>2010-12-11</td>\n",
       "      <td>Y2msN6DafdQpE-kJ_VAhFg</td>\n",
       "      <td>3</td>\n",
       "      <td>I had a BLT and cheese fries. The BLT and Chee...</td>\n",
       "      <td>review</td>\n",
       "      <td>VpVp2Ws2RZKWyy5mL3Rfdw</td>\n",
       "      <td>{u'funny': 0, u'useful': 0, u'cool': 0}</td>\n",
       "      <td>0</td>\n",
       "      <td>0</td>\n",
       "      <td>0</td>\n",
       "      <td>Green's Lunch</td>\n",
       "    </tr>\n",
       "    <tr>\n",
       "      <th>27</th>\n",
       "      <td>LT0AgHTpDifuHSXgyLmJwg</td>\n",
       "      <td>2011-02-06</td>\n",
       "      <td>CbzFp_cEeaupCgiCPR7j3A</td>\n",
       "      <td>5</td>\n",
       "      <td>This small gem has been around since little He...</td>\n",
       "      <td>review</td>\n",
       "      <td>c6vXlUq_RJbxbV2CHGOl_Q</td>\n",
       "      <td>{u'funny': 1, u'useful': 5, u'cool': 1}</td>\n",
       "      <td>5</td>\n",
       "      <td>1</td>\n",
       "      <td>1</td>\n",
       "      <td>Green's Lunch</td>\n",
       "    </tr>\n",
       "    <tr>\n",
       "      <th>28</th>\n",
       "      <td>LT0AgHTpDifuHSXgyLmJwg</td>\n",
       "      <td>2011-04-04</td>\n",
       "      <td>fuIwbWU2YYOCpF4h48agaQ</td>\n",
       "      <td>5</td>\n",
       "      <td>Center of the hot dog universe! Been eating he...</td>\n",
       "      <td>review</td>\n",
       "      <td>fH6BHji71m6KJS5G6-BKtA</td>\n",
       "      <td>{u'funny': 1, u'useful': 1, u'cool': 1}</td>\n",
       "      <td>1</td>\n",
       "      <td>1</td>\n",
       "      <td>1</td>\n",
       "      <td>Green's Lunch</td>\n",
       "    </tr>\n",
       "    <tr>\n",
       "      <th>29</th>\n",
       "      <td>LT0AgHTpDifuHSXgyLmJwg</td>\n",
       "      <td>2011-07-30</td>\n",
       "      <td>JnaIl0ibK3nHM7UXyIrnlg</td>\n",
       "      <td>2</td>\n",
       "      <td>I had two dogs, fries, and a coke for lunch.  ...</td>\n",
       "      <td>review</td>\n",
       "      <td>jvpd48tfHfatu3Ttc5DuEg</td>\n",
       "      <td>{u'funny': 1, u'useful': 1, u'cool': 0}</td>\n",
       "      <td>1</td>\n",
       "      <td>1</td>\n",
       "      <td>0</td>\n",
       "      <td>Green's Lunch</td>\n",
       "    </tr>\n",
       "    <tr>\n",
       "      <th>...</th>\n",
       "      <td>...</td>\n",
       "      <td>...</td>\n",
       "      <td>...</td>\n",
       "      <td>...</td>\n",
       "      <td>...</td>\n",
       "      <td>...</td>\n",
       "      <td>...</td>\n",
       "      <td>...</td>\n",
       "      <td>...</td>\n",
       "      <td>...</td>\n",
       "      <td>...</td>\n",
       "      <td>...</td>\n",
       "    </tr>\n",
       "    <tr>\n",
       "      <th>101000</th>\n",
       "      <td>DH2Ujt_hwcMBIz8VvCb0Lg</td>\n",
       "      <td>2014-02-21</td>\n",
       "      <td>kwRUY7VXR3djfcCN5MnLHg</td>\n",
       "      <td>2</td>\n",
       "      <td>Bland airport Mexican food that doesn't satisf...</td>\n",
       "      <td>review</td>\n",
       "      <td>g-5aOiGQbtlACKsWzb3-1g</td>\n",
       "      <td>{u'funny': 1, u'useful': 0, u'cool': 1}</td>\n",
       "      <td>0</td>\n",
       "      <td>1</td>\n",
       "      <td>1</td>\n",
       "      <td>Salsarita's Express</td>\n",
       "    </tr>\n",
       "    <tr>\n",
       "      <th>101001</th>\n",
       "      <td>DH2Ujt_hwcMBIz8VvCb0Lg</td>\n",
       "      <td>2014-03-02</td>\n",
       "      <td>HyTJ9bUMWGIOP-xd1aQK9g</td>\n",
       "      <td>4</td>\n",
       "      <td>Veggie burrito was very good. Try the NoDa bee...</td>\n",
       "      <td>review</td>\n",
       "      <td>qA77FtD0BotauBJ4fZhaGQ</td>\n",
       "      <td>{u'funny': 0, u'useful': 0, u'cool': 0}</td>\n",
       "      <td>0</td>\n",
       "      <td>0</td>\n",
       "      <td>0</td>\n",
       "      <td>Salsarita's Express</td>\n",
       "    </tr>\n",
       "    <tr>\n",
       "      <th>101002</th>\n",
       "      <td>DH2Ujt_hwcMBIz8VvCb0Lg</td>\n",
       "      <td>2014-03-11</td>\n",
       "      <td>A1Nus8MDhhEdV6TpgqRELw</td>\n",
       "      <td>4</td>\n",
       "      <td>Above average airport food. I ordered the chic...</td>\n",
       "      <td>review</td>\n",
       "      <td>vM_VJVpUGzTsRGnxiCwfMA</td>\n",
       "      <td>{u'funny': 0, u'useful': 0, u'cool': 0}</td>\n",
       "      <td>0</td>\n",
       "      <td>0</td>\n",
       "      <td>0</td>\n",
       "      <td>Salsarita's Express</td>\n",
       "    </tr>\n",
       "    <tr>\n",
       "      <th>101003</th>\n",
       "      <td>DH2Ujt_hwcMBIz8VvCb0Lg</td>\n",
       "      <td>2014-04-15</td>\n",
       "      <td>HHpdyPPw5EC4RMaEtUSnoA</td>\n",
       "      <td>2</td>\n",
       "      <td>Ridiculously small portions for the amount you...</td>\n",
       "      <td>review</td>\n",
       "      <td>zBiO7VJLagYTcOw5lZk46w</td>\n",
       "      <td>{u'funny': 0, u'useful': 0, u'cool': 1}</td>\n",
       "      <td>0</td>\n",
       "      <td>0</td>\n",
       "      <td>1</td>\n",
       "      <td>Salsarita's Express</td>\n",
       "    </tr>\n",
       "    <tr>\n",
       "      <th>101004</th>\n",
       "      <td>DH2Ujt_hwcMBIz8VvCb0Lg</td>\n",
       "      <td>2014-05-27</td>\n",
       "      <td>dhd63s5LWn9pLJigzRQD8w</td>\n",
       "      <td>1</td>\n",
       "      <td>One star is too generous. You couldn't serve t...</td>\n",
       "      <td>review</td>\n",
       "      <td>MFMP3evjyMXnQ8qYpdad4w</td>\n",
       "      <td>{u'funny': 0, u'useful': 0, u'cool': 1}</td>\n",
       "      <td>0</td>\n",
       "      <td>0</td>\n",
       "      <td>1</td>\n",
       "      <td>Salsarita's Express</td>\n",
       "    </tr>\n",
       "    <tr>\n",
       "      <th>101005</th>\n",
       "      <td>DH2Ujt_hwcMBIz8VvCb0Lg</td>\n",
       "      <td>2014-06-04</td>\n",
       "      <td>VG5ZAAPqoJYCiCJMV2Iq_A</td>\n",
       "      <td>5</td>\n",
       "      <td>Fast, fresh, always reliable. I had a salsarit...</td>\n",
       "      <td>review</td>\n",
       "      <td>5CSjph9Z0anGB7G8FbqJfw</td>\n",
       "      <td>{u'funny': 0, u'useful': 0, u'cool': 0}</td>\n",
       "      <td>0</td>\n",
       "      <td>0</td>\n",
       "      <td>0</td>\n",
       "      <td>Salsarita's Express</td>\n",
       "    </tr>\n",
       "    <tr>\n",
       "      <th>101006</th>\n",
       "      <td>DH2Ujt_hwcMBIz8VvCb0Lg</td>\n",
       "      <td>2014-07-21</td>\n",
       "      <td>kQsG0DmEohYyXFo9A2APmw</td>\n",
       "      <td>2</td>\n",
       "      <td>I was hungry. But I'm disappointed in Salsarit...</td>\n",
       "      <td>review</td>\n",
       "      <td>DW81Wx5rZOqYF6-kWRUcTQ</td>\n",
       "      <td>{u'funny': 0, u'useful': 0, u'cool': 0}</td>\n",
       "      <td>0</td>\n",
       "      <td>0</td>\n",
       "      <td>0</td>\n",
       "      <td>Salsarita's Express</td>\n",
       "    </tr>\n",
       "    <tr>\n",
       "      <th>101007</th>\n",
       "      <td>DH2Ujt_hwcMBIz8VvCb0Lg</td>\n",
       "      <td>2014-08-04</td>\n",
       "      <td>mUJ4uRprPwA2L5KqVOaKxA</td>\n",
       "      <td>3</td>\n",
       "      <td>We came here for lunch while waiting for our n...</td>\n",
       "      <td>review</td>\n",
       "      <td>p6IhU51-9o16DHu5dJOnZw</td>\n",
       "      <td>{u'funny': 0, u'useful': 0, u'cool': 0}</td>\n",
       "      <td>0</td>\n",
       "      <td>0</td>\n",
       "      <td>0</td>\n",
       "      <td>Salsarita's Express</td>\n",
       "    </tr>\n",
       "    <tr>\n",
       "      <th>101008</th>\n",
       "      <td>DH2Ujt_hwcMBIz8VvCb0Lg</td>\n",
       "      <td>2014-09-16</td>\n",
       "      <td>o2Ek6fu3MdLxuqHPlFRxrw</td>\n",
       "      <td>4</td>\n",
       "      <td>It's Mexican-American fast food in an airport'...</td>\n",
       "      <td>review</td>\n",
       "      <td>3IsxbQ_asUUq-LtBj3iqqA</td>\n",
       "      <td>{u'funny': 0, u'useful': 1, u'cool': 1}</td>\n",
       "      <td>1</td>\n",
       "      <td>0</td>\n",
       "      <td>1</td>\n",
       "      <td>Salsarita's Express</td>\n",
       "    </tr>\n",
       "    <tr>\n",
       "      <th>101009</th>\n",
       "      <td>DH2Ujt_hwcMBIz8VvCb0Lg</td>\n",
       "      <td>2014-09-29</td>\n",
       "      <td>TqjYJj2FVn5X1sScBq1X3g</td>\n",
       "      <td>4</td>\n",
       "      <td>This was my first visit to a Salsarita's Expre...</td>\n",
       "      <td>review</td>\n",
       "      <td>oIPbHxBdL12CyhOViGxJLg</td>\n",
       "      <td>{u'funny': 0, u'useful': 1, u'cool': 0}</td>\n",
       "      <td>1</td>\n",
       "      <td>0</td>\n",
       "      <td>0</td>\n",
       "      <td>Salsarita's Express</td>\n",
       "    </tr>\n",
       "    <tr>\n",
       "      <th>101010</th>\n",
       "      <td>DH2Ujt_hwcMBIz8VvCb0Lg</td>\n",
       "      <td>2014-10-08</td>\n",
       "      <td>HGTGNVQmdxRX3m8BppDMdQ</td>\n",
       "      <td>1</td>\n",
       "      <td>Sorry, if you are going to sell burritos and c...</td>\n",
       "      <td>review</td>\n",
       "      <td>Z_tsobgJkCmCQesa7_llqw</td>\n",
       "      <td>{u'funny': 0, u'useful': 0, u'cool': 0}</td>\n",
       "      <td>0</td>\n",
       "      <td>0</td>\n",
       "      <td>0</td>\n",
       "      <td>Salsarita's Express</td>\n",
       "    </tr>\n",
       "    <tr>\n",
       "      <th>101011</th>\n",
       "      <td>DH2Ujt_hwcMBIz8VvCb0Lg</td>\n",
       "      <td>2014-10-18</td>\n",
       "      <td>D9DyZTzSFgGlHwqN33qHzA</td>\n",
       "      <td>3</td>\n",
       "      <td>Meh, bland food and a # 2 between the two othe...</td>\n",
       "      <td>review</td>\n",
       "      <td>mIF6n9Qc4eLIgzeDBfLPGw</td>\n",
       "      <td>{u'funny': 0, u'useful': 0, u'cool': 0}</td>\n",
       "      <td>0</td>\n",
       "      <td>0</td>\n",
       "      <td>0</td>\n",
       "      <td>Salsarita's Express</td>\n",
       "    </tr>\n",
       "    <tr>\n",
       "      <th>101012</th>\n",
       "      <td>DH2Ujt_hwcMBIz8VvCb0Lg</td>\n",
       "      <td>2014-11-05</td>\n",
       "      <td>ydgp0oWl2EWcubjAlr2rnA</td>\n",
       "      <td>3</td>\n",
       "      <td>After a night spent in the airport, my dad and...</td>\n",
       "      <td>review</td>\n",
       "      <td>TxmObr4H5JfiG1nwxHgTdg</td>\n",
       "      <td>{u'funny': 0, u'useful': 1, u'cool': 1}</td>\n",
       "      <td>1</td>\n",
       "      <td>0</td>\n",
       "      <td>1</td>\n",
       "      <td>Salsarita's Express</td>\n",
       "    </tr>\n",
       "    <tr>\n",
       "      <th>101013</th>\n",
       "      <td>DH2Ujt_hwcMBIz8VvCb0Lg</td>\n",
       "      <td>2014-11-18</td>\n",
       "      <td>1xw0W3yXtJeDTvBeuMmpOA</td>\n",
       "      <td>1</td>\n",
       "      <td>Regrettable experience. Thank you for introduc...</td>\n",
       "      <td>review</td>\n",
       "      <td>jlv2f2AAejh0cPUmik8sFg</td>\n",
       "      <td>{u'funny': 0, u'useful': 0, u'cool': 0}</td>\n",
       "      <td>0</td>\n",
       "      <td>0</td>\n",
       "      <td>0</td>\n",
       "      <td>Salsarita's Express</td>\n",
       "    </tr>\n",
       "    <tr>\n",
       "      <th>101014</th>\n",
       "      <td>DH2Ujt_hwcMBIz8VvCb0Lg</td>\n",
       "      <td>2014-11-26</td>\n",
       "      <td>2-5nIMeoagSalI4z2dYQjQ</td>\n",
       "      <td>4</td>\n",
       "      <td>This is just another one of the many burrito a...</td>\n",
       "      <td>review</td>\n",
       "      <td>NGHgWqHaCXHwNHXstSpUMA</td>\n",
       "      <td>{u'funny': 0, u'useful': 0, u'cool': 0}</td>\n",
       "      <td>0</td>\n",
       "      <td>0</td>\n",
       "      <td>0</td>\n",
       "      <td>Salsarita's Express</td>\n",
       "    </tr>\n",
       "    <tr>\n",
       "      <th>101015</th>\n",
       "      <td>DH2Ujt_hwcMBIz8VvCb0Lg</td>\n",
       "      <td>2014-12-23</td>\n",
       "      <td>mOCW6_YWPKwFYp9qNHmW_w</td>\n",
       "      <td>1</td>\n",
       "      <td>Bland burrito (even with salsa, cilantro, onio...</td>\n",
       "      <td>review</td>\n",
       "      <td>U8gvBBxYN0bVS-qvDkWYVg</td>\n",
       "      <td>{u'funny': 0, u'useful': 0, u'cool': 0}</td>\n",
       "      <td>0</td>\n",
       "      <td>0</td>\n",
       "      <td>0</td>\n",
       "      <td>Salsarita's Express</td>\n",
       "    </tr>\n",
       "    <tr>\n",
       "      <th>101016</th>\n",
       "      <td>DH2Ujt_hwcMBIz8VvCb0Lg</td>\n",
       "      <td>2015-01-01</td>\n",
       "      <td>ZN0cH8L6vPnjoXHOYvehVg</td>\n",
       "      <td>3</td>\n",
       "      <td>Not bad, not great. The better realization her...</td>\n",
       "      <td>review</td>\n",
       "      <td>IRI2D6hEQYIpJSJ1UeqW0A</td>\n",
       "      <td>{u'funny': 0, u'useful': 0, u'cool': 2}</td>\n",
       "      <td>0</td>\n",
       "      <td>0</td>\n",
       "      <td>2</td>\n",
       "      <td>Salsarita's Express</td>\n",
       "    </tr>\n",
       "    <tr>\n",
       "      <th>101017</th>\n",
       "      <td>DH2Ujt_hwcMBIz8VvCb0Lg</td>\n",
       "      <td>2015-02-10</td>\n",
       "      <td>c762HsBx1BKcard1cMdreg</td>\n",
       "      <td>1</td>\n",
       "      <td>Well, I would've loved to have visited either ...</td>\n",
       "      <td>review</td>\n",
       "      <td>JH4-alrN6saA6nB12zmP7A</td>\n",
       "      <td>{u'funny': 0, u'useful': 0, u'cool': 0}</td>\n",
       "      <td>0</td>\n",
       "      <td>0</td>\n",
       "      <td>0</td>\n",
       "      <td>Salsarita's Express</td>\n",
       "    </tr>\n",
       "    <tr>\n",
       "      <th>101018</th>\n",
       "      <td>DH2Ujt_hwcMBIz8VvCb0Lg</td>\n",
       "      <td>2015-03-30</td>\n",
       "      <td>6S4ZnmMCUPXMY2eRfwDSAw</td>\n",
       "      <td>1</td>\n",
       "      <td>Pretty bad attempt at quick TeX/Mex ... Ingred...</td>\n",
       "      <td>review</td>\n",
       "      <td>sxY1ndsbZbBlsfjv-IESIQ</td>\n",
       "      <td>{u'funny': 1, u'useful': 2, u'cool': 1}</td>\n",
       "      <td>2</td>\n",
       "      <td>1</td>\n",
       "      <td>1</td>\n",
       "      <td>Salsarita's Express</td>\n",
       "    </tr>\n",
       "    <tr>\n",
       "      <th>101019</th>\n",
       "      <td>DH2Ujt_hwcMBIz8VvCb0Lg</td>\n",
       "      <td>2015-05-02</td>\n",
       "      <td>Ysu-A4NML7q8udxUF0x3nA</td>\n",
       "      <td>2</td>\n",
       "      <td>This place has no idea how to make a burrito. ...</td>\n",
       "      <td>review</td>\n",
       "      <td>197Mb6U0XNt1S5qgzLMDjA</td>\n",
       "      <td>{u'funny': 0, u'useful': 0, u'cool': 0}</td>\n",
       "      <td>0</td>\n",
       "      <td>0</td>\n",
       "      <td>0</td>\n",
       "      <td>Salsarita's Express</td>\n",
       "    </tr>\n",
       "    <tr>\n",
       "      <th>101020</th>\n",
       "      <td>DH2Ujt_hwcMBIz8VvCb0Lg</td>\n",
       "      <td>2015-05-13</td>\n",
       "      <td>BISNCGNjUMX82kAJb-rwFw</td>\n",
       "      <td>2</td>\n",
       "      <td>Vegan option when stuck in the airport\\n\\nSinc...</td>\n",
       "      <td>review</td>\n",
       "      <td>q1-v25WW__wFZ1tyzLuw4w</td>\n",
       "      <td>{u'funny': 0, u'useful': 0, u'cool': 0}</td>\n",
       "      <td>0</td>\n",
       "      <td>0</td>\n",
       "      <td>0</td>\n",
       "      <td>Salsarita's Express</td>\n",
       "    </tr>\n",
       "    <tr>\n",
       "      <th>101021</th>\n",
       "      <td>DH2Ujt_hwcMBIz8VvCb0Lg</td>\n",
       "      <td>2015-06-07</td>\n",
       "      <td>0oR8MiLELFhDumO0hl3JqQ</td>\n",
       "      <td>2</td>\n",
       "      <td>Had the bacon breakfast burrito.  Looked horri...</td>\n",
       "      <td>review</td>\n",
       "      <td>nb1FuDOFJ6Z_0T8lGFs1qg</td>\n",
       "      <td>{u'funny': 0, u'useful': 0, u'cool': 0}</td>\n",
       "      <td>0</td>\n",
       "      <td>0</td>\n",
       "      <td>0</td>\n",
       "      <td>Salsarita's Express</td>\n",
       "    </tr>\n",
       "    <tr>\n",
       "      <th>101022</th>\n",
       "      <td>DH2Ujt_hwcMBIz8VvCb0Lg</td>\n",
       "      <td>2015-08-16</td>\n",
       "      <td>FCIQJa245FX1xPr-dH1vfQ</td>\n",
       "      <td>3</td>\n",
       "      <td>More like 3.5\\n\\nLocated in the E terminal aro...</td>\n",
       "      <td>review</td>\n",
       "      <td>Z9pzYFB9JxsXQNkipl4Vzg</td>\n",
       "      <td>{u'funny': 1, u'useful': 0, u'cool': 1}</td>\n",
       "      <td>0</td>\n",
       "      <td>1</td>\n",
       "      <td>1</td>\n",
       "      <td>Salsarita's Express</td>\n",
       "    </tr>\n",
       "    <tr>\n",
       "      <th>101023</th>\n",
       "      <td>DH2Ujt_hwcMBIz8VvCb0Lg</td>\n",
       "      <td>2015-09-27</td>\n",
       "      <td>5Exv3_tg3H0sAT1B6dDftQ</td>\n",
       "      <td>4</td>\n",
       "      <td>Airport breakfast is a tricky thing. If you ha...</td>\n",
       "      <td>review</td>\n",
       "      <td>FvjQH_b5CcYSo8N_vgp1NA</td>\n",
       "      <td>{u'funny': 0, u'useful': 0, u'cool': 0}</td>\n",
       "      <td>0</td>\n",
       "      <td>0</td>\n",
       "      <td>0</td>\n",
       "      <td>Salsarita's Express</td>\n",
       "    </tr>\n",
       "    <tr>\n",
       "      <th>101024</th>\n",
       "      <td>DH2Ujt_hwcMBIz8VvCb0Lg</td>\n",
       "      <td>2015-10-14</td>\n",
       "      <td>OtF6XmeDXkmrtC2Z4826Ig</td>\n",
       "      <td>3</td>\n",
       "      <td>Short and simple here: the food was hot, the s...</td>\n",
       "      <td>review</td>\n",
       "      <td>GZRPguYmoN7YchKvXXvE2w</td>\n",
       "      <td>{u'funny': 0, u'useful': 0, u'cool': 0}</td>\n",
       "      <td>0</td>\n",
       "      <td>0</td>\n",
       "      <td>0</td>\n",
       "      <td>Salsarita's Express</td>\n",
       "    </tr>\n",
       "    <tr>\n",
       "      <th>101025</th>\n",
       "      <td>DH2Ujt_hwcMBIz8VvCb0Lg</td>\n",
       "      <td>2015-11-23</td>\n",
       "      <td>5-pv7M86ZdrXjfHPkPsZug</td>\n",
       "      <td>1</td>\n",
       "      <td>Still sick. Do not eat here unless you want to...</td>\n",
       "      <td>review</td>\n",
       "      <td>kONznNes89LWlc1jcZtD0A</td>\n",
       "      <td>{u'funny': 0, u'useful': 0, u'cool': 0}</td>\n",
       "      <td>0</td>\n",
       "      <td>0</td>\n",
       "      <td>0</td>\n",
       "      <td>Salsarita's Express</td>\n",
       "    </tr>\n",
       "    <tr>\n",
       "      <th>101026</th>\n",
       "      <td>DH2Ujt_hwcMBIz8VvCb0Lg</td>\n",
       "      <td>2015-11-24</td>\n",
       "      <td>MjGrqy30haStX4Q6SWsdcg</td>\n",
       "      <td>1</td>\n",
       "      <td>This place sucks especially the white manager ...</td>\n",
       "      <td>review</td>\n",
       "      <td>6jXm3mrRGAPRENujxhlRpw</td>\n",
       "      <td>{u'funny': 0, u'useful': 0, u'cool': 0}</td>\n",
       "      <td>0</td>\n",
       "      <td>0</td>\n",
       "      <td>0</td>\n",
       "      <td>Salsarita's Express</td>\n",
       "    </tr>\n",
       "    <tr>\n",
       "      <th>101027</th>\n",
       "      <td>DH2Ujt_hwcMBIz8VvCb0Lg</td>\n",
       "      <td>2016-02-13</td>\n",
       "      <td>7ZfVeWubWTleBJUXXMPl_w</td>\n",
       "      <td>3</td>\n",
       "      <td>Not a bad stop for airport food. I got the chi...</td>\n",
       "      <td>review</td>\n",
       "      <td>D8AR0UYdlHClqcjARPEr8Q</td>\n",
       "      <td>{u'funny': 0, u'useful': 0, u'cool': 0}</td>\n",
       "      <td>0</td>\n",
       "      <td>0</td>\n",
       "      <td>0</td>\n",
       "      <td>Salsarita's Express</td>\n",
       "    </tr>\n",
       "    <tr>\n",
       "      <th>101028</th>\n",
       "      <td>DH2Ujt_hwcMBIz8VvCb0Lg</td>\n",
       "      <td>2016-04-30</td>\n",
       "      <td>vwmqHxxmy9rEAwhbkLXmnQ</td>\n",
       "      <td>3</td>\n",
       "      <td>He stood in the face of a 2.5 star biz, and br...</td>\n",
       "      <td>review</td>\n",
       "      <td>nELVJlkX8T0mUAArSPSJxw</td>\n",
       "      <td>{u'funny': 5, u'useful': 4, u'cool': 4}</td>\n",
       "      <td>4</td>\n",
       "      <td>5</td>\n",
       "      <td>4</td>\n",
       "      <td>Salsarita's Express</td>\n",
       "    </tr>\n",
       "    <tr>\n",
       "      <th>101029</th>\n",
       "      <td>DH2Ujt_hwcMBIz8VvCb0Lg</td>\n",
       "      <td>2016-07-11</td>\n",
       "      <td>DDmiTM_jMhshjYkXk5Sshg</td>\n",
       "      <td>1</td>\n",
       "      <td>2 pm Monday afternoon. Out of sour cream (ridi...</td>\n",
       "      <td>review</td>\n",
       "      <td>maAimqEE4G483rtifPKlYg</td>\n",
       "      <td>{u'funny': 0, u'useful': 0, u'cool': 0}</td>\n",
       "      <td>0</td>\n",
       "      <td>0</td>\n",
       "      <td>0</td>\n",
       "      <td>Salsarita's Express</td>\n",
       "    </tr>\n",
       "  </tbody>\n",
       "</table>\n",
       "<p>101030 rows × 12 columns</p>\n",
       "</div>"
      ],
      "text/plain": [
       "                   business_id        date               review_id  stars  \\\n",
       "0       Gw5POFxBRoJxN_ZYhk6lgQ  2010-12-31  5jK4kzMbk5_2uFlW6SBqdQ      4   \n",
       "1       Gw5POFxBRoJxN_ZYhk6lgQ  2011-07-18  GLBryAnx1thVohzWc1nV_A      5   \n",
       "2       Gw5POFxBRoJxN_ZYhk6lgQ  2012-09-19  ZXPMc6Lc4V7nqknsJ13u9A      4   \n",
       "3       Gw5POFxBRoJxN_ZYhk6lgQ  2012-12-29  DttWnjejrfXUDiZzC0aFAg      3   \n",
       "4       Gw5POFxBRoJxN_ZYhk6lgQ  2013-06-16  zI76vgTW_MxrqEhl31FuZw      3   \n",
       "5       Gw5POFxBRoJxN_ZYhk6lgQ  2013-11-10  LNbRXormHaHJv8Cm_7tuiA      5   \n",
       "6       Gw5POFxBRoJxN_ZYhk6lgQ  2014-05-25  a5prO8UITURPC_iaQBalgw      1   \n",
       "7       Gw5POFxBRoJxN_ZYhk6lgQ  2014-10-08  N_1pNPbWuvGoyU3o0Eg8jg      5   \n",
       "8       Gw5POFxBRoJxN_ZYhk6lgQ  2015-03-06  kzzKuCzP0xekcBRPiMBTkA      5   \n",
       "9       Gw5POFxBRoJxN_ZYhk6lgQ  2015-09-18  deDcy6pD4CjOK7ceWx9nGQ      3   \n",
       "10      Gw5POFxBRoJxN_ZYhk6lgQ  2015-10-11  4je8X_3MOAwBRJ0PDkCX1A      5   \n",
       "11      Gw5POFxBRoJxN_ZYhk6lgQ  2015-11-30  uUaq4_hH71Z6_zerWZ8PBg      2   \n",
       "12      Gw5POFxBRoJxN_ZYhk6lgQ  2015-12-15  CZh6ah4XLji5WSFaeml98g      4   \n",
       "13      Gw5POFxBRoJxN_ZYhk6lgQ  2016-01-20  wTfUM3KPOuNvTQTLha2A5A      4   \n",
       "14      Gw5POFxBRoJxN_ZYhk6lgQ  2016-04-03  ZDkJbfdXYAHsLsQQb63M5w      5   \n",
       "15      MMgjU4K0D9RLsb7BWEic4g  2011-12-16  tPDyoDKN0QWAYbg-ICmH_Q      5   \n",
       "16      MMgjU4K0D9RLsb7BWEic4g  2014-04-09  X9jq6hVw-_lDHMMjbzeGmA      5   \n",
       "17      MMgjU4K0D9RLsb7BWEic4g  2014-07-01  cYYbKvlnIdzOYuVoJ60iAQ      4   \n",
       "18      MMgjU4K0D9RLsb7BWEic4g  2015-01-11  Au2TsisbBzT1X0kkcIZM0A      4   \n",
       "19      MMgjU4K0D9RLsb7BWEic4g  2015-02-09  laccFK_HZclYne2OpOrjLQ      1   \n",
       "20      MMgjU4K0D9RLsb7BWEic4g  2015-09-26  TEFR0-Fqnyd-DK64Kq1_UQ      1   \n",
       "21      MMgjU4K0D9RLsb7BWEic4g  2015-12-01  LKIaSFoj6AUjCRwUhAsQlQ      1   \n",
       "22      MMgjU4K0D9RLsb7BWEic4g  2016-02-29  jXn52ZdhOBCrzrXRABSnsA      4   \n",
       "23      LT0AgHTpDifuHSXgyLmJwg  2008-03-04  zwhFMmSutjMhLX4gHShAgw      3   \n",
       "24      LT0AgHTpDifuHSXgyLmJwg  2010-09-10  gvzsobteZDUwzZBTdfYFZA      4   \n",
       "25      LT0AgHTpDifuHSXgyLmJwg  2010-11-11  Qdq_4aJWLDr-HAkuiq9DVg      5   \n",
       "26      LT0AgHTpDifuHSXgyLmJwg  2010-12-11  Y2msN6DafdQpE-kJ_VAhFg      3   \n",
       "27      LT0AgHTpDifuHSXgyLmJwg  2011-02-06  CbzFp_cEeaupCgiCPR7j3A      5   \n",
       "28      LT0AgHTpDifuHSXgyLmJwg  2011-04-04  fuIwbWU2YYOCpF4h48agaQ      5   \n",
       "29      LT0AgHTpDifuHSXgyLmJwg  2011-07-30  JnaIl0ibK3nHM7UXyIrnlg      2   \n",
       "...                        ...         ...                     ...    ...   \n",
       "101000  DH2Ujt_hwcMBIz8VvCb0Lg  2014-02-21  kwRUY7VXR3djfcCN5MnLHg      2   \n",
       "101001  DH2Ujt_hwcMBIz8VvCb0Lg  2014-03-02  HyTJ9bUMWGIOP-xd1aQK9g      4   \n",
       "101002  DH2Ujt_hwcMBIz8VvCb0Lg  2014-03-11  A1Nus8MDhhEdV6TpgqRELw      4   \n",
       "101003  DH2Ujt_hwcMBIz8VvCb0Lg  2014-04-15  HHpdyPPw5EC4RMaEtUSnoA      2   \n",
       "101004  DH2Ujt_hwcMBIz8VvCb0Lg  2014-05-27  dhd63s5LWn9pLJigzRQD8w      1   \n",
       "101005  DH2Ujt_hwcMBIz8VvCb0Lg  2014-06-04  VG5ZAAPqoJYCiCJMV2Iq_A      5   \n",
       "101006  DH2Ujt_hwcMBIz8VvCb0Lg  2014-07-21  kQsG0DmEohYyXFo9A2APmw      2   \n",
       "101007  DH2Ujt_hwcMBIz8VvCb0Lg  2014-08-04  mUJ4uRprPwA2L5KqVOaKxA      3   \n",
       "101008  DH2Ujt_hwcMBIz8VvCb0Lg  2014-09-16  o2Ek6fu3MdLxuqHPlFRxrw      4   \n",
       "101009  DH2Ujt_hwcMBIz8VvCb0Lg  2014-09-29  TqjYJj2FVn5X1sScBq1X3g      4   \n",
       "101010  DH2Ujt_hwcMBIz8VvCb0Lg  2014-10-08  HGTGNVQmdxRX3m8BppDMdQ      1   \n",
       "101011  DH2Ujt_hwcMBIz8VvCb0Lg  2014-10-18  D9DyZTzSFgGlHwqN33qHzA      3   \n",
       "101012  DH2Ujt_hwcMBIz8VvCb0Lg  2014-11-05  ydgp0oWl2EWcubjAlr2rnA      3   \n",
       "101013  DH2Ujt_hwcMBIz8VvCb0Lg  2014-11-18  1xw0W3yXtJeDTvBeuMmpOA      1   \n",
       "101014  DH2Ujt_hwcMBIz8VvCb0Lg  2014-11-26  2-5nIMeoagSalI4z2dYQjQ      4   \n",
       "101015  DH2Ujt_hwcMBIz8VvCb0Lg  2014-12-23  mOCW6_YWPKwFYp9qNHmW_w      1   \n",
       "101016  DH2Ujt_hwcMBIz8VvCb0Lg  2015-01-01  ZN0cH8L6vPnjoXHOYvehVg      3   \n",
       "101017  DH2Ujt_hwcMBIz8VvCb0Lg  2015-02-10  c762HsBx1BKcard1cMdreg      1   \n",
       "101018  DH2Ujt_hwcMBIz8VvCb0Lg  2015-03-30  6S4ZnmMCUPXMY2eRfwDSAw      1   \n",
       "101019  DH2Ujt_hwcMBIz8VvCb0Lg  2015-05-02  Ysu-A4NML7q8udxUF0x3nA      2   \n",
       "101020  DH2Ujt_hwcMBIz8VvCb0Lg  2015-05-13  BISNCGNjUMX82kAJb-rwFw      2   \n",
       "101021  DH2Ujt_hwcMBIz8VvCb0Lg  2015-06-07  0oR8MiLELFhDumO0hl3JqQ      2   \n",
       "101022  DH2Ujt_hwcMBIz8VvCb0Lg  2015-08-16  FCIQJa245FX1xPr-dH1vfQ      3   \n",
       "101023  DH2Ujt_hwcMBIz8VvCb0Lg  2015-09-27  5Exv3_tg3H0sAT1B6dDftQ      4   \n",
       "101024  DH2Ujt_hwcMBIz8VvCb0Lg  2015-10-14  OtF6XmeDXkmrtC2Z4826Ig      3   \n",
       "101025  DH2Ujt_hwcMBIz8VvCb0Lg  2015-11-23  5-pv7M86ZdrXjfHPkPsZug      1   \n",
       "101026  DH2Ujt_hwcMBIz8VvCb0Lg  2015-11-24  MjGrqy30haStX4Q6SWsdcg      1   \n",
       "101027  DH2Ujt_hwcMBIz8VvCb0Lg  2016-02-13  7ZfVeWubWTleBJUXXMPl_w      3   \n",
       "101028  DH2Ujt_hwcMBIz8VvCb0Lg  2016-04-30  vwmqHxxmy9rEAwhbkLXmnQ      3   \n",
       "101029  DH2Ujt_hwcMBIz8VvCb0Lg  2016-07-11  DDmiTM_jMhshjYkXk5Sshg      1   \n",
       "\n",
       "                                                     text    type  \\\n",
       "0       In the Pineville area and need a quick breakfa...  review   \n",
       "1       I came here for the first time and was so happ...  review   \n",
       "2       This place is an awesome!\\n\\nThe bagels are fr...  review   \n",
       "3       I have mixed feelings about Bruegger's but I s...  review   \n",
       "4       Brueggers Bagels when hot and fresh the bagel ...  review   \n",
       "5       Great bagles and great ciabatta! We had one of...  review   \n",
       "6       Cream cheese skimp alert!! We pay ~$7 per smok...  review   \n",
       "7       Admittedly, the grump factor is high in some o...  review   \n",
       "8       Truly one of the BEST bagels I have ever had. ...  review   \n",
       "9       I'm all about a good cup of joe with my bagel....  review   \n",
       "10      I will be here every time I'm in the area. So ...  review   \n",
       "11      The bagels was nice but I was the only one in ...  review   \n",
       "12      Came here one morning. There was a line but it...  review   \n",
       "13      Normally I wouldn't rate a fast food place a 4...  review   \n",
       "14      What a wonderful place for a quick breakfast! ...  review   \n",
       "15      I cannot tell a lie! GULP. When the urge for a...  review   \n",
       "16      THIS location is the best! I do not know about...  review   \n",
       "17      We've been ordering pizza from here for 20 yea...  review   \n",
       "18      OK, I gave up on Dominos a while ago for bette...  review   \n",
       "19      I really love Domino's so today when I saw on ...  review   \n",
       "20      Just ordered a pizza at midnight i called it i...  review   \n",
       "21      Love the online tracking, never had any delive...  review   \n",
       "22      Whoever makes the pizzas must not like mushroo...  review   \n",
       "23      Green's has been here for a long time, and is ...  review   \n",
       "24      Loved this place.  It isn't the nicest/cleanes...  review   \n",
       "25      I have been eating at greens since I was a lit...  review   \n",
       "26      I had a BLT and cheese fries. The BLT and Chee...  review   \n",
       "27      This small gem has been around since little He...  review   \n",
       "28      Center of the hot dog universe! Been eating he...  review   \n",
       "29      I had two dogs, fries, and a coke for lunch.  ...  review   \n",
       "...                                                   ...     ...   \n",
       "101000  Bland airport Mexican food that doesn't satisf...  review   \n",
       "101001  Veggie burrito was very good. Try the NoDa bee...  review   \n",
       "101002  Above average airport food. I ordered the chic...  review   \n",
       "101003  Ridiculously small portions for the amount you...  review   \n",
       "101004  One star is too generous. You couldn't serve t...  review   \n",
       "101005  Fast, fresh, always reliable. I had a salsarit...  review   \n",
       "101006  I was hungry. But I'm disappointed in Salsarit...  review   \n",
       "101007  We came here for lunch while waiting for our n...  review   \n",
       "101008  It's Mexican-American fast food in an airport'...  review   \n",
       "101009  This was my first visit to a Salsarita's Expre...  review   \n",
       "101010  Sorry, if you are going to sell burritos and c...  review   \n",
       "101011  Meh, bland food and a # 2 between the two othe...  review   \n",
       "101012  After a night spent in the airport, my dad and...  review   \n",
       "101013  Regrettable experience. Thank you for introduc...  review   \n",
       "101014  This is just another one of the many burrito a...  review   \n",
       "101015  Bland burrito (even with salsa, cilantro, onio...  review   \n",
       "101016  Not bad, not great. The better realization her...  review   \n",
       "101017  Well, I would've loved to have visited either ...  review   \n",
       "101018  Pretty bad attempt at quick TeX/Mex ... Ingred...  review   \n",
       "101019  This place has no idea how to make a burrito. ...  review   \n",
       "101020  Vegan option when stuck in the airport\\n\\nSinc...  review   \n",
       "101021  Had the bacon breakfast burrito.  Looked horri...  review   \n",
       "101022  More like 3.5\\n\\nLocated in the E terminal aro...  review   \n",
       "101023  Airport breakfast is a tricky thing. If you ha...  review   \n",
       "101024  Short and simple here: the food was hot, the s...  review   \n",
       "101025  Still sick. Do not eat here unless you want to...  review   \n",
       "101026  This place sucks especially the white manager ...  review   \n",
       "101027  Not a bad stop for airport food. I got the chi...  review   \n",
       "101028  He stood in the face of a 2.5 star biz, and br...  review   \n",
       "101029  2 pm Monday afternoon. Out of sour cream (ridi...  review   \n",
       "\n",
       "                       user_id                                    votes  \\\n",
       "0       whKpnugMnWTz3UjlrN71yg  {u'funny': 1, u'useful': 1, u'cool': 1}   \n",
       "1       4522K1jh68XVpUsPh-5I7A  {u'funny': 0, u'useful': 0, u'cool': 0}   \n",
       "2       PM2jXrlVzik1jDwwahLJJQ  {u'funny': 0, u'useful': 0, u'cool': 0}   \n",
       "3       naBs2Kg2KClrKcoRgFE2eA  {u'funny': 0, u'useful': 0, u'cool': 0}   \n",
       "4       mHGxSFGMYj4uDap-fcAvaw  {u'funny': 0, u'useful': 0, u'cool': 0}   \n",
       "5       izn2q7eRSq4XtlJMzoaonA  {u'funny': 0, u'useful': 0, u'cool': 0}   \n",
       "6       sc8OSFfftZk8dvJiKaH1Dg  {u'funny': 0, u'useful': 0, u'cool': 0}   \n",
       "7       LkfzD47YI70jabh_9ViFdg  {u'funny': 0, u'useful': 0, u'cool': 0}   \n",
       "8       4FQPzJqtRi94aZWJ9Xo5iA  {u'funny': 0, u'useful': 0, u'cool': 0}   \n",
       "9       -Q00KxShmMTQB50HZCfJ-Q  {u'funny': 0, u'useful': 0, u'cool': 0}   \n",
       "10      AIY4Fmpj-ajPAhG8kh7gFA  {u'funny': 1, u'useful': 2, u'cool': 1}   \n",
       "11      VkgLupJTf7AMBHfVYFblWQ  {u'funny': 0, u'useful': 0, u'cool': 0}   \n",
       "12      uc4QurS1XrvyiIpne2IbhA  {u'funny': 1, u'useful': 1, u'cool': 1}   \n",
       "13      Ocwziueb8WOkcB0haJkL9A  {u'funny': 0, u'useful': 0, u'cool': 0}   \n",
       "14      znw7lax8yiISMhQq7Pu_Kw  {u'funny': 0, u'useful': 0, u'cool': 0}   \n",
       "15      A6bPFcUjuuayRBoyybedDQ  {u'funny': 5, u'useful': 0, u'cool': 0}   \n",
       "16      fXo7RWiS-U8zr4zImqIfLA  {u'funny': 0, u'useful': 0, u'cool': 0}   \n",
       "17      lmMjtEAtQYGuM6Zq3tPv5A  {u'funny': 0, u'useful': 0, u'cool': 0}   \n",
       "18      UUi-WIT8m3RszOfOh-hkHg  {u'funny': 0, u'useful': 0, u'cool': 0}   \n",
       "19      JH4-alrN6saA6nB12zmP7A  {u'funny': 0, u'useful': 0, u'cool': 0}   \n",
       "20      x1A9lIxl0sE_hvVS6vrMkA  {u'funny': 0, u'useful': 0, u'cool': 0}   \n",
       "21      9UHtKq9fUrxazpbjYl79HQ  {u'funny': 0, u'useful': 0, u'cool': 0}   \n",
       "22      HMgR5LYKyTSwP3AL9R6cgQ  {u'funny': 0, u'useful': 0, u'cool': 0}   \n",
       "23      3Gazlt5RwZQIu1ZWMwi0cg  {u'funny': 0, u'useful': 0, u'cool': 0}   \n",
       "24      afTF61m7-hcOWAZ-FXc86Q  {u'funny': 0, u'useful': 0, u'cool': 0}   \n",
       "25      D7i1VsUJmrdSOkxDKtPsNQ  {u'funny': 1, u'useful': 1, u'cool': 1}   \n",
       "26      VpVp2Ws2RZKWyy5mL3Rfdw  {u'funny': 0, u'useful': 0, u'cool': 0}   \n",
       "27      c6vXlUq_RJbxbV2CHGOl_Q  {u'funny': 1, u'useful': 5, u'cool': 1}   \n",
       "28      fH6BHji71m6KJS5G6-BKtA  {u'funny': 1, u'useful': 1, u'cool': 1}   \n",
       "29      jvpd48tfHfatu3Ttc5DuEg  {u'funny': 1, u'useful': 1, u'cool': 0}   \n",
       "...                        ...                                      ...   \n",
       "101000  g-5aOiGQbtlACKsWzb3-1g  {u'funny': 1, u'useful': 0, u'cool': 1}   \n",
       "101001  qA77FtD0BotauBJ4fZhaGQ  {u'funny': 0, u'useful': 0, u'cool': 0}   \n",
       "101002  vM_VJVpUGzTsRGnxiCwfMA  {u'funny': 0, u'useful': 0, u'cool': 0}   \n",
       "101003  zBiO7VJLagYTcOw5lZk46w  {u'funny': 0, u'useful': 0, u'cool': 1}   \n",
       "101004  MFMP3evjyMXnQ8qYpdad4w  {u'funny': 0, u'useful': 0, u'cool': 1}   \n",
       "101005  5CSjph9Z0anGB7G8FbqJfw  {u'funny': 0, u'useful': 0, u'cool': 0}   \n",
       "101006  DW81Wx5rZOqYF6-kWRUcTQ  {u'funny': 0, u'useful': 0, u'cool': 0}   \n",
       "101007  p6IhU51-9o16DHu5dJOnZw  {u'funny': 0, u'useful': 0, u'cool': 0}   \n",
       "101008  3IsxbQ_asUUq-LtBj3iqqA  {u'funny': 0, u'useful': 1, u'cool': 1}   \n",
       "101009  oIPbHxBdL12CyhOViGxJLg  {u'funny': 0, u'useful': 1, u'cool': 0}   \n",
       "101010  Z_tsobgJkCmCQesa7_llqw  {u'funny': 0, u'useful': 0, u'cool': 0}   \n",
       "101011  mIF6n9Qc4eLIgzeDBfLPGw  {u'funny': 0, u'useful': 0, u'cool': 0}   \n",
       "101012  TxmObr4H5JfiG1nwxHgTdg  {u'funny': 0, u'useful': 1, u'cool': 1}   \n",
       "101013  jlv2f2AAejh0cPUmik8sFg  {u'funny': 0, u'useful': 0, u'cool': 0}   \n",
       "101014  NGHgWqHaCXHwNHXstSpUMA  {u'funny': 0, u'useful': 0, u'cool': 0}   \n",
       "101015  U8gvBBxYN0bVS-qvDkWYVg  {u'funny': 0, u'useful': 0, u'cool': 0}   \n",
       "101016  IRI2D6hEQYIpJSJ1UeqW0A  {u'funny': 0, u'useful': 0, u'cool': 2}   \n",
       "101017  JH4-alrN6saA6nB12zmP7A  {u'funny': 0, u'useful': 0, u'cool': 0}   \n",
       "101018  sxY1ndsbZbBlsfjv-IESIQ  {u'funny': 1, u'useful': 2, u'cool': 1}   \n",
       "101019  197Mb6U0XNt1S5qgzLMDjA  {u'funny': 0, u'useful': 0, u'cool': 0}   \n",
       "101020  q1-v25WW__wFZ1tyzLuw4w  {u'funny': 0, u'useful': 0, u'cool': 0}   \n",
       "101021  nb1FuDOFJ6Z_0T8lGFs1qg  {u'funny': 0, u'useful': 0, u'cool': 0}   \n",
       "101022  Z9pzYFB9JxsXQNkipl4Vzg  {u'funny': 1, u'useful': 0, u'cool': 1}   \n",
       "101023  FvjQH_b5CcYSo8N_vgp1NA  {u'funny': 0, u'useful': 0, u'cool': 0}   \n",
       "101024  GZRPguYmoN7YchKvXXvE2w  {u'funny': 0, u'useful': 0, u'cool': 0}   \n",
       "101025  kONznNes89LWlc1jcZtD0A  {u'funny': 0, u'useful': 0, u'cool': 0}   \n",
       "101026  6jXm3mrRGAPRENujxhlRpw  {u'funny': 0, u'useful': 0, u'cool': 0}   \n",
       "101027  D8AR0UYdlHClqcjARPEr8Q  {u'funny': 0, u'useful': 0, u'cool': 0}   \n",
       "101028  nELVJlkX8T0mUAArSPSJxw  {u'funny': 5, u'useful': 4, u'cool': 4}   \n",
       "101029  maAimqEE4G483rtifPKlYg  {u'funny': 0, u'useful': 0, u'cool': 0}   \n",
       "\n",
       "        useful  funny  cool                 name  \n",
       "0            1      1     1    Bruegger's Bagels  \n",
       "1            0      0     0    Bruegger's Bagels  \n",
       "2            0      0     0    Bruegger's Bagels  \n",
       "3            0      0     0    Bruegger's Bagels  \n",
       "4            0      0     0    Bruegger's Bagels  \n",
       "5            0      0     0    Bruegger's Bagels  \n",
       "6            0      0     0    Bruegger's Bagels  \n",
       "7            0      0     0    Bruegger's Bagels  \n",
       "8            0      0     0    Bruegger's Bagels  \n",
       "9            0      0     0    Bruegger's Bagels  \n",
       "10           2      1     1    Bruegger's Bagels  \n",
       "11           0      0     0    Bruegger's Bagels  \n",
       "12           1      1     1    Bruegger's Bagels  \n",
       "13           0      0     0    Bruegger's Bagels  \n",
       "14           0      0     0    Bruegger's Bagels  \n",
       "15           0      5     0       Domino's Pizza  \n",
       "16           0      0     0       Domino's Pizza  \n",
       "17           0      0     0       Domino's Pizza  \n",
       "18           0      0     0       Domino's Pizza  \n",
       "19           0      0     0       Domino's Pizza  \n",
       "20           0      0     0       Domino's Pizza  \n",
       "21           0      0     0       Domino's Pizza  \n",
       "22           0      0     0       Domino's Pizza  \n",
       "23           0      0     0        Green's Lunch  \n",
       "24           0      0     0        Green's Lunch  \n",
       "25           1      1     1        Green's Lunch  \n",
       "26           0      0     0        Green's Lunch  \n",
       "27           5      1     1        Green's Lunch  \n",
       "28           1      1     1        Green's Lunch  \n",
       "29           1      1     0        Green's Lunch  \n",
       "...        ...    ...   ...                  ...  \n",
       "101000       0      1     1  Salsarita's Express  \n",
       "101001       0      0     0  Salsarita's Express  \n",
       "101002       0      0     0  Salsarita's Express  \n",
       "101003       0      0     1  Salsarita's Express  \n",
       "101004       0      0     1  Salsarita's Express  \n",
       "101005       0      0     0  Salsarita's Express  \n",
       "101006       0      0     0  Salsarita's Express  \n",
       "101007       0      0     0  Salsarita's Express  \n",
       "101008       1      0     1  Salsarita's Express  \n",
       "101009       1      0     0  Salsarita's Express  \n",
       "101010       0      0     0  Salsarita's Express  \n",
       "101011       0      0     0  Salsarita's Express  \n",
       "101012       1      0     1  Salsarita's Express  \n",
       "101013       0      0     0  Salsarita's Express  \n",
       "101014       0      0     0  Salsarita's Express  \n",
       "101015       0      0     0  Salsarita's Express  \n",
       "101016       0      0     2  Salsarita's Express  \n",
       "101017       0      0     0  Salsarita's Express  \n",
       "101018       2      1     1  Salsarita's Express  \n",
       "101019       0      0     0  Salsarita's Express  \n",
       "101020       0      0     0  Salsarita's Express  \n",
       "101021       0      0     0  Salsarita's Express  \n",
       "101022       0      1     1  Salsarita's Express  \n",
       "101023       0      0     0  Salsarita's Express  \n",
       "101024       0      0     0  Salsarita's Express  \n",
       "101025       0      0     0  Salsarita's Express  \n",
       "101026       0      0     0  Salsarita's Express  \n",
       "101027       0      0     0  Salsarita's Express  \n",
       "101028       4      5     4  Salsarita's Express  \n",
       "101029       0      0     0  Salsarita's Express  \n",
       "\n",
       "[101030 rows x 12 columns]"
      ]
     },
     "execution_count": 24,
     "metadata": {},
     "output_type": "execute_result"
    }
   ],
   "source": [
    "restaurants_review"
   ]
  },
  {
   "cell_type": "code",
   "execution_count": 25,
   "metadata": {},
   "outputs": [],
   "source": [
    "del review"
   ]
  },
  {
   "cell_type": "markdown",
   "metadata": {},
   "source": [
    "## 1.5 Load the User data "
   ]
  },
  {
   "cell_type": "code",
   "execution_count": 23,
   "metadata": {
    "collapsed": true
   },
   "outputs": [],
   "source": [
    "d = list()\n",
    "with open('yelp_academic_dataset_user.json','r') as json_data:\n",
    "    for line in json_data:\n",
    "        d.append(json.loads(line))\n",
    "user = DataFrame(d)\n",
    "del d,json_data,line"
   ]
  },
  {
   "cell_type": "code",
   "execution_count": 24,
   "metadata": {},
   "outputs": [],
   "source": [
    "user['useful'] = user['votes'].apply(lambda a : a['useful'])\n",
    "user['funny'] = user['votes'].apply(lambda a : a['funny'])\n",
    "user['cool'] = user['votes'].apply(lambda a : a['cool'])"
   ]
  },
  {
   "cell_type": "code",
   "execution_count": 25,
   "metadata": {},
   "outputs": [
    {
     "data": {
      "text/html": [
       "<div>\n",
       "<table border=\"1\" class=\"dataframe\">\n",
       "  <thead>\n",
       "    <tr style=\"text-align: right;\">\n",
       "      <th></th>\n",
       "      <th>average_stars</th>\n",
       "      <th>compliments</th>\n",
       "      <th>elite</th>\n",
       "      <th>fans</th>\n",
       "      <th>friends</th>\n",
       "      <th>name</th>\n",
       "      <th>review_count</th>\n",
       "      <th>type</th>\n",
       "      <th>user_id</th>\n",
       "      <th>votes</th>\n",
       "      <th>yelping_since</th>\n",
       "      <th>useful</th>\n",
       "      <th>funny</th>\n",
       "      <th>cool</th>\n",
       "    </tr>\n",
       "  </thead>\n",
       "  <tbody>\n",
       "    <tr>\n",
       "      <th>0</th>\n",
       "      <td>4.14</td>\n",
       "      <td>{u'profile': 8, u'cute': 15, u'funny': 11, u'p...</td>\n",
       "      <td>[2005, 2006]</td>\n",
       "      <td>69</td>\n",
       "      <td>[rpOyqD_893cqmDAtJLbdog, 4U9kSBLuBDU391x6bxU-Y...</td>\n",
       "      <td>Russel</td>\n",
       "      <td>108</td>\n",
       "      <td>user</td>\n",
       "      <td>18kPq7GPye-YQ3LyKyAZPw</td>\n",
       "      <td>{u'funny': 167, u'useful': 282, u'cool': 246}</td>\n",
       "      <td>2004-10</td>\n",
       "      <td>282</td>\n",
       "      <td>167</td>\n",
       "      <td>246</td>\n",
       "    </tr>\n",
       "    <tr>\n",
       "      <th>1</th>\n",
       "      <td>3.67</td>\n",
       "      <td>{u'profile': 117, u'cute': 204, u'funny': 594,...</td>\n",
       "      <td>[2005, 2006, 2007, 2008, 2009, 2010, 2011, 201...</td>\n",
       "      <td>1345</td>\n",
       "      <td>[18kPq7GPye-YQ3LyKyAZPw, 4U9kSBLuBDU391x6bxU-Y...</td>\n",
       "      <td>Jeremy</td>\n",
       "      <td>1292</td>\n",
       "      <td>user</td>\n",
       "      <td>rpOyqD_893cqmDAtJLbdog</td>\n",
       "      <td>{u'funny': 8399, u'useful': 15242, u'cool': 12...</td>\n",
       "      <td>2004-10</td>\n",
       "      <td>15242</td>\n",
       "      <td>8399</td>\n",
       "      <td>12091</td>\n",
       "    </tr>\n",
       "  </tbody>\n",
       "</table>\n",
       "</div>"
      ],
      "text/plain": [
       "   average_stars                                        compliments  \\\n",
       "0           4.14  {u'profile': 8, u'cute': 15, u'funny': 11, u'p...   \n",
       "1           3.67  {u'profile': 117, u'cute': 204, u'funny': 594,...   \n",
       "\n",
       "                                               elite  fans  \\\n",
       "0                                       [2005, 2006]    69   \n",
       "1  [2005, 2006, 2007, 2008, 2009, 2010, 2011, 201...  1345   \n",
       "\n",
       "                                             friends    name  review_count  \\\n",
       "0  [rpOyqD_893cqmDAtJLbdog, 4U9kSBLuBDU391x6bxU-Y...  Russel           108   \n",
       "1  [18kPq7GPye-YQ3LyKyAZPw, 4U9kSBLuBDU391x6bxU-Y...  Jeremy          1292   \n",
       "\n",
       "   type                 user_id  \\\n",
       "0  user  18kPq7GPye-YQ3LyKyAZPw   \n",
       "1  user  rpOyqD_893cqmDAtJLbdog   \n",
       "\n",
       "                                               votes yelping_since  useful  \\\n",
       "0      {u'funny': 167, u'useful': 282, u'cool': 246}       2004-10     282   \n",
       "1  {u'funny': 8399, u'useful': 15242, u'cool': 12...       2004-10   15242   \n",
       "\n",
       "   funny   cool  \n",
       "0    167    246  \n",
       "1   8399  12091  "
      ]
     },
     "execution_count": 25,
     "metadata": {},
     "output_type": "execute_result"
    }
   ],
   "source": [
    "user.head(2)"
   ]
  },
  {
   "cell_type": "markdown",
   "metadata": {},
   "source": [
    "## Q2. OUTLINE THE MODELING STEPS YOU ARE GOING TO PERFORM"
   ]
  },
  {
   "cell_type": "markdown",
   "metadata": {},
   "source": [
    "Modeling steps we will be performing:\n",
    "<ul>\n",
    "    <li>1) Colloborative filtering</li>\n",
    "        <ul><li>For this we will be using the user restaurant reviews to recommed new restaurants to users.</li></ul>\n",
    "    <br>\n",
    "    <li>2) Content based recommender system</li>\n",
    "    <br>\n",
    "          <p1><i><u>For Content based recommender systems we are going to use the following restaurant features:</u><i></p1>\n",
    "\n",
    "            <ul><li>review_count: Total number of reviews for that restaurant. </li></ul>\n",
    "            <ul><li>categories: We want to feature select and use the most informative 20 categories from the list of 306 total categories.</li></ul>\n",
    "            <ul><li>hours : Average hours the restaurant is open.</li></ul>\n",
    "            <ul><li>city</li></ul>\n",
    "            <ul><li>neighborhoods</li></ul>\n",
    "            <ul><li>tot_checkins</li></ul>\n",
    "            <ul><li>Qualitative attributes from reviews: We will topic model the reviews from all the users and find out restaurant characterstics which matter the most. We will use 10 words as features for each restaurant and then score them based on the frequency of the words used in the reviews for that restaurant </li></ul>\n",
    "    <br>\n",
    "    <li>3) Vectorization and low rank matrix factorization</li>\n",
    "        <ul><li>We will be using the same features as used in content based recommender systems.</li></ul>\n",
    "</ul>"
   ]
  },
  {
   "cell_type": "markdown",
   "metadata": {},
   "source": [
    "## Q3. DESCRIBE BRIEFLY THE USE-CASE SCENARIO OF YOUR MODEL"
   ]
  },
  {
   "cell_type": "markdown",
   "metadata": {},
   "source": [
    "Recommendation systems are key to the success of any business. We aim to make relevant recommendations that match the user based on the restaurant profile and some information mined from the texual data coming from reviews.\n",
    "The model built shall be used to provide hotel recommendations to users."
   ]
  },
  {
   "cell_type": "markdown",
   "metadata": {},
   "source": [
    "## Q4. WHAT KIND OF EVALUATION ARE YOU PLANNING ON DOING?"
   ]
  },
  {
   "cell_type": "markdown",
   "metadata": {},
   "source": [
    "### Explanation\n",
    "\n",
    "We are going to follow K fold cross validation technique. We need to split the test set K times otherwise our results\n",
    "will have high probability of  being biased\n",
    "\n",
    "Methodology:\n",
    "<ul>\n",
    "    <li>1) We have users, restaurants and the corresponding ratings in a table.</li>\n",
    "    <li>2) Split  Training and Test set.</li>\n",
    "    <li>3) Run the recommender system on training set and using cosine similarity, obtain ratings and compare it with the test set using K-fold cross validation.</li>\n",
    "    <li>4) Measure the error using RMSE by comparing recommended with actual ratings (on test set).</li>\n",
    "    <li>5) Goal is to minimize RMSE.</li>\n",
    "</ul>"
   ]
  },
  {
   "cell_type": "markdown",
   "metadata": {},
   "source": [
    "## 3 Simple Popularity Model"
   ]
  },
  {
   "cell_type": "code",
   "execution_count": 30,
   "metadata": {},
   "outputs": [],
   "source": [
    "import graphlab as gl\n",
    "from sklearn.cross_validation import train_test_split"
   ]
  },
  {
   "cell_type": "code",
   "execution_count": 26,
   "metadata": {
    "collapsed": true
   },
   "outputs": [],
   "source": [
    "def  normalize_ratings(df):\n",
    "    mean_rt = DataFrame({'avg_stars' : df.groupby( ['user_id'])['stars'].mean()}).reset_index()\n",
    "    df = pd.merge(df,mean_rt,on='user_id')\n",
    "    df['normalized_stars'] = df['stars']- df['avg_stars']\n",
    "    return df    "
   ]
  },
  {
   "cell_type": "code",
   "execution_count": 27,
   "metadata": {},
   "outputs": [],
   "source": [
    "pop_data = restaurants_review[['business_id', 'user_id','stars','name']]\n",
    "pop_data = normalize_ratings(pop_data)\n",
    "#pop_data = gl.SFrame(pop_data)"
   ]
  },
  {
   "cell_type": "code",
   "execution_count": 28,
   "metadata": {},
   "outputs": [
    {
     "data": {
      "text/html": [
       "<div>\n",
       "<table border=\"1\" class=\"dataframe\">\n",
       "  <thead>\n",
       "    <tr style=\"text-align: right;\">\n",
       "      <th></th>\n",
       "      <th>business_id</th>\n",
       "      <th>user_id</th>\n",
       "      <th>stars</th>\n",
       "      <th>name</th>\n",
       "      <th>avg_stars</th>\n",
       "      <th>normalized_stars</th>\n",
       "    </tr>\n",
       "  </thead>\n",
       "  <tbody>\n",
       "    <tr>\n",
       "      <th>0</th>\n",
       "      <td>Gw5POFxBRoJxN_ZYhk6lgQ</td>\n",
       "      <td>whKpnugMnWTz3UjlrN71yg</td>\n",
       "      <td>4</td>\n",
       "      <td>Bruegger's Bagels</td>\n",
       "      <td>3.71223</td>\n",
       "      <td>0.28777</td>\n",
       "    </tr>\n",
       "    <tr>\n",
       "      <th>1</th>\n",
       "      <td>Lt9o2RmacVY2L-IWLA8uTg</td>\n",
       "      <td>whKpnugMnWTz3UjlrN71yg</td>\n",
       "      <td>5</td>\n",
       "      <td>Morton's The Steakhouse</td>\n",
       "      <td>3.71223</td>\n",
       "      <td>1.28777</td>\n",
       "    </tr>\n",
       "    <tr>\n",
       "      <th>2</th>\n",
       "      <td>gpCtDCSXIoQx70cq9itfNA</td>\n",
       "      <td>whKpnugMnWTz3UjlrN71yg</td>\n",
       "      <td>4</td>\n",
       "      <td>Matt's Chicago Dog</td>\n",
       "      <td>3.71223</td>\n",
       "      <td>0.28777</td>\n",
       "    </tr>\n",
       "    <tr>\n",
       "      <th>3</th>\n",
       "      <td>-6JY1T0w4XETux5kGOj84g</td>\n",
       "      <td>whKpnugMnWTz3UjlrN71yg</td>\n",
       "      <td>4</td>\n",
       "      <td>Fox and Hound Smokehouse &amp; Tavern</td>\n",
       "      <td>3.71223</td>\n",
       "      <td>0.28777</td>\n",
       "    </tr>\n",
       "    <tr>\n",
       "      <th>4</th>\n",
       "      <td>9fxTX1uyyYF4ugx68AG2sg</td>\n",
       "      <td>whKpnugMnWTz3UjlrN71yg</td>\n",
       "      <td>3</td>\n",
       "      <td>Presto Bar &amp; Grill</td>\n",
       "      <td>3.71223</td>\n",
       "      <td>-0.71223</td>\n",
       "    </tr>\n",
       "  </tbody>\n",
       "</table>\n",
       "</div>"
      ],
      "text/plain": [
       "              business_id                 user_id  stars  \\\n",
       "0  Gw5POFxBRoJxN_ZYhk6lgQ  whKpnugMnWTz3UjlrN71yg      4   \n",
       "1  Lt9o2RmacVY2L-IWLA8uTg  whKpnugMnWTz3UjlrN71yg      5   \n",
       "2  gpCtDCSXIoQx70cq9itfNA  whKpnugMnWTz3UjlrN71yg      4   \n",
       "3  -6JY1T0w4XETux5kGOj84g  whKpnugMnWTz3UjlrN71yg      4   \n",
       "4  9fxTX1uyyYF4ugx68AG2sg  whKpnugMnWTz3UjlrN71yg      3   \n",
       "\n",
       "                                name  avg_stars  normalized_stars  \n",
       "0                  Bruegger's Bagels    3.71223           0.28777  \n",
       "1            Morton's The Steakhouse    3.71223           1.28777  \n",
       "2                 Matt's Chicago Dog    3.71223           0.28777  \n",
       "3  Fox and Hound Smokehouse & Tavern    3.71223           0.28777  \n",
       "4                 Presto Bar & Grill    3.71223          -0.71223  "
      ]
     },
     "execution_count": 28,
     "metadata": {},
     "output_type": "execute_result"
    }
   ],
   "source": [
    "pop_data.head()"
   ]
  },
  {
   "cell_type": "code",
   "execution_count": 31,
   "metadata": {},
   "outputs": [],
   "source": [
    "tr, te= train_test_split(pop_data,test_size = 0.3, random_state = 1210)"
   ]
  },
  {
   "cell_type": "code",
   "execution_count": 32,
   "metadata": {},
   "outputs": [
    {
     "name": "stdout",
     "output_type": "stream",
     "text": [
      "This non-commercial license of GraphLab Create for academic use is assigned to kalip004@umn.edu and will expire on November 20, 2017.\n"
     ]
    },
    {
     "name": "stderr",
     "output_type": "stream",
     "text": [
      "[INFO] graphlab.cython.cy_server: GraphLab Create v2.1 started. Logging: C:\\Users\\surya\\AppData\\Local\\Temp\\graphlab_server_1487406006.log.0\n"
     ]
    }
   ],
   "source": [
    "pop_data_train = gl.SFrame(tr)\n",
    "pop_data_test = gl.SFrame(te)"
   ]
  },
  {
   "cell_type": "code",
   "execution_count": 33,
   "metadata": {},
   "outputs": [
    {
     "data": {
      "text/html": [
       "<div style=\"max-height:1000px;max-width:1500px;overflow:auto;\"><table frame=\"box\" rules=\"cols\">\n",
       "    <tr>\n",
       "        <th style=\"padding-left: 1em; padding-right: 1em; text-align: center\">business_id</th>\n",
       "        <th style=\"padding-left: 1em; padding-right: 1em; text-align: center\">user_id</th>\n",
       "        <th style=\"padding-left: 1em; padding-right: 1em; text-align: center\">stars</th>\n",
       "        <th style=\"padding-left: 1em; padding-right: 1em; text-align: center\">name</th>\n",
       "        <th style=\"padding-left: 1em; padding-right: 1em; text-align: center\">avg_stars</th>\n",
       "        <th style=\"padding-left: 1em; padding-right: 1em; text-align: center\">normalized_stars</th>\n",
       "    </tr>\n",
       "    <tr>\n",
       "        <td style=\"padding-left: 1em; padding-right: 1em; text-align: center; vertical-align: top\">mVqQ3jT6WvhWd_-vUlPX6Q</td>\n",
       "        <td style=\"padding-left: 1em; padding-right: 1em; text-align: center; vertical-align: top\">XVZCDccLPdYdaj9docxTHg</td>\n",
       "        <td style=\"padding-left: 1em; padding-right: 1em; text-align: center; vertical-align: top\">4</td>\n",
       "        <td style=\"padding-left: 1em; padding-right: 1em; text-align: center; vertical-align: top\">Zaxby's</td>\n",
       "        <td style=\"padding-left: 1em; padding-right: 1em; text-align: center; vertical-align: top\">2.33333333333</td>\n",
       "        <td style=\"padding-left: 1em; padding-right: 1em; text-align: center; vertical-align: top\">1.66666666667</td>\n",
       "    </tr>\n",
       "    <tr>\n",
       "        <td style=\"padding-left: 1em; padding-right: 1em; text-align: center; vertical-align: top\">MC8Fv4Hd4reUsTKJYoZPfg</td>\n",
       "        <td style=\"padding-left: 1em; padding-right: 1em; text-align: center; vertical-align: top\">r3SZlDDYGi4yVBFa3ZQZqw</td>\n",
       "        <td style=\"padding-left: 1em; padding-right: 1em; text-align: center; vertical-align: top\">5</td>\n",
       "        <td style=\"padding-left: 1em; padding-right: 1em; text-align: center; vertical-align: top\">JackBeagles</td>\n",
       "        <td style=\"padding-left: 1em; padding-right: 1em; text-align: center; vertical-align: top\">3.94736842105</td>\n",
       "        <td style=\"padding-left: 1em; padding-right: 1em; text-align: center; vertical-align: top\">1.05263157895</td>\n",
       "    </tr>\n",
       "    <tr>\n",
       "        <td style=\"padding-left: 1em; padding-right: 1em; text-align: center; vertical-align: top\">awgH-AOkuEX22F9ObdVHIA</td>\n",
       "        <td style=\"padding-left: 1em; padding-right: 1em; text-align: center; vertical-align: top\">ONlOu7pJWk3_55QUYsUFuw</td>\n",
       "        <td style=\"padding-left: 1em; padding-right: 1em; text-align: center; vertical-align: top\">4</td>\n",
       "        <td style=\"padding-left: 1em; padding-right: 1em; text-align: center; vertical-align: top\">Pei Wei</td>\n",
       "        <td style=\"padding-left: 1em; padding-right: 1em; text-align: center; vertical-align: top\">3.77777777778</td>\n",
       "        <td style=\"padding-left: 1em; padding-right: 1em; text-align: center; vertical-align: top\">0.222222222222</td>\n",
       "    </tr>\n",
       "    <tr>\n",
       "        <td style=\"padding-left: 1em; padding-right: 1em; text-align: center; vertical-align: top\">wfkuFh39uIaXIDCpkUJV2A</td>\n",
       "        <td style=\"padding-left: 1em; padding-right: 1em; text-align: center; vertical-align: top\">cs3jBn4NMKBjMU7cy1HdRw</td>\n",
       "        <td style=\"padding-left: 1em; padding-right: 1em; text-align: center; vertical-align: top\">1</td>\n",
       "        <td style=\"padding-left: 1em; padding-right: 1em; text-align: center; vertical-align: top\">Emzy Sushi Bar &amp; Asian<br>Kitchen ...</td>\n",
       "        <td style=\"padding-left: 1em; padding-right: 1em; text-align: center; vertical-align: top\">3.32142857143</td>\n",
       "        <td style=\"padding-left: 1em; padding-right: 1em; text-align: center; vertical-align: top\">-2.32142857143</td>\n",
       "    </tr>\n",
       "    <tr>\n",
       "        <td style=\"padding-left: 1em; padding-right: 1em; text-align: center; vertical-align: top\">Gfke1AcTzc2nlVi1rftrTw</td>\n",
       "        <td style=\"padding-left: 1em; padding-right: 1em; text-align: center; vertical-align: top\">-pqh6Zdnlf1FG_hOBKl3cQ</td>\n",
       "        <td style=\"padding-left: 1em; padding-right: 1em; text-align: center; vertical-align: top\">5</td>\n",
       "        <td style=\"padding-left: 1em; padding-right: 1em; text-align: center; vertical-align: top\">Laurel Market</td>\n",
       "        <td style=\"padding-left: 1em; padding-right: 1em; text-align: center; vertical-align: top\">4.5</td>\n",
       "        <td style=\"padding-left: 1em; padding-right: 1em; text-align: center; vertical-align: top\">0.5</td>\n",
       "    </tr>\n",
       "</table>\n",
       "[5 rows x 6 columns]<br/>\n",
       "</div>"
      ],
      "text/plain": [
       "Columns:\n",
       "\tbusiness_id\tstr\n",
       "\tuser_id\tstr\n",
       "\tstars\tint\n",
       "\tname\tstr\n",
       "\tavg_stars\tfloat\n",
       "\tnormalized_stars\tfloat\n",
       "\n",
       "Rows: 5\n",
       "\n",
       "Data:\n",
       "+------------------------+------------------------+-------+\n",
       "|      business_id       |        user_id         | stars |\n",
       "+------------------------+------------------------+-------+\n",
       "| mVqQ3jT6WvhWd_-vUlPX6Q | XVZCDccLPdYdaj9docxTHg |   4   |\n",
       "| MC8Fv4Hd4reUsTKJYoZPfg | r3SZlDDYGi4yVBFa3ZQZqw |   5   |\n",
       "| awgH-AOkuEX22F9ObdVHIA | ONlOu7pJWk3_55QUYsUFuw |   4   |\n",
       "| wfkuFh39uIaXIDCpkUJV2A | cs3jBn4NMKBjMU7cy1HdRw |   1   |\n",
       "| Gfke1AcTzc2nlVi1rftrTw | -pqh6Zdnlf1FG_hOBKl3cQ |   5   |\n",
       "+------------------------+------------------------+-------+\n",
       "+--------------------------------+---------------+------------------+\n",
       "|              name              |   avg_stars   | normalized_stars |\n",
       "+--------------------------------+---------------+------------------+\n",
       "|            Zaxby's             | 2.33333333333 |  1.66666666667   |\n",
       "|          JackBeagles           | 3.94736842105 |  1.05263157895   |\n",
       "|            Pei Wei             | 3.77777777778 |  0.222222222222  |\n",
       "| Emzy Sushi Bar & Asian Kitchen | 3.32142857143 |  -2.32142857143  |\n",
       "|         Laurel Market          |      4.5      |       0.5        |\n",
       "+--------------------------------+---------------+------------------+\n",
       "[5 rows x 6 columns]"
      ]
     },
     "execution_count": 33,
     "metadata": {},
     "output_type": "execute_result"
    }
   ],
   "source": [
    "pop_data_train.head(5)"
   ]
  },
  {
   "cell_type": "code",
   "execution_count": 34,
   "metadata": {},
   "outputs": [
    {
     "data": {
      "text/html": [
       "<pre>Recsys training: model = popularity</pre>"
      ],
      "text/plain": [
       "Recsys training: model = popularity"
      ]
     },
     "metadata": {},
     "output_type": "display_data"
    },
    {
     "data": {
      "text/html": [
       "<pre>Warning: Ignoring columns name, avg_stars, normalized_stars;</pre>"
      ],
      "text/plain": [
       "Warning: Ignoring columns name, avg_stars, normalized_stars;"
      ]
     },
     "metadata": {},
     "output_type": "display_data"
    },
    {
     "data": {
      "text/html": [
       "<pre>    To use these columns in scoring predictions, use a model that allows the use of additional features.</pre>"
      ],
      "text/plain": [
       "    To use these columns in scoring predictions, use a model that allows the use of additional features."
      ]
     },
     "metadata": {},
     "output_type": "display_data"
    },
    {
     "data": {
      "text/html": [
       "<pre>Preparing data set.</pre>"
      ],
      "text/plain": [
       "Preparing data set."
      ]
     },
     "metadata": {},
     "output_type": "display_data"
    },
    {
     "data": {
      "text/html": [
       "<pre>    Data has 70721 observations with 25809 users and 1999 items.</pre>"
      ],
      "text/plain": [
       "    Data has 70721 observations with 25809 users and 1999 items."
      ]
     },
     "metadata": {},
     "output_type": "display_data"
    },
    {
     "data": {
      "text/html": [
       "<pre>    Data prepared in: 0.233088s</pre>"
      ],
      "text/plain": [
       "    Data prepared in: 0.233088s"
      ]
     },
     "metadata": {},
     "output_type": "display_data"
    },
    {
     "data": {
      "text/html": [
       "<pre>70721 observations to process; with 1999 unique items.</pre>"
      ],
      "text/plain": [
       "70721 observations to process; with 1999 unique items."
      ]
     },
     "metadata": {},
     "output_type": "display_data"
    }
   ],
   "source": [
    "popularity_model = gl.popularity_recommender.create(pop_data_train,\\\n",
    "                                user_id='user_id', item_id='business_id', target='stars')"
   ]
  },
  {
   "cell_type": "code",
   "execution_count": 35,
   "metadata": {},
   "outputs": [
    {
     "data": {
      "text/html": [
       "<pre>recommendations finished on 1000/101030 queries. users per second: 112007</pre>"
      ],
      "text/plain": [
       "recommendations finished on 1000/101030 queries. users per second: 112007"
      ]
     },
     "metadata": {},
     "output_type": "display_data"
    },
    {
     "data": {
      "text/html": [
       "<pre>recommendations finished on 2000/101030 queries. users per second: 125415</pre>"
      ],
      "text/plain": [
       "recommendations finished on 2000/101030 queries. users per second: 125415"
      ]
     },
     "metadata": {},
     "output_type": "display_data"
    },
    {
     "data": {
      "text/html": [
       "<pre>recommendations finished on 3000/101030 queries. users per second: 130628</pre>"
      ],
      "text/plain": [
       "recommendations finished on 3000/101030 queries. users per second: 130628"
      ]
     },
     "metadata": {},
     "output_type": "display_data"
    },
    {
     "data": {
      "text/html": [
       "<pre>recommendations finished on 4000/101030 queries. users per second: 94077.8</pre>"
      ],
      "text/plain": [
       "recommendations finished on 4000/101030 queries. users per second: 94077.8"
      ]
     },
     "metadata": {},
     "output_type": "display_data"
    },
    {
     "data": {
      "text/html": [
       "<pre>recommendations finished on 5000/101030 queries. users per second: 98933.5</pre>"
      ],
      "text/plain": [
       "recommendations finished on 5000/101030 queries. users per second: 98933.5"
      ]
     },
     "metadata": {},
     "output_type": "display_data"
    },
    {
     "data": {
      "text/html": [
       "<pre>recommendations finished on 6000/101030 queries. users per second: 106091</pre>"
      ],
      "text/plain": [
       "recommendations finished on 6000/101030 queries. users per second: 106091"
      ]
     },
     "metadata": {},
     "output_type": "display_data"
    },
    {
     "data": {
      "text/html": [
       "<pre>recommendations finished on 7000/101030 queries. users per second: 111873</pre>"
      ],
      "text/plain": [
       "recommendations finished on 7000/101030 queries. users per second: 111873"
      ]
     },
     "metadata": {},
     "output_type": "display_data"
    },
    {
     "data": {
      "text/html": [
       "<pre>recommendations finished on 8000/101030 queries. users per second: 108693</pre>"
      ],
      "text/plain": [
       "recommendations finished on 8000/101030 queries. users per second: 108693"
      ]
     },
     "metadata": {},
     "output_type": "display_data"
    },
    {
     "data": {
      "text/html": [
       "<pre>recommendations finished on 9000/101030 queries. users per second: 99287.3</pre>"
      ],
      "text/plain": [
       "recommendations finished on 9000/101030 queries. users per second: 99287.3"
      ]
     },
     "metadata": {},
     "output_type": "display_data"
    },
    {
     "data": {
      "text/html": [
       "<pre>recommendations finished on 10000/101030 queries. users per second: 100839</pre>"
      ],
      "text/plain": [
       "recommendations finished on 10000/101030 queries. users per second: 100839"
      ]
     },
     "metadata": {},
     "output_type": "display_data"
    },
    {
     "data": {
      "text/html": [
       "<pre>recommendations finished on 11000/101030 queries. users per second: 104579</pre>"
      ],
      "text/plain": [
       "recommendations finished on 11000/101030 queries. users per second: 104579"
      ]
     },
     "metadata": {},
     "output_type": "display_data"
    },
    {
     "data": {
      "text/html": [
       "<pre>recommendations finished on 12000/101030 queries. users per second: 107913</pre>"
      ],
      "text/plain": [
       "recommendations finished on 12000/101030 queries. users per second: 107913"
      ]
     },
     "metadata": {},
     "output_type": "display_data"
    },
    {
     "data": {
      "text/html": [
       "<pre>recommendations finished on 13000/101030 queries. users per second: 109965</pre>"
      ],
      "text/plain": [
       "recommendations finished on 13000/101030 queries. users per second: 109965"
      ]
     },
     "metadata": {},
     "output_type": "display_data"
    },
    {
     "data": {
      "text/html": [
       "<pre>recommendations finished on 14000/101030 queries. users per second: 111786</pre>"
      ],
      "text/plain": [
       "recommendations finished on 14000/101030 queries. users per second: 111786"
      ]
     },
     "metadata": {},
     "output_type": "display_data"
    },
    {
     "data": {
      "text/html": [
       "<pre>recommendations finished on 15000/101030 queries. users per second: 112562</pre>"
      ],
      "text/plain": [
       "recommendations finished on 15000/101030 queries. users per second: 112562"
      ]
     },
     "metadata": {},
     "output_type": "display_data"
    },
    {
     "data": {
      "text/html": [
       "<pre>recommendations finished on 16000/101030 queries. users per second: 113653</pre>"
      ],
      "text/plain": [
       "recommendations finished on 16000/101030 queries. users per second: 113653"
      ]
     },
     "metadata": {},
     "output_type": "display_data"
    },
    {
     "data": {
      "text/html": [
       "<pre>recommendations finished on 17000/101030 queries. users per second: 111983</pre>"
      ],
      "text/plain": [
       "recommendations finished on 17000/101030 queries. users per second: 111983"
      ]
     },
     "metadata": {},
     "output_type": "display_data"
    },
    {
     "data": {
      "text/html": [
       "<pre>recommendations finished on 18000/101030 queries. users per second: 109862</pre>"
      ],
      "text/plain": [
       "recommendations finished on 18000/101030 queries. users per second: 109862"
      ]
     },
     "metadata": {},
     "output_type": "display_data"
    },
    {
     "data": {
      "text/html": [
       "<pre>recommendations finished on 19000/101030 queries. users per second: 111203</pre>"
      ],
      "text/plain": [
       "recommendations finished on 19000/101030 queries. users per second: 111203"
      ]
     },
     "metadata": {},
     "output_type": "display_data"
    },
    {
     "data": {
      "text/html": [
       "<pre>recommendations finished on 20000/101030 queries. users per second: 109054</pre>"
      ],
      "text/plain": [
       "recommendations finished on 20000/101030 queries. users per second: 109054"
      ]
     },
     "metadata": {},
     "output_type": "display_data"
    },
    {
     "data": {
      "text/html": [
       "<pre>recommendations finished on 21000/101030 queries. users per second: 107732</pre>"
      ],
      "text/plain": [
       "recommendations finished on 21000/101030 queries. users per second: 107732"
      ]
     },
     "metadata": {},
     "output_type": "display_data"
    },
    {
     "data": {
      "text/html": [
       "<pre>recommendations finished on 22000/101030 queries. users per second: 108135</pre>"
      ],
      "text/plain": [
       "recommendations finished on 22000/101030 queries. users per second: 108135"
      ]
     },
     "metadata": {},
     "output_type": "display_data"
    },
    {
     "data": {
      "text/html": [
       "<pre>recommendations finished on 23000/101030 queries. users per second: 109282</pre>"
      ],
      "text/plain": [
       "recommendations finished on 23000/101030 queries. users per second: 109282"
      ]
     },
     "metadata": {},
     "output_type": "display_data"
    },
    {
     "data": {
      "text/html": [
       "<pre>recommendations finished on 24000/101030 queries. users per second: 108848</pre>"
      ],
      "text/plain": [
       "recommendations finished on 24000/101030 queries. users per second: 108848"
      ]
     },
     "metadata": {},
     "output_type": "display_data"
    },
    {
     "data": {
      "text/html": [
       "<pre>recommendations finished on 25000/101030 queries. users per second: 109885</pre>"
      ],
      "text/plain": [
       "recommendations finished on 25000/101030 queries. users per second: 109885"
      ]
     },
     "metadata": {},
     "output_type": "display_data"
    },
    {
     "data": {
      "text/html": [
       "<pre>recommendations finished on 26000/101030 queries. users per second: 110860</pre>"
      ],
      "text/plain": [
       "recommendations finished on 26000/101030 queries. users per second: 110860"
      ]
     },
     "metadata": {},
     "output_type": "display_data"
    },
    {
     "data": {
      "text/html": [
       "<pre>recommendations finished on 27000/101030 queries. users per second: 111779</pre>"
      ],
      "text/plain": [
       "recommendations finished on 27000/101030 queries. users per second: 111779"
      ]
     },
     "metadata": {},
     "output_type": "display_data"
    },
    {
     "data": {
      "text/html": [
       "<pre>recommendations finished on 28000/101030 queries. users per second: 111520</pre>"
      ],
      "text/plain": [
       "recommendations finished on 28000/101030 queries. users per second: 111520"
      ]
     },
     "metadata": {},
     "output_type": "display_data"
    },
    {
     "data": {
      "text/html": [
       "<pre>recommendations finished on 29000/101030 queries. users per second: 112363</pre>"
      ],
      "text/plain": [
       "recommendations finished on 29000/101030 queries. users per second: 112363"
      ]
     },
     "metadata": {},
     "output_type": "display_data"
    },
    {
     "data": {
      "text/html": [
       "<pre>recommendations finished on 30000/101030 queries. users per second: 111682</pre>"
      ],
      "text/plain": [
       "recommendations finished on 30000/101030 queries. users per second: 111682"
      ]
     },
     "metadata": {},
     "output_type": "display_data"
    },
    {
     "data": {
      "text/html": [
       "<pre>recommendations finished on 31000/101030 queries. users per second: 112262</pre>"
      ],
      "text/plain": [
       "recommendations finished on 31000/101030 queries. users per second: 112262"
      ]
     },
     "metadata": {},
     "output_type": "display_data"
    },
    {
     "data": {
      "text/html": [
       "<pre>recommendations finished on 32000/101030 queries. users per second: 112613</pre>"
      ],
      "text/plain": [
       "recommendations finished on 32000/101030 queries. users per second: 112613"
      ]
     },
     "metadata": {},
     "output_type": "display_data"
    },
    {
     "data": {
      "text/html": [
       "<pre>recommendations finished on 33000/101030 queries. users per second: 111603</pre>"
      ],
      "text/plain": [
       "recommendations finished on 33000/101030 queries. users per second: 111603"
      ]
     },
     "metadata": {},
     "output_type": "display_data"
    },
    {
     "data": {
      "text/html": [
       "<pre>recommendations finished on 34000/101030 queries. users per second: 111396</pre>"
      ],
      "text/plain": [
       "recommendations finished on 34000/101030 queries. users per second: 111396"
      ]
     },
     "metadata": {},
     "output_type": "display_data"
    },
    {
     "data": {
      "text/html": [
       "<pre>recommendations finished on 35000/101030 queries. users per second: 105809</pre>"
      ],
      "text/plain": [
       "recommendations finished on 35000/101030 queries. users per second: 105809"
      ]
     },
     "metadata": {},
     "output_type": "display_data"
    },
    {
     "data": {
      "text/html": [
       "<pre>recommendations finished on 36000/101030 queries. users per second: 105786</pre>"
      ],
      "text/plain": [
       "recommendations finished on 36000/101030 queries. users per second: 105786"
      ]
     },
     "metadata": {},
     "output_type": "display_data"
    },
    {
     "data": {
      "text/html": [
       "<pre>recommendations finished on 37000/101030 queries. users per second: 104861</pre>"
      ],
      "text/plain": [
       "recommendations finished on 37000/101030 queries. users per second: 104861"
      ]
     },
     "metadata": {},
     "output_type": "display_data"
    },
    {
     "data": {
      "text/html": [
       "<pre>recommendations finished on 38000/101030 queries. users per second: 105449</pre>"
      ],
      "text/plain": [
       "recommendations finished on 38000/101030 queries. users per second: 105449"
      ]
     },
     "metadata": {},
     "output_type": "display_data"
    },
    {
     "data": {
      "text/html": [
       "<pre>recommendations finished on 39000/101030 queries. users per second: 104026</pre>"
      ],
      "text/plain": [
       "recommendations finished on 39000/101030 queries. users per second: 104026"
      ]
     },
     "metadata": {},
     "output_type": "display_data"
    },
    {
     "data": {
      "text/html": [
       "<pre>recommendations finished on 40000/101030 queries. users per second: 103780</pre>"
      ],
      "text/plain": [
       "recommendations finished on 40000/101030 queries. users per second: 103780"
      ]
     },
     "metadata": {},
     "output_type": "display_data"
    },
    {
     "data": {
      "text/html": [
       "<pre>recommendations finished on 41000/101030 queries. users per second: 104605</pre>"
      ],
      "text/plain": [
       "recommendations finished on 41000/101030 queries. users per second: 104605"
      ]
     },
     "metadata": {},
     "output_type": "display_data"
    },
    {
     "data": {
      "text/html": [
       "<pre>recommendations finished on 42000/101030 queries. users per second: 105140</pre>"
      ],
      "text/plain": [
       "recommendations finished on 42000/101030 queries. users per second: 105140"
      ]
     },
     "metadata": {},
     "output_type": "display_data"
    },
    {
     "data": {
      "text/html": [
       "<pre>recommendations finished on 43000/101030 queries. users per second: 106046</pre>"
      ],
      "text/plain": [
       "recommendations finished on 43000/101030 queries. users per second: 106046"
      ]
     },
     "metadata": {},
     "output_type": "display_data"
    },
    {
     "data": {
      "text/html": [
       "<pre>recommendations finished on 44000/101030 queries. users per second: 106666</pre>"
      ],
      "text/plain": [
       "recommendations finished on 44000/101030 queries. users per second: 106666"
      ]
     },
     "metadata": {},
     "output_type": "display_data"
    },
    {
     "data": {
      "text/html": [
       "<pre>recommendations finished on 45000/101030 queries. users per second: 107010</pre>"
      ],
      "text/plain": [
       "recommendations finished on 45000/101030 queries. users per second: 107010"
      ]
     },
     "metadata": {},
     "output_type": "display_data"
    },
    {
     "data": {
      "text/html": [
       "<pre>recommendations finished on 46000/101030 queries. users per second: 107590</pre>"
      ],
      "text/plain": [
       "recommendations finished on 46000/101030 queries. users per second: 107590"
      ]
     },
     "metadata": {},
     "output_type": "display_data"
    },
    {
     "data": {
      "text/html": [
       "<pre>recommendations finished on 47000/101030 queries. users per second: 108031</pre>"
      ],
      "text/plain": [
       "recommendations finished on 47000/101030 queries. users per second: 108031"
      ]
     },
     "metadata": {},
     "output_type": "display_data"
    },
    {
     "data": {
      "text/html": [
       "<pre>recommendations finished on 48000/101030 queries. users per second: 108948</pre>"
      ],
      "text/plain": [
       "recommendations finished on 48000/101030 queries. users per second: 108948"
      ]
     },
     "metadata": {},
     "output_type": "display_data"
    },
    {
     "data": {
      "text/html": [
       "<pre>recommendations finished on 49000/101030 queries. users per second: 109720</pre>"
      ],
      "text/plain": [
       "recommendations finished on 49000/101030 queries. users per second: 109720"
      ]
     },
     "metadata": {},
     "output_type": "display_data"
    },
    {
     "data": {
      "text/html": [
       "<pre>recommendations finished on 50000/101030 queries. users per second: 109741</pre>"
      ],
      "text/plain": [
       "recommendations finished on 50000/101030 queries. users per second: 109741"
      ]
     },
     "metadata": {},
     "output_type": "display_data"
    },
    {
     "data": {
      "text/html": [
       "<pre>recommendations finished on 51000/101030 queries. users per second: 110238</pre>"
      ],
      "text/plain": [
       "recommendations finished on 51000/101030 queries. users per second: 110238"
      ]
     },
     "metadata": {},
     "output_type": "display_data"
    },
    {
     "data": {
      "text/html": [
       "<pre>recommendations finished on 52000/101030 queries. users per second: 110132</pre>"
      ],
      "text/plain": [
       "recommendations finished on 52000/101030 queries. users per second: 110132"
      ]
     },
     "metadata": {},
     "output_type": "display_data"
    },
    {
     "data": {
      "text/html": [
       "<pre>recommendations finished on 53000/101030 queries. users per second: 109801</pre>"
      ],
      "text/plain": [
       "recommendations finished on 53000/101030 queries. users per second: 109801"
      ]
     },
     "metadata": {},
     "output_type": "display_data"
    },
    {
     "data": {
      "text/html": [
       "<pre>recommendations finished on 54000/101030 queries. users per second: 108275</pre>"
      ],
      "text/plain": [
       "recommendations finished on 54000/101030 queries. users per second: 108275"
      ]
     },
     "metadata": {},
     "output_type": "display_data"
    },
    {
     "data": {
      "text/html": [
       "<pre>recommendations finished on 55000/101030 queries. users per second: 108857</pre>"
      ],
      "text/plain": [
       "recommendations finished on 55000/101030 queries. users per second: 108857"
      ]
     },
     "metadata": {},
     "output_type": "display_data"
    },
    {
     "data": {
      "text/html": [
       "<pre>recommendations finished on 56000/101030 queries. users per second: 108680</pre>"
      ],
      "text/plain": [
       "recommendations finished on 56000/101030 queries. users per second: 108680"
      ]
     },
     "metadata": {},
     "output_type": "display_data"
    },
    {
     "data": {
      "text/html": [
       "<pre>recommendations finished on 57000/101030 queries. users per second: 108096</pre>"
      ],
      "text/plain": [
       "recommendations finished on 57000/101030 queries. users per second: 108096"
      ]
     },
     "metadata": {},
     "output_type": "display_data"
    },
    {
     "data": {
      "text/html": [
       "<pre>recommendations finished on 58000/101030 queries. users per second: 105001</pre>"
      ],
      "text/plain": [
       "recommendations finished on 58000/101030 queries. users per second: 105001"
      ]
     },
     "metadata": {},
     "output_type": "display_data"
    },
    {
     "data": {
      "text/html": [
       "<pre>recommendations finished on 59000/101030 queries. users per second: 105189</pre>"
      ],
      "text/plain": [
       "recommendations finished on 59000/101030 queries. users per second: 105189"
      ]
     },
     "metadata": {},
     "output_type": "display_data"
    },
    {
     "data": {
      "text/html": [
       "<pre>recommendations finished on 60000/101030 queries. users per second: 105556</pre>"
      ],
      "text/plain": [
       "recommendations finished on 60000/101030 queries. users per second: 105556"
      ]
     },
     "metadata": {},
     "output_type": "display_data"
    },
    {
     "data": {
      "text/html": [
       "<pre>recommendations finished on 61000/101030 queries. users per second: 105638</pre>"
      ],
      "text/plain": [
       "recommendations finished on 61000/101030 queries. users per second: 105638"
      ]
     },
     "metadata": {},
     "output_type": "display_data"
    },
    {
     "data": {
      "text/html": [
       "<pre>recommendations finished on 62000/101030 queries. users per second: 105628</pre>"
      ],
      "text/plain": [
       "recommendations finished on 62000/101030 queries. users per second: 105628"
      ]
     },
     "metadata": {},
     "output_type": "display_data"
    },
    {
     "data": {
      "text/html": [
       "<pre>recommendations finished on 63000/101030 queries. users per second: 105795</pre>"
      ],
      "text/plain": [
       "recommendations finished on 63000/101030 queries. users per second: 105795"
      ]
     },
     "metadata": {},
     "output_type": "display_data"
    },
    {
     "data": {
      "text/html": [
       "<pre>recommendations finished on 64000/101030 queries. users per second: 106311</pre>"
      ],
      "text/plain": [
       "recommendations finished on 64000/101030 queries. users per second: 106311"
      ]
     },
     "metadata": {},
     "output_type": "display_data"
    },
    {
     "data": {
      "text/html": [
       "<pre>recommendations finished on 65000/101030 queries. users per second: 106816</pre>"
      ],
      "text/plain": [
       "recommendations finished on 65000/101030 queries. users per second: 106816"
      ]
     },
     "metadata": {},
     "output_type": "display_data"
    },
    {
     "data": {
      "text/html": [
       "<pre>recommendations finished on 66000/101030 queries. users per second: 107310</pre>"
      ],
      "text/plain": [
       "recommendations finished on 66000/101030 queries. users per second: 107310"
      ]
     },
     "metadata": {},
     "output_type": "display_data"
    },
    {
     "data": {
      "text/html": [
       "<pre>recommendations finished on 67000/101030 queries. users per second: 107881</pre>"
      ],
      "text/plain": [
       "recommendations finished on 67000/101030 queries. users per second: 107881"
      ]
     },
     "metadata": {},
     "output_type": "display_data"
    },
    {
     "data": {
      "text/html": [
       "<pre>recommendations finished on 68000/101030 queries. users per second: 107923</pre>"
      ],
      "text/plain": [
       "recommendations finished on 68000/101030 queries. users per second: 107923"
      ]
     },
     "metadata": {},
     "output_type": "display_data"
    },
    {
     "data": {
      "text/html": [
       "<pre>recommendations finished on 69000/101030 queries. users per second: 107963</pre>"
      ],
      "text/plain": [
       "recommendations finished on 69000/101030 queries. users per second: 107963"
      ]
     },
     "metadata": {},
     "output_type": "display_data"
    },
    {
     "data": {
      "text/html": [
       "<pre>recommendations finished on 70000/101030 queries. users per second: 108003</pre>"
      ],
      "text/plain": [
       "recommendations finished on 70000/101030 queries. users per second: 108003"
      ]
     },
     "metadata": {},
     "output_type": "display_data"
    },
    {
     "data": {
      "text/html": [
       "<pre>recommendations finished on 71000/101030 queries. users per second: 108455</pre>"
      ],
      "text/plain": [
       "recommendations finished on 71000/101030 queries. users per second: 108455"
      ]
     },
     "metadata": {},
     "output_type": "display_data"
    },
    {
     "data": {
      "text/html": [
       "<pre>recommendations finished on 72000/101030 queries. users per second: 109064</pre>"
      ],
      "text/plain": [
       "recommendations finished on 72000/101030 queries. users per second: 109064"
      ]
     },
     "metadata": {},
     "output_type": "display_data"
    },
    {
     "data": {
      "text/html": [
       "<pre>recommendations finished on 73000/101030 queries. users per second: 108681</pre>"
      ],
      "text/plain": [
       "recommendations finished on 73000/101030 queries. users per second: 108681"
      ]
     },
     "metadata": {},
     "output_type": "display_data"
    },
    {
     "data": {
      "text/html": [
       "<pre>recommendations finished on 74000/101030 queries. users per second: 105901</pre>"
      ],
      "text/plain": [
       "recommendations finished on 74000/101030 queries. users per second: 105901"
      ]
     },
     "metadata": {},
     "output_type": "display_data"
    },
    {
     "data": {
      "text/html": [
       "<pre>recommendations finished on 75000/101030 queries. users per second: 106114</pre>"
      ],
      "text/plain": [
       "recommendations finished on 75000/101030 queries. users per second: 106114"
      ]
     },
     "metadata": {},
     "output_type": "display_data"
    },
    {
     "data": {
      "text/html": [
       "<pre>recommendations finished on 76000/101030 queries. users per second: 105876</pre>"
      ],
      "text/plain": [
       "recommendations finished on 76000/101030 queries. users per second: 105876"
      ]
     },
     "metadata": {},
     "output_type": "display_data"
    },
    {
     "data": {
      "text/html": [
       "<pre>recommendations finished on 77000/101030 queries. users per second: 104426</pre>"
      ],
      "text/plain": [
       "recommendations finished on 77000/101030 queries. users per second: 104426"
      ]
     },
     "metadata": {},
     "output_type": "display_data"
    },
    {
     "data": {
      "text/html": [
       "<pre>recommendations finished on 78000/101030 queries. users per second: 103667</pre>"
      ],
      "text/plain": [
       "recommendations finished on 78000/101030 queries. users per second: 103667"
      ]
     },
     "metadata": {},
     "output_type": "display_data"
    },
    {
     "data": {
      "text/html": [
       "<pre>recommendations finished on 79000/101030 queries. users per second: 103208</pre>"
      ],
      "text/plain": [
       "recommendations finished on 79000/101030 queries. users per second: 103208"
      ]
     },
     "metadata": {},
     "output_type": "display_data"
    },
    {
     "data": {
      "text/html": [
       "<pre>recommendations finished on 80000/101030 queries. users per second: 103230</pre>"
      ],
      "text/plain": [
       "recommendations finished on 80000/101030 queries. users per second: 103230"
      ]
     },
     "metadata": {},
     "output_type": "display_data"
    },
    {
     "data": {
      "text/html": [
       "<pre>recommendations finished on 81000/101030 queries. users per second: 103450</pre>"
      ],
      "text/plain": [
       "recommendations finished on 81000/101030 queries. users per second: 103450"
      ]
     },
     "metadata": {},
     "output_type": "display_data"
    },
    {
     "data": {
      "text/html": [
       "<pre>recommendations finished on 82000/101030 queries. users per second: 103863</pre>"
      ],
      "text/plain": [
       "recommendations finished on 82000/101030 queries. users per second: 103863"
      ]
     },
     "metadata": {},
     "output_type": "display_data"
    },
    {
     "data": {
      "text/html": [
       "<pre>recommendations finished on 83000/101030 queries. users per second: 104137</pre>"
      ],
      "text/plain": [
       "recommendations finished on 83000/101030 queries. users per second: 104137"
      ]
     },
     "metadata": {},
     "output_type": "display_data"
    },
    {
     "data": {
      "text/html": [
       "<pre>recommendations finished on 84000/101030 queries. users per second: 104147</pre>"
      ],
      "text/plain": [
       "recommendations finished on 84000/101030 queries. users per second: 104147"
      ]
     },
     "metadata": {},
     "output_type": "display_data"
    },
    {
     "data": {
      "text/html": [
       "<pre>recommendations finished on 85000/101030 queries. users per second: 103584</pre>"
      ],
      "text/plain": [
       "recommendations finished on 85000/101030 queries. users per second: 103584"
      ]
     },
     "metadata": {},
     "output_type": "display_data"
    },
    {
     "data": {
      "text/html": [
       "<pre>recommendations finished on 86000/101030 queries. users per second: 103851</pre>"
      ],
      "text/plain": [
       "recommendations finished on 86000/101030 queries. users per second: 103851"
      ]
     },
     "metadata": {},
     "output_type": "display_data"
    },
    {
     "data": {
      "text/html": [
       "<pre>recommendations finished on 87000/101030 queries. users per second: 104238</pre>"
      ],
      "text/plain": [
       "recommendations finished on 87000/101030 queries. users per second: 104238"
      ]
     },
     "metadata": {},
     "output_type": "display_data"
    },
    {
     "data": {
      "text/html": [
       "<pre>recommendations finished on 88000/101030 queries. users per second: 104682</pre>"
      ],
      "text/plain": [
       "recommendations finished on 88000/101030 queries. users per second: 104682"
      ]
     },
     "metadata": {},
     "output_type": "display_data"
    },
    {
     "data": {
      "text/html": [
       "<pre>recommendations finished on 89000/101030 queries. users per second: 104933</pre>"
      ],
      "text/plain": [
       "recommendations finished on 89000/101030 queries. users per second: 104933"
      ]
     },
     "metadata": {},
     "output_type": "display_data"
    },
    {
     "data": {
      "text/html": [
       "<pre>recommendations finished on 90000/101030 queries. users per second: 105241</pre>"
      ],
      "text/plain": [
       "recommendations finished on 90000/101030 queries. users per second: 105241"
      ]
     },
     "metadata": {},
     "output_type": "display_data"
    },
    {
     "data": {
      "text/html": [
       "<pre>recommendations finished on 91000/101030 queries. users per second: 105116</pre>"
      ],
      "text/plain": [
       "recommendations finished on 91000/101030 queries. users per second: 105116"
      ]
     },
     "metadata": {},
     "output_type": "display_data"
    },
    {
     "data": {
      "text/html": [
       "<pre>recommendations finished on 92000/101030 queries. users per second: 103165</pre>"
      ],
      "text/plain": [
       "recommendations finished on 92000/101030 queries. users per second: 103165"
      ]
     },
     "metadata": {},
     "output_type": "display_data"
    },
    {
     "data": {
      "text/html": [
       "<pre>recommendations finished on 93000/101030 queries. users per second: 103068</pre>"
      ],
      "text/plain": [
       "recommendations finished on 93000/101030 queries. users per second: 103068"
      ]
     },
     "metadata": {},
     "output_type": "display_data"
    },
    {
     "data": {
      "text/html": [
       "<pre>recommendations finished on 94000/101030 queries. users per second: 102694</pre>"
      ],
      "text/plain": [
       "recommendations finished on 94000/101030 queries. users per second: 102694"
      ]
     },
     "metadata": {},
     "output_type": "display_data"
    },
    {
     "data": {
      "text/html": [
       "<pre>recommendations finished on 95000/101030 queries. users per second: 102885</pre>"
      ],
      "text/plain": [
       "recommendations finished on 95000/101030 queries. users per second: 102885"
      ]
     },
     "metadata": {},
     "output_type": "display_data"
    },
    {
     "data": {
      "text/html": [
       "<pre>recommendations finished on 96000/101030 queries. users per second: 102851</pre>"
      ],
      "text/plain": [
       "recommendations finished on 96000/101030 queries. users per second: 102851"
      ]
     },
     "metadata": {},
     "output_type": "display_data"
    },
    {
     "data": {
      "text/html": [
       "<pre>recommendations finished on 97000/101030 queries. users per second: 103147</pre>"
      ],
      "text/plain": [
       "recommendations finished on 97000/101030 queries. users per second: 103147"
      ]
     },
     "metadata": {},
     "output_type": "display_data"
    },
    {
     "data": {
      "text/html": [
       "<pre>recommendations finished on 98000/101030 queries. users per second: 102570</pre>"
      ],
      "text/plain": [
       "recommendations finished on 98000/101030 queries. users per second: 102570"
      ]
     },
     "metadata": {},
     "output_type": "display_data"
    },
    {
     "data": {
      "text/html": [
       "<pre>recommendations finished on 99000/101030 queries. users per second: 102169</pre>"
      ],
      "text/plain": [
       "recommendations finished on 99000/101030 queries. users per second: 102169"
      ]
     },
     "metadata": {},
     "output_type": "display_data"
    },
    {
     "data": {
      "text/html": [
       "<pre>recommendations finished on 100000/101030 queries. users per second: 102249</pre>"
      ],
      "text/plain": [
       "recommendations finished on 100000/101030 queries. users per second: 102249"
      ]
     },
     "metadata": {},
     "output_type": "display_data"
    },
    {
     "data": {
      "text/html": [
       "<pre>recommendations finished on 101000/101030 queries. users per second: 100690</pre>"
      ],
      "text/plain": [
       "recommendations finished on 101000/101030 queries. users per second: 100690"
      ]
     },
     "metadata": {},
     "output_type": "display_data"
    }
   ],
   "source": [
    "#Get recommendations for first 5 users and print them\n",
    "#users = range(1,6) specifies user ID of first 5 users\n",
    "#k=5 specifies top 5 recommendations to be given\n",
    "users_info = list(pop_data['user_id']) \n",
    "popularity_recomm = popularity_model.recommend(users=users_info,k=5)\n",
    "#popularity_recomm.print_rows(num_rows=25)\n",
    "popularity_recomm = popularity_recomm.to_dataframe()"
   ]
  },
  {
   "cell_type": "code",
   "execution_count": 36,
   "metadata": {},
   "outputs": [],
   "source": [
    "popularity_recomm =  pd.merge(popularity_recomm,restaurants[['business_id','name']],on='business_id')"
   ]
  },
  {
   "cell_type": "code",
   "execution_count": 38,
   "metadata": {},
   "outputs": [
    {
     "data": {
      "text/html": [
       "<div>\n",
       "<table border=\"1\" class=\"dataframe\">\n",
       "  <thead>\n",
       "    <tr style=\"text-align: right;\">\n",
       "      <th></th>\n",
       "      <th>user_id</th>\n",
       "      <th>business_id</th>\n",
       "      <th>score</th>\n",
       "      <th>rank</th>\n",
       "      <th>name</th>\n",
       "    </tr>\n",
       "  </thead>\n",
       "  <tbody>\n",
       "    <tr>\n",
       "      <th>0</th>\n",
       "      <td>whKpnugMnWTz3UjlrN71yg</td>\n",
       "      <td>eGdr777YxPCBwDPEWVswSQ</td>\n",
       "      <td>5.0</td>\n",
       "      <td>1</td>\n",
       "      <td>Delicias Restaurante Latino</td>\n",
       "    </tr>\n",
       "    <tr>\n",
       "      <th>1</th>\n",
       "      <td>whKpnugMnWTz3UjlrN71yg</td>\n",
       "      <td>eGdr777YxPCBwDPEWVswSQ</td>\n",
       "      <td>5.0</td>\n",
       "      <td>1</td>\n",
       "      <td>Delicias Restaurante Latino</td>\n",
       "    </tr>\n",
       "    <tr>\n",
       "      <th>2</th>\n",
       "      <td>whKpnugMnWTz3UjlrN71yg</td>\n",
       "      <td>eGdr777YxPCBwDPEWVswSQ</td>\n",
       "      <td>5.0</td>\n",
       "      <td>1</td>\n",
       "      <td>Delicias Restaurante Latino</td>\n",
       "    </tr>\n",
       "    <tr>\n",
       "      <th>3</th>\n",
       "      <td>whKpnugMnWTz3UjlrN71yg</td>\n",
       "      <td>eGdr777YxPCBwDPEWVswSQ</td>\n",
       "      <td>5.0</td>\n",
       "      <td>1</td>\n",
       "      <td>Delicias Restaurante Latino</td>\n",
       "    </tr>\n",
       "    <tr>\n",
       "      <th>4</th>\n",
       "      <td>whKpnugMnWTz3UjlrN71yg</td>\n",
       "      <td>eGdr777YxPCBwDPEWVswSQ</td>\n",
       "      <td>5.0</td>\n",
       "      <td>1</td>\n",
       "      <td>Delicias Restaurante Latino</td>\n",
       "    </tr>\n",
       "    <tr>\n",
       "      <th>5</th>\n",
       "      <td>whKpnugMnWTz3UjlrN71yg</td>\n",
       "      <td>eGdr777YxPCBwDPEWVswSQ</td>\n",
       "      <td>5.0</td>\n",
       "      <td>1</td>\n",
       "      <td>Delicias Restaurante Latino</td>\n",
       "    </tr>\n",
       "    <tr>\n",
       "      <th>6</th>\n",
       "      <td>whKpnugMnWTz3UjlrN71yg</td>\n",
       "      <td>eGdr777YxPCBwDPEWVswSQ</td>\n",
       "      <td>5.0</td>\n",
       "      <td>1</td>\n",
       "      <td>Delicias Restaurante Latino</td>\n",
       "    </tr>\n",
       "    <tr>\n",
       "      <th>7</th>\n",
       "      <td>whKpnugMnWTz3UjlrN71yg</td>\n",
       "      <td>eGdr777YxPCBwDPEWVswSQ</td>\n",
       "      <td>5.0</td>\n",
       "      <td>1</td>\n",
       "      <td>Delicias Restaurante Latino</td>\n",
       "    </tr>\n",
       "    <tr>\n",
       "      <th>8</th>\n",
       "      <td>whKpnugMnWTz3UjlrN71yg</td>\n",
       "      <td>eGdr777YxPCBwDPEWVswSQ</td>\n",
       "      <td>5.0</td>\n",
       "      <td>1</td>\n",
       "      <td>Delicias Restaurante Latino</td>\n",
       "    </tr>\n",
       "    <tr>\n",
       "      <th>9</th>\n",
       "      <td>whKpnugMnWTz3UjlrN71yg</td>\n",
       "      <td>eGdr777YxPCBwDPEWVswSQ</td>\n",
       "      <td>5.0</td>\n",
       "      <td>1</td>\n",
       "      <td>Delicias Restaurante Latino</td>\n",
       "    </tr>\n",
       "    <tr>\n",
       "      <th>10</th>\n",
       "      <td>whKpnugMnWTz3UjlrN71yg</td>\n",
       "      <td>eGdr777YxPCBwDPEWVswSQ</td>\n",
       "      <td>5.0</td>\n",
       "      <td>1</td>\n",
       "      <td>Delicias Restaurante Latino</td>\n",
       "    </tr>\n",
       "    <tr>\n",
       "      <th>11</th>\n",
       "      <td>whKpnugMnWTz3UjlrN71yg</td>\n",
       "      <td>eGdr777YxPCBwDPEWVswSQ</td>\n",
       "      <td>5.0</td>\n",
       "      <td>1</td>\n",
       "      <td>Delicias Restaurante Latino</td>\n",
       "    </tr>\n",
       "    <tr>\n",
       "      <th>12</th>\n",
       "      <td>whKpnugMnWTz3UjlrN71yg</td>\n",
       "      <td>eGdr777YxPCBwDPEWVswSQ</td>\n",
       "      <td>5.0</td>\n",
       "      <td>1</td>\n",
       "      <td>Delicias Restaurante Latino</td>\n",
       "    </tr>\n",
       "    <tr>\n",
       "      <th>13</th>\n",
       "      <td>whKpnugMnWTz3UjlrN71yg</td>\n",
       "      <td>eGdr777YxPCBwDPEWVswSQ</td>\n",
       "      <td>5.0</td>\n",
       "      <td>1</td>\n",
       "      <td>Delicias Restaurante Latino</td>\n",
       "    </tr>\n",
       "    <tr>\n",
       "      <th>14</th>\n",
       "      <td>whKpnugMnWTz3UjlrN71yg</td>\n",
       "      <td>eGdr777YxPCBwDPEWVswSQ</td>\n",
       "      <td>5.0</td>\n",
       "      <td>1</td>\n",
       "      <td>Delicias Restaurante Latino</td>\n",
       "    </tr>\n",
       "    <tr>\n",
       "      <th>15</th>\n",
       "      <td>whKpnugMnWTz3UjlrN71yg</td>\n",
       "      <td>eGdr777YxPCBwDPEWVswSQ</td>\n",
       "      <td>5.0</td>\n",
       "      <td>1</td>\n",
       "      <td>Delicias Restaurante Latino</td>\n",
       "    </tr>\n",
       "    <tr>\n",
       "      <th>16</th>\n",
       "      <td>whKpnugMnWTz3UjlrN71yg</td>\n",
       "      <td>eGdr777YxPCBwDPEWVswSQ</td>\n",
       "      <td>5.0</td>\n",
       "      <td>1</td>\n",
       "      <td>Delicias Restaurante Latino</td>\n",
       "    </tr>\n",
       "    <tr>\n",
       "      <th>17</th>\n",
       "      <td>whKpnugMnWTz3UjlrN71yg</td>\n",
       "      <td>eGdr777YxPCBwDPEWVswSQ</td>\n",
       "      <td>5.0</td>\n",
       "      <td>1</td>\n",
       "      <td>Delicias Restaurante Latino</td>\n",
       "    </tr>\n",
       "    <tr>\n",
       "      <th>18</th>\n",
       "      <td>whKpnugMnWTz3UjlrN71yg</td>\n",
       "      <td>eGdr777YxPCBwDPEWVswSQ</td>\n",
       "      <td>5.0</td>\n",
       "      <td>1</td>\n",
       "      <td>Delicias Restaurante Latino</td>\n",
       "    </tr>\n",
       "    <tr>\n",
       "      <th>19</th>\n",
       "      <td>whKpnugMnWTz3UjlrN71yg</td>\n",
       "      <td>eGdr777YxPCBwDPEWVswSQ</td>\n",
       "      <td>5.0</td>\n",
       "      <td>1</td>\n",
       "      <td>Delicias Restaurante Latino</td>\n",
       "    </tr>\n",
       "    <tr>\n",
       "      <th>20</th>\n",
       "      <td>whKpnugMnWTz3UjlrN71yg</td>\n",
       "      <td>eGdr777YxPCBwDPEWVswSQ</td>\n",
       "      <td>5.0</td>\n",
       "      <td>1</td>\n",
       "      <td>Delicias Restaurante Latino</td>\n",
       "    </tr>\n",
       "    <tr>\n",
       "      <th>21</th>\n",
       "      <td>whKpnugMnWTz3UjlrN71yg</td>\n",
       "      <td>eGdr777YxPCBwDPEWVswSQ</td>\n",
       "      <td>5.0</td>\n",
       "      <td>1</td>\n",
       "      <td>Delicias Restaurante Latino</td>\n",
       "    </tr>\n",
       "    <tr>\n",
       "      <th>22</th>\n",
       "      <td>whKpnugMnWTz3UjlrN71yg</td>\n",
       "      <td>eGdr777YxPCBwDPEWVswSQ</td>\n",
       "      <td>5.0</td>\n",
       "      <td>1</td>\n",
       "      <td>Delicias Restaurante Latino</td>\n",
       "    </tr>\n",
       "    <tr>\n",
       "      <th>23</th>\n",
       "      <td>whKpnugMnWTz3UjlrN71yg</td>\n",
       "      <td>eGdr777YxPCBwDPEWVswSQ</td>\n",
       "      <td>5.0</td>\n",
       "      <td>1</td>\n",
       "      <td>Delicias Restaurante Latino</td>\n",
       "    </tr>\n",
       "    <tr>\n",
       "      <th>24</th>\n",
       "      <td>whKpnugMnWTz3UjlrN71yg</td>\n",
       "      <td>eGdr777YxPCBwDPEWVswSQ</td>\n",
       "      <td>5.0</td>\n",
       "      <td>1</td>\n",
       "      <td>Delicias Restaurante Latino</td>\n",
       "    </tr>\n",
       "    <tr>\n",
       "      <th>25</th>\n",
       "      <td>whKpnugMnWTz3UjlrN71yg</td>\n",
       "      <td>eGdr777YxPCBwDPEWVswSQ</td>\n",
       "      <td>5.0</td>\n",
       "      <td>1</td>\n",
       "      <td>Delicias Restaurante Latino</td>\n",
       "    </tr>\n",
       "    <tr>\n",
       "      <th>26</th>\n",
       "      <td>whKpnugMnWTz3UjlrN71yg</td>\n",
       "      <td>eGdr777YxPCBwDPEWVswSQ</td>\n",
       "      <td>5.0</td>\n",
       "      <td>1</td>\n",
       "      <td>Delicias Restaurante Latino</td>\n",
       "    </tr>\n",
       "    <tr>\n",
       "      <th>27</th>\n",
       "      <td>whKpnugMnWTz3UjlrN71yg</td>\n",
       "      <td>eGdr777YxPCBwDPEWVswSQ</td>\n",
       "      <td>5.0</td>\n",
       "      <td>1</td>\n",
       "      <td>Delicias Restaurante Latino</td>\n",
       "    </tr>\n",
       "    <tr>\n",
       "      <th>28</th>\n",
       "      <td>whKpnugMnWTz3UjlrN71yg</td>\n",
       "      <td>eGdr777YxPCBwDPEWVswSQ</td>\n",
       "      <td>5.0</td>\n",
       "      <td>1</td>\n",
       "      <td>Delicias Restaurante Latino</td>\n",
       "    </tr>\n",
       "    <tr>\n",
       "      <th>29</th>\n",
       "      <td>whKpnugMnWTz3UjlrN71yg</td>\n",
       "      <td>eGdr777YxPCBwDPEWVswSQ</td>\n",
       "      <td>5.0</td>\n",
       "      <td>1</td>\n",
       "      <td>Delicias Restaurante Latino</td>\n",
       "    </tr>\n",
       "    <tr>\n",
       "      <th>...</th>\n",
       "      <td>...</td>\n",
       "      <td>...</td>\n",
       "      <td>...</td>\n",
       "      <td>...</td>\n",
       "      <td>...</td>\n",
       "    </tr>\n",
       "    <tr>\n",
       "      <th>70</th>\n",
       "      <td>whKpnugMnWTz3UjlrN71yg</td>\n",
       "      <td>eGdr777YxPCBwDPEWVswSQ</td>\n",
       "      <td>5.0</td>\n",
       "      <td>1</td>\n",
       "      <td>Delicias Restaurante Latino</td>\n",
       "    </tr>\n",
       "    <tr>\n",
       "      <th>71</th>\n",
       "      <td>whKpnugMnWTz3UjlrN71yg</td>\n",
       "      <td>eGdr777YxPCBwDPEWVswSQ</td>\n",
       "      <td>5.0</td>\n",
       "      <td>1</td>\n",
       "      <td>Delicias Restaurante Latino</td>\n",
       "    </tr>\n",
       "    <tr>\n",
       "      <th>72</th>\n",
       "      <td>whKpnugMnWTz3UjlrN71yg</td>\n",
       "      <td>eGdr777YxPCBwDPEWVswSQ</td>\n",
       "      <td>5.0</td>\n",
       "      <td>1</td>\n",
       "      <td>Delicias Restaurante Latino</td>\n",
       "    </tr>\n",
       "    <tr>\n",
       "      <th>73</th>\n",
       "      <td>whKpnugMnWTz3UjlrN71yg</td>\n",
       "      <td>eGdr777YxPCBwDPEWVswSQ</td>\n",
       "      <td>5.0</td>\n",
       "      <td>1</td>\n",
       "      <td>Delicias Restaurante Latino</td>\n",
       "    </tr>\n",
       "    <tr>\n",
       "      <th>74</th>\n",
       "      <td>whKpnugMnWTz3UjlrN71yg</td>\n",
       "      <td>eGdr777YxPCBwDPEWVswSQ</td>\n",
       "      <td>5.0</td>\n",
       "      <td>1</td>\n",
       "      <td>Delicias Restaurante Latino</td>\n",
       "    </tr>\n",
       "    <tr>\n",
       "      <th>75</th>\n",
       "      <td>whKpnugMnWTz3UjlrN71yg</td>\n",
       "      <td>eGdr777YxPCBwDPEWVswSQ</td>\n",
       "      <td>5.0</td>\n",
       "      <td>1</td>\n",
       "      <td>Delicias Restaurante Latino</td>\n",
       "    </tr>\n",
       "    <tr>\n",
       "      <th>76</th>\n",
       "      <td>whKpnugMnWTz3UjlrN71yg</td>\n",
       "      <td>eGdr777YxPCBwDPEWVswSQ</td>\n",
       "      <td>5.0</td>\n",
       "      <td>1</td>\n",
       "      <td>Delicias Restaurante Latino</td>\n",
       "    </tr>\n",
       "    <tr>\n",
       "      <th>77</th>\n",
       "      <td>whKpnugMnWTz3UjlrN71yg</td>\n",
       "      <td>eGdr777YxPCBwDPEWVswSQ</td>\n",
       "      <td>5.0</td>\n",
       "      <td>1</td>\n",
       "      <td>Delicias Restaurante Latino</td>\n",
       "    </tr>\n",
       "    <tr>\n",
       "      <th>78</th>\n",
       "      <td>whKpnugMnWTz3UjlrN71yg</td>\n",
       "      <td>eGdr777YxPCBwDPEWVswSQ</td>\n",
       "      <td>5.0</td>\n",
       "      <td>1</td>\n",
       "      <td>Delicias Restaurante Latino</td>\n",
       "    </tr>\n",
       "    <tr>\n",
       "      <th>79</th>\n",
       "      <td>whKpnugMnWTz3UjlrN71yg</td>\n",
       "      <td>eGdr777YxPCBwDPEWVswSQ</td>\n",
       "      <td>5.0</td>\n",
       "      <td>1</td>\n",
       "      <td>Delicias Restaurante Latino</td>\n",
       "    </tr>\n",
       "    <tr>\n",
       "      <th>80</th>\n",
       "      <td>whKpnugMnWTz3UjlrN71yg</td>\n",
       "      <td>eGdr777YxPCBwDPEWVswSQ</td>\n",
       "      <td>5.0</td>\n",
       "      <td>1</td>\n",
       "      <td>Delicias Restaurante Latino</td>\n",
       "    </tr>\n",
       "    <tr>\n",
       "      <th>81</th>\n",
       "      <td>whKpnugMnWTz3UjlrN71yg</td>\n",
       "      <td>eGdr777YxPCBwDPEWVswSQ</td>\n",
       "      <td>5.0</td>\n",
       "      <td>1</td>\n",
       "      <td>Delicias Restaurante Latino</td>\n",
       "    </tr>\n",
       "    <tr>\n",
       "      <th>82</th>\n",
       "      <td>whKpnugMnWTz3UjlrN71yg</td>\n",
       "      <td>eGdr777YxPCBwDPEWVswSQ</td>\n",
       "      <td>5.0</td>\n",
       "      <td>1</td>\n",
       "      <td>Delicias Restaurante Latino</td>\n",
       "    </tr>\n",
       "    <tr>\n",
       "      <th>83</th>\n",
       "      <td>whKpnugMnWTz3UjlrN71yg</td>\n",
       "      <td>eGdr777YxPCBwDPEWVswSQ</td>\n",
       "      <td>5.0</td>\n",
       "      <td>1</td>\n",
       "      <td>Delicias Restaurante Latino</td>\n",
       "    </tr>\n",
       "    <tr>\n",
       "      <th>84</th>\n",
       "      <td>whKpnugMnWTz3UjlrN71yg</td>\n",
       "      <td>eGdr777YxPCBwDPEWVswSQ</td>\n",
       "      <td>5.0</td>\n",
       "      <td>1</td>\n",
       "      <td>Delicias Restaurante Latino</td>\n",
       "    </tr>\n",
       "    <tr>\n",
       "      <th>85</th>\n",
       "      <td>whKpnugMnWTz3UjlrN71yg</td>\n",
       "      <td>eGdr777YxPCBwDPEWVswSQ</td>\n",
       "      <td>5.0</td>\n",
       "      <td>1</td>\n",
       "      <td>Delicias Restaurante Latino</td>\n",
       "    </tr>\n",
       "    <tr>\n",
       "      <th>86</th>\n",
       "      <td>whKpnugMnWTz3UjlrN71yg</td>\n",
       "      <td>eGdr777YxPCBwDPEWVswSQ</td>\n",
       "      <td>5.0</td>\n",
       "      <td>1</td>\n",
       "      <td>Delicias Restaurante Latino</td>\n",
       "    </tr>\n",
       "    <tr>\n",
       "      <th>87</th>\n",
       "      <td>whKpnugMnWTz3UjlrN71yg</td>\n",
       "      <td>eGdr777YxPCBwDPEWVswSQ</td>\n",
       "      <td>5.0</td>\n",
       "      <td>1</td>\n",
       "      <td>Delicias Restaurante Latino</td>\n",
       "    </tr>\n",
       "    <tr>\n",
       "      <th>88</th>\n",
       "      <td>whKpnugMnWTz3UjlrN71yg</td>\n",
       "      <td>eGdr777YxPCBwDPEWVswSQ</td>\n",
       "      <td>5.0</td>\n",
       "      <td>1</td>\n",
       "      <td>Delicias Restaurante Latino</td>\n",
       "    </tr>\n",
       "    <tr>\n",
       "      <th>89</th>\n",
       "      <td>whKpnugMnWTz3UjlrN71yg</td>\n",
       "      <td>eGdr777YxPCBwDPEWVswSQ</td>\n",
       "      <td>5.0</td>\n",
       "      <td>1</td>\n",
       "      <td>Delicias Restaurante Latino</td>\n",
       "    </tr>\n",
       "    <tr>\n",
       "      <th>90</th>\n",
       "      <td>whKpnugMnWTz3UjlrN71yg</td>\n",
       "      <td>eGdr777YxPCBwDPEWVswSQ</td>\n",
       "      <td>5.0</td>\n",
       "      <td>1</td>\n",
       "      <td>Delicias Restaurante Latino</td>\n",
       "    </tr>\n",
       "    <tr>\n",
       "      <th>91</th>\n",
       "      <td>whKpnugMnWTz3UjlrN71yg</td>\n",
       "      <td>eGdr777YxPCBwDPEWVswSQ</td>\n",
       "      <td>5.0</td>\n",
       "      <td>1</td>\n",
       "      <td>Delicias Restaurante Latino</td>\n",
       "    </tr>\n",
       "    <tr>\n",
       "      <th>92</th>\n",
       "      <td>whKpnugMnWTz3UjlrN71yg</td>\n",
       "      <td>eGdr777YxPCBwDPEWVswSQ</td>\n",
       "      <td>5.0</td>\n",
       "      <td>1</td>\n",
       "      <td>Delicias Restaurante Latino</td>\n",
       "    </tr>\n",
       "    <tr>\n",
       "      <th>93</th>\n",
       "      <td>whKpnugMnWTz3UjlrN71yg</td>\n",
       "      <td>eGdr777YxPCBwDPEWVswSQ</td>\n",
       "      <td>5.0</td>\n",
       "      <td>1</td>\n",
       "      <td>Delicias Restaurante Latino</td>\n",
       "    </tr>\n",
       "    <tr>\n",
       "      <th>94</th>\n",
       "      <td>whKpnugMnWTz3UjlrN71yg</td>\n",
       "      <td>eGdr777YxPCBwDPEWVswSQ</td>\n",
       "      <td>5.0</td>\n",
       "      <td>1</td>\n",
       "      <td>Delicias Restaurante Latino</td>\n",
       "    </tr>\n",
       "    <tr>\n",
       "      <th>95</th>\n",
       "      <td>whKpnugMnWTz3UjlrN71yg</td>\n",
       "      <td>eGdr777YxPCBwDPEWVswSQ</td>\n",
       "      <td>5.0</td>\n",
       "      <td>1</td>\n",
       "      <td>Delicias Restaurante Latino</td>\n",
       "    </tr>\n",
       "    <tr>\n",
       "      <th>96</th>\n",
       "      <td>whKpnugMnWTz3UjlrN71yg</td>\n",
       "      <td>eGdr777YxPCBwDPEWVswSQ</td>\n",
       "      <td>5.0</td>\n",
       "      <td>1</td>\n",
       "      <td>Delicias Restaurante Latino</td>\n",
       "    </tr>\n",
       "    <tr>\n",
       "      <th>97</th>\n",
       "      <td>whKpnugMnWTz3UjlrN71yg</td>\n",
       "      <td>eGdr777YxPCBwDPEWVswSQ</td>\n",
       "      <td>5.0</td>\n",
       "      <td>1</td>\n",
       "      <td>Delicias Restaurante Latino</td>\n",
       "    </tr>\n",
       "    <tr>\n",
       "      <th>98</th>\n",
       "      <td>whKpnugMnWTz3UjlrN71yg</td>\n",
       "      <td>eGdr777YxPCBwDPEWVswSQ</td>\n",
       "      <td>5.0</td>\n",
       "      <td>1</td>\n",
       "      <td>Delicias Restaurante Latino</td>\n",
       "    </tr>\n",
       "    <tr>\n",
       "      <th>99</th>\n",
       "      <td>whKpnugMnWTz3UjlrN71yg</td>\n",
       "      <td>eGdr777YxPCBwDPEWVswSQ</td>\n",
       "      <td>5.0</td>\n",
       "      <td>1</td>\n",
       "      <td>Delicias Restaurante Latino</td>\n",
       "    </tr>\n",
       "  </tbody>\n",
       "</table>\n",
       "<p>100 rows × 5 columns</p>\n",
       "</div>"
      ],
      "text/plain": [
       "                   user_id             business_id  score  rank  \\\n",
       "0   whKpnugMnWTz3UjlrN71yg  eGdr777YxPCBwDPEWVswSQ    5.0     1   \n",
       "1   whKpnugMnWTz3UjlrN71yg  eGdr777YxPCBwDPEWVswSQ    5.0     1   \n",
       "2   whKpnugMnWTz3UjlrN71yg  eGdr777YxPCBwDPEWVswSQ    5.0     1   \n",
       "3   whKpnugMnWTz3UjlrN71yg  eGdr777YxPCBwDPEWVswSQ    5.0     1   \n",
       "4   whKpnugMnWTz3UjlrN71yg  eGdr777YxPCBwDPEWVswSQ    5.0     1   \n",
       "5   whKpnugMnWTz3UjlrN71yg  eGdr777YxPCBwDPEWVswSQ    5.0     1   \n",
       "6   whKpnugMnWTz3UjlrN71yg  eGdr777YxPCBwDPEWVswSQ    5.0     1   \n",
       "7   whKpnugMnWTz3UjlrN71yg  eGdr777YxPCBwDPEWVswSQ    5.0     1   \n",
       "8   whKpnugMnWTz3UjlrN71yg  eGdr777YxPCBwDPEWVswSQ    5.0     1   \n",
       "9   whKpnugMnWTz3UjlrN71yg  eGdr777YxPCBwDPEWVswSQ    5.0     1   \n",
       "10  whKpnugMnWTz3UjlrN71yg  eGdr777YxPCBwDPEWVswSQ    5.0     1   \n",
       "11  whKpnugMnWTz3UjlrN71yg  eGdr777YxPCBwDPEWVswSQ    5.0     1   \n",
       "12  whKpnugMnWTz3UjlrN71yg  eGdr777YxPCBwDPEWVswSQ    5.0     1   \n",
       "13  whKpnugMnWTz3UjlrN71yg  eGdr777YxPCBwDPEWVswSQ    5.0     1   \n",
       "14  whKpnugMnWTz3UjlrN71yg  eGdr777YxPCBwDPEWVswSQ    5.0     1   \n",
       "15  whKpnugMnWTz3UjlrN71yg  eGdr777YxPCBwDPEWVswSQ    5.0     1   \n",
       "16  whKpnugMnWTz3UjlrN71yg  eGdr777YxPCBwDPEWVswSQ    5.0     1   \n",
       "17  whKpnugMnWTz3UjlrN71yg  eGdr777YxPCBwDPEWVswSQ    5.0     1   \n",
       "18  whKpnugMnWTz3UjlrN71yg  eGdr777YxPCBwDPEWVswSQ    5.0     1   \n",
       "19  whKpnugMnWTz3UjlrN71yg  eGdr777YxPCBwDPEWVswSQ    5.0     1   \n",
       "20  whKpnugMnWTz3UjlrN71yg  eGdr777YxPCBwDPEWVswSQ    5.0     1   \n",
       "21  whKpnugMnWTz3UjlrN71yg  eGdr777YxPCBwDPEWVswSQ    5.0     1   \n",
       "22  whKpnugMnWTz3UjlrN71yg  eGdr777YxPCBwDPEWVswSQ    5.0     1   \n",
       "23  whKpnugMnWTz3UjlrN71yg  eGdr777YxPCBwDPEWVswSQ    5.0     1   \n",
       "24  whKpnugMnWTz3UjlrN71yg  eGdr777YxPCBwDPEWVswSQ    5.0     1   \n",
       "25  whKpnugMnWTz3UjlrN71yg  eGdr777YxPCBwDPEWVswSQ    5.0     1   \n",
       "26  whKpnugMnWTz3UjlrN71yg  eGdr777YxPCBwDPEWVswSQ    5.0     1   \n",
       "27  whKpnugMnWTz3UjlrN71yg  eGdr777YxPCBwDPEWVswSQ    5.0     1   \n",
       "28  whKpnugMnWTz3UjlrN71yg  eGdr777YxPCBwDPEWVswSQ    5.0     1   \n",
       "29  whKpnugMnWTz3UjlrN71yg  eGdr777YxPCBwDPEWVswSQ    5.0     1   \n",
       "..                     ...                     ...    ...   ...   \n",
       "70  whKpnugMnWTz3UjlrN71yg  eGdr777YxPCBwDPEWVswSQ    5.0     1   \n",
       "71  whKpnugMnWTz3UjlrN71yg  eGdr777YxPCBwDPEWVswSQ    5.0     1   \n",
       "72  whKpnugMnWTz3UjlrN71yg  eGdr777YxPCBwDPEWVswSQ    5.0     1   \n",
       "73  whKpnugMnWTz3UjlrN71yg  eGdr777YxPCBwDPEWVswSQ    5.0     1   \n",
       "74  whKpnugMnWTz3UjlrN71yg  eGdr777YxPCBwDPEWVswSQ    5.0     1   \n",
       "75  whKpnugMnWTz3UjlrN71yg  eGdr777YxPCBwDPEWVswSQ    5.0     1   \n",
       "76  whKpnugMnWTz3UjlrN71yg  eGdr777YxPCBwDPEWVswSQ    5.0     1   \n",
       "77  whKpnugMnWTz3UjlrN71yg  eGdr777YxPCBwDPEWVswSQ    5.0     1   \n",
       "78  whKpnugMnWTz3UjlrN71yg  eGdr777YxPCBwDPEWVswSQ    5.0     1   \n",
       "79  whKpnugMnWTz3UjlrN71yg  eGdr777YxPCBwDPEWVswSQ    5.0     1   \n",
       "80  whKpnugMnWTz3UjlrN71yg  eGdr777YxPCBwDPEWVswSQ    5.0     1   \n",
       "81  whKpnugMnWTz3UjlrN71yg  eGdr777YxPCBwDPEWVswSQ    5.0     1   \n",
       "82  whKpnugMnWTz3UjlrN71yg  eGdr777YxPCBwDPEWVswSQ    5.0     1   \n",
       "83  whKpnugMnWTz3UjlrN71yg  eGdr777YxPCBwDPEWVswSQ    5.0     1   \n",
       "84  whKpnugMnWTz3UjlrN71yg  eGdr777YxPCBwDPEWVswSQ    5.0     1   \n",
       "85  whKpnugMnWTz3UjlrN71yg  eGdr777YxPCBwDPEWVswSQ    5.0     1   \n",
       "86  whKpnugMnWTz3UjlrN71yg  eGdr777YxPCBwDPEWVswSQ    5.0     1   \n",
       "87  whKpnugMnWTz3UjlrN71yg  eGdr777YxPCBwDPEWVswSQ    5.0     1   \n",
       "88  whKpnugMnWTz3UjlrN71yg  eGdr777YxPCBwDPEWVswSQ    5.0     1   \n",
       "89  whKpnugMnWTz3UjlrN71yg  eGdr777YxPCBwDPEWVswSQ    5.0     1   \n",
       "90  whKpnugMnWTz3UjlrN71yg  eGdr777YxPCBwDPEWVswSQ    5.0     1   \n",
       "91  whKpnugMnWTz3UjlrN71yg  eGdr777YxPCBwDPEWVswSQ    5.0     1   \n",
       "92  whKpnugMnWTz3UjlrN71yg  eGdr777YxPCBwDPEWVswSQ    5.0     1   \n",
       "93  whKpnugMnWTz3UjlrN71yg  eGdr777YxPCBwDPEWVswSQ    5.0     1   \n",
       "94  whKpnugMnWTz3UjlrN71yg  eGdr777YxPCBwDPEWVswSQ    5.0     1   \n",
       "95  whKpnugMnWTz3UjlrN71yg  eGdr777YxPCBwDPEWVswSQ    5.0     1   \n",
       "96  whKpnugMnWTz3UjlrN71yg  eGdr777YxPCBwDPEWVswSQ    5.0     1   \n",
       "97  whKpnugMnWTz3UjlrN71yg  eGdr777YxPCBwDPEWVswSQ    5.0     1   \n",
       "98  whKpnugMnWTz3UjlrN71yg  eGdr777YxPCBwDPEWVswSQ    5.0     1   \n",
       "99  whKpnugMnWTz3UjlrN71yg  eGdr777YxPCBwDPEWVswSQ    5.0     1   \n",
       "\n",
       "                           name  \n",
       "0   Delicias Restaurante Latino  \n",
       "1   Delicias Restaurante Latino  \n",
       "2   Delicias Restaurante Latino  \n",
       "3   Delicias Restaurante Latino  \n",
       "4   Delicias Restaurante Latino  \n",
       "5   Delicias Restaurante Latino  \n",
       "6   Delicias Restaurante Latino  \n",
       "7   Delicias Restaurante Latino  \n",
       "8   Delicias Restaurante Latino  \n",
       "9   Delicias Restaurante Latino  \n",
       "10  Delicias Restaurante Latino  \n",
       "11  Delicias Restaurante Latino  \n",
       "12  Delicias Restaurante Latino  \n",
       "13  Delicias Restaurante Latino  \n",
       "14  Delicias Restaurante Latino  \n",
       "15  Delicias Restaurante Latino  \n",
       "16  Delicias Restaurante Latino  \n",
       "17  Delicias Restaurante Latino  \n",
       "18  Delicias Restaurante Latino  \n",
       "19  Delicias Restaurante Latino  \n",
       "20  Delicias Restaurante Latino  \n",
       "21  Delicias Restaurante Latino  \n",
       "22  Delicias Restaurante Latino  \n",
       "23  Delicias Restaurante Latino  \n",
       "24  Delicias Restaurante Latino  \n",
       "25  Delicias Restaurante Latino  \n",
       "26  Delicias Restaurante Latino  \n",
       "27  Delicias Restaurante Latino  \n",
       "28  Delicias Restaurante Latino  \n",
       "29  Delicias Restaurante Latino  \n",
       "..                          ...  \n",
       "70  Delicias Restaurante Latino  \n",
       "71  Delicias Restaurante Latino  \n",
       "72  Delicias Restaurante Latino  \n",
       "73  Delicias Restaurante Latino  \n",
       "74  Delicias Restaurante Latino  \n",
       "75  Delicias Restaurante Latino  \n",
       "76  Delicias Restaurante Latino  \n",
       "77  Delicias Restaurante Latino  \n",
       "78  Delicias Restaurante Latino  \n",
       "79  Delicias Restaurante Latino  \n",
       "80  Delicias Restaurante Latino  \n",
       "81  Delicias Restaurante Latino  \n",
       "82  Delicias Restaurante Latino  \n",
       "83  Delicias Restaurante Latino  \n",
       "84  Delicias Restaurante Latino  \n",
       "85  Delicias Restaurante Latino  \n",
       "86  Delicias Restaurante Latino  \n",
       "87  Delicias Restaurante Latino  \n",
       "88  Delicias Restaurante Latino  \n",
       "89  Delicias Restaurante Latino  \n",
       "90  Delicias Restaurante Latino  \n",
       "91  Delicias Restaurante Latino  \n",
       "92  Delicias Restaurante Latino  \n",
       "93  Delicias Restaurante Latino  \n",
       "94  Delicias Restaurante Latino  \n",
       "95  Delicias Restaurante Latino  \n",
       "96  Delicias Restaurante Latino  \n",
       "97  Delicias Restaurante Latino  \n",
       "98  Delicias Restaurante Latino  \n",
       "99  Delicias Restaurante Latino  \n",
       "\n",
       "[100 rows x 5 columns]"
      ]
     },
     "execution_count": 38,
     "metadata": {},
     "output_type": "execute_result"
    }
   ],
   "source": [
    "popularity_recomm.head(100)"
   ]
  },
  {
   "cell_type": "code",
   "execution_count": 39,
   "metadata": {},
   "outputs": [
    {
     "data": {
      "text/html": [
       "<pre>recommendations finished on 1000/14839 queries. users per second: 60448.5</pre>"
      ],
      "text/plain": [
       "recommendations finished on 1000/14839 queries. users per second: 60448.5"
      ]
     },
     "metadata": {},
     "output_type": "display_data"
    },
    {
     "data": {
      "text/html": [
       "<pre>recommendations finished on 2000/14839 queries. users per second: 67617.8</pre>"
      ],
      "text/plain": [
       "recommendations finished on 2000/14839 queries. users per second: 67617.8"
      ]
     },
     "metadata": {},
     "output_type": "display_data"
    },
    {
     "data": {
      "text/html": [
       "<pre>recommendations finished on 3000/14839 queries. users per second: 56454.6</pre>"
      ],
      "text/plain": [
       "recommendations finished on 3000/14839 queries. users per second: 56454.6"
      ]
     },
     "metadata": {},
     "output_type": "display_data"
    },
    {
     "data": {
      "text/html": [
       "<pre>recommendations finished on 4000/14839 queries. users per second: 60444.9</pre>"
      ],
      "text/plain": [
       "recommendations finished on 4000/14839 queries. users per second: 60444.9"
      ]
     },
     "metadata": {},
     "output_type": "display_data"
    },
    {
     "data": {
      "text/html": [
       "<pre>recommendations finished on 5000/14839 queries. users per second: 56991.1</pre>"
      ],
      "text/plain": [
       "recommendations finished on 5000/14839 queries. users per second: 56991.1"
      ]
     },
     "metadata": {},
     "output_type": "display_data"
    },
    {
     "data": {
      "text/html": [
       "<pre>recommendations finished on 6000/14839 queries. users per second: 44326.6</pre>"
      ],
      "text/plain": [
       "recommendations finished on 6000/14839 queries. users per second: 44326.6"
      ]
     },
     "metadata": {},
     "output_type": "display_data"
    },
    {
     "data": {
      "text/html": [
       "<pre>recommendations finished on 7000/14839 queries. users per second: 47492.4</pre>"
      ],
      "text/plain": [
       "recommendations finished on 7000/14839 queries. users per second: 47492.4"
      ]
     },
     "metadata": {},
     "output_type": "display_data"
    },
    {
     "data": {
      "text/html": [
       "<pre>recommendations finished on 8000/14839 queries. users per second: 43719.2</pre>"
      ],
      "text/plain": [
       "recommendations finished on 8000/14839 queries. users per second: 43719.2"
      ]
     },
     "metadata": {},
     "output_type": "display_data"
    },
    {
     "data": {
      "text/html": [
       "<pre>recommendations finished on 9000/14839 queries. users per second: 44768.3</pre>"
      ],
      "text/plain": [
       "recommendations finished on 9000/14839 queries. users per second: 44768.3"
      ]
     },
     "metadata": {},
     "output_type": "display_data"
    },
    {
     "data": {
      "text/html": [
       "<pre>recommendations finished on 10000/14839 queries. users per second: 42621.2</pre>"
      ],
      "text/plain": [
       "recommendations finished on 10000/14839 queries. users per second: 42621.2"
      ]
     },
     "metadata": {},
     "output_type": "display_data"
    },
    {
     "data": {
      "text/html": [
       "<pre>recommendations finished on 11000/14839 queries. users per second: 41399</pre>"
      ],
      "text/plain": [
       "recommendations finished on 11000/14839 queries. users per second: 41399"
      ]
     },
     "metadata": {},
     "output_type": "display_data"
    },
    {
     "data": {
      "text/html": [
       "<pre>recommendations finished on 12000/14839 queries. users per second: 40093.7</pre>"
      ],
      "text/plain": [
       "recommendations finished on 12000/14839 queries. users per second: 40093.7"
      ]
     },
     "metadata": {},
     "output_type": "display_data"
    },
    {
     "data": {
      "text/html": [
       "<pre>recommendations finished on 13000/14839 queries. users per second: 39348.9</pre>"
      ],
      "text/plain": [
       "recommendations finished on 13000/14839 queries. users per second: 39348.9"
      ]
     },
     "metadata": {},
     "output_type": "display_data"
    },
    {
     "data": {
      "text/html": [
       "<pre>recommendations finished on 14000/14839 queries. users per second: 39893.5</pre>"
      ],
      "text/plain": [
       "recommendations finished on 14000/14839 queries. users per second: 39893.5"
      ]
     },
     "metadata": {},
     "output_type": "display_data"
    },
    {
     "name": "stdout",
     "output_type": "stream",
     "text": [
      "\n",
      "Precision and recall summary statistics by cutoff\n",
      "+--------+-------------------+-------------------+\n",
      "| cutoff |   mean_precision  |    mean_recall    |\n",
      "+--------+-------------------+-------------------+\n",
      "|   1    | 0.000134779971696 | 8.98533144641e-05 |\n",
      "|   2    | 0.000202169957544 | 0.000184875747161 |\n",
      "|   3    | 0.000179706628928 | 0.000241034068701 |\n",
      "|   4    |  0.00016847496462 |  0.00027869317844 |\n",
      "|   5    | 0.000161735966035 | 0.000379778157212 |\n",
      "|   6    | 0.000157243300312 | 0.000407425330893 |\n",
      "|   7    | 0.000163661394203 | 0.000553436966897 |\n",
      "|   8    | 0.000160051216389 | 0.000637674449207 |\n",
      "|   9    | 0.000172218852723 | 0.000720227181871 |\n",
      "|   10   | 0.000175213963205 | 0.000922397139416 |\n",
      "+--------+-------------------+-------------------+\n",
      "[10 rows x 3 columns]\n",
      "\n",
      "('\\nOverall RMSE: ', 1.1988239955576159)\n",
      "\n",
      "Per User RMSE (best)\n",
      "+------------------------+-------+------+\n",
      "|        user_id         | count | rmse |\n",
      "+------------------------+-------+------+\n",
      "| dkeasvczMuTV4J3-rS3CoQ |   1   | 0.0  |\n",
      "+------------------------+-------+------+\n",
      "[1 rows x 3 columns]\n",
      "\n",
      "\n",
      "Per User RMSE (worst)\n",
      "+------------------------+-------+------+\n",
      "|        user_id         | count | rmse |\n",
      "+------------------------+-------+------+\n",
      "| NbK54672GVhjKQr3wJ2PqA |   1   | 4.0  |\n",
      "+------------------------+-------+------+\n",
      "[1 rows x 3 columns]\n",
      "\n",
      "\n",
      "Per Item RMSE (best)\n",
      "+------------------------+-------+------+\n",
      "|      business_id       | count | rmse |\n",
      "+------------------------+-------+------+\n",
      "| b3m7PUh16AWtPGrqTfYFlA |   1   | 0.0  |\n",
      "+------------------------+-------+------+\n",
      "[1 rows x 3 columns]\n",
      "\n",
      "\n",
      "Per Item RMSE (worst)\n",
      "+------------------------+-------+------+\n",
      "|      business_id       | count | rmse |\n",
      "+------------------------+-------+------+\n",
      "| DPtF2QWAMllTudwSeWBbhA |   2   | 4.0  |\n",
      "+------------------------+-------+------+\n",
      "[1 rows x 3 columns]\n",
      "\n"
     ]
    },
    {
     "data": {
      "text/plain": [
       "{'precision_recall_by_user': Columns:\n",
       " \tuser_id\tstr\n",
       " \tcutoff\tint\n",
       " \tprecision\tfloat\n",
       " \trecall\tfloat\n",
       " \tcount\tint\n",
       " \n",
       " Rows: 267102\n",
       " \n",
       " Data:\n",
       " +------------------------+--------+-----------+--------+-------+\n",
       " |        user_id         | cutoff | precision | recall | count |\n",
       " +------------------------+--------+-----------+--------+-------+\n",
       " | --9jRaeY1xK-2l9r9fVQWA |   1    |    0.0    |  0.0   |   1   |\n",
       " | --9jRaeY1xK-2l9r9fVQWA |   2    |    0.0    |  0.0   |   1   |\n",
       " | --9jRaeY1xK-2l9r9fVQWA |   3    |    0.0    |  0.0   |   1   |\n",
       " | --9jRaeY1xK-2l9r9fVQWA |   4    |    0.0    |  0.0   |   1   |\n",
       " | --9jRaeY1xK-2l9r9fVQWA |   5    |    0.0    |  0.0   |   1   |\n",
       " | --9jRaeY1xK-2l9r9fVQWA |   6    |    0.0    |  0.0   |   1   |\n",
       " | --9jRaeY1xK-2l9r9fVQWA |   7    |    0.0    |  0.0   |   1   |\n",
       " | --9jRaeY1xK-2l9r9fVQWA |   8    |    0.0    |  0.0   |   1   |\n",
       " | --9jRaeY1xK-2l9r9fVQWA |   9    |    0.0    |  0.0   |   1   |\n",
       " | --9jRaeY1xK-2l9r9fVQWA |   10   |    0.0    |  0.0   |   1   |\n",
       " +------------------------+--------+-----------+--------+-------+\n",
       " [267102 rows x 5 columns]\n",
       " Note: Only the head of the SFrame is printed.\n",
       " You can use print_rows(num_rows=m, num_columns=n) to print more rows and columns.,\n",
       " 'precision_recall_overall': Columns:\n",
       " \tcutoff\tint\n",
       " \tprecision\tfloat\n",
       " \trecall\tfloat\n",
       " \n",
       " Rows: 18\n",
       " \n",
       " Data:\n",
       " +--------+-------------------+-------------------+\n",
       " | cutoff |     precision     |       recall      |\n",
       " +--------+-------------------+-------------------+\n",
       " |   1    | 0.000134779971696 | 8.98533144641e-05 |\n",
       " |   2    | 0.000202169957544 | 0.000184875747161 |\n",
       " |   3    | 0.000179706628928 | 0.000241034068701 |\n",
       " |   4    |  0.00016847496462 |  0.00027869317844 |\n",
       " |   5    | 0.000161735966035 | 0.000379778157212 |\n",
       " |   6    | 0.000157243300312 | 0.000407425330893 |\n",
       " |   7    | 0.000163661394203 | 0.000553436966897 |\n",
       " |   8    | 0.000160051216389 | 0.000637674449207 |\n",
       " |   9    | 0.000172218852723 | 0.000720227181871 |\n",
       " |   10   | 0.000175213963205 | 0.000922397139416 |\n",
       " +--------+-------------------+-------------------+\n",
       " [18 rows x 3 columns]\n",
       " Note: Only the head of the SFrame is printed.\n",
       " You can use print_rows(num_rows=m, num_columns=n) to print more rows and columns.,\n",
       " 'rmse_by_item': Columns:\n",
       " \tbusiness_id\tstr\n",
       " \tcount\tint\n",
       " \trmse\tfloat\n",
       " \n",
       " Rows: 1884\n",
       " \n",
       " Data:\n",
       " +------------------------+-------+----------------+\n",
       " |      business_id       | count |      rmse      |\n",
       " +------------------------+-------+----------------+\n",
       " | y8nPIHOkYzS9NIDZjWTTSA |   11  | 1.20084917059  |\n",
       " | nKJERtWMwBF-eL3skiRiBw |   27  | 0.792472324243 |\n",
       " | 8unAqwsmtYQrwCqL1IYx-Q |   11  | 1.22992978366  |\n",
       " | eyI-uJa_HBm7wAgeKVqdIA |   1   |      2.0       |\n",
       " | xx1JcTcQ2mM9cCpMxyNJBA |   4   | 1.69148192752  |\n",
       " | ZKkI1U5TkAEkvaEjzgBVdw |   19  | 1.31753108422  |\n",
       " | MC8Fv4Hd4reUsTKJYoZPfg |   65  | 0.920952867029 |\n",
       " | 5nisFSuX7Bn9BHME5Lrqyg |   1   |      0.8       |\n",
       " | k9JpdrfeJmmgV5Op44stvQ |   33  | 1.00529972514  |\n",
       " | lk5FDr0ZG9ZCZATGikzdQg |   2   | 1.41421356237  |\n",
       " +------------------------+-------+----------------+\n",
       " [1884 rows x 3 columns]\n",
       " Note: Only the head of the SFrame is printed.\n",
       " You can use print_rows(num_rows=m, num_columns=n) to print more rows and columns.,\n",
       " 'rmse_by_user': Columns:\n",
       " \tuser_id\tstr\n",
       " \tcount\tint\n",
       " \trmse\tfloat\n",
       " \n",
       " Rows: 14839\n",
       " \n",
       " Data:\n",
       " +------------------------+-------+-----------------+\n",
       " |        user_id         | count |       rmse      |\n",
       " +------------------------+-------+-----------------+\n",
       " | qoCiVbpo84wzMVLaAhqxug |   1   | 0.0457516339869 |\n",
       " | os5uG-Dioj80tvnZIAzF1A |   2   |  1.28060596124  |\n",
       " | JJb9DCEdf_G_ATmGPmKUPA |   1   |  1.71428571429  |\n",
       " | v4v9ryANBbmYn1oHprv8rg |   2   |      1.625      |\n",
       " | wPkm4Es9gcv934a-MMRa7w |   5   |  0.990611770377 |\n",
       " | tM_EEYCfYA5XmKM1zaK7YQ |   1   |  0.756476683938 |\n",
       " | Zz7hKWQHeXDNAqVQkITCiA |   1   |  2.66071428571  |\n",
       " | PGBWN4nXKWu7TIv426cM0Q |   1   |  0.369963369963 |\n",
       " | UFLQQS9-0kK-louQDURddA |   1   |  0.788461538462 |\n",
       " | ML4NzeGbwnz4trRbp_MIgg |   1   |   1.1320754717  |\n",
       " +------------------------+-------+-----------------+\n",
       " [14839 rows x 3 columns]\n",
       " Note: Only the head of the SFrame is printed.\n",
       " You can use print_rows(num_rows=m, num_columns=n) to print more rows and columns.,\n",
       " 'rmse_overall': 1.1988239955576159}"
      ]
     },
     "execution_count": 39,
     "metadata": {},
     "output_type": "execute_result"
    }
   ],
   "source": [
    "popularity_model.evaluate(pop_data_test)"
   ]
  },
  {
   "cell_type": "markdown",
   "metadata": {},
   "source": [
    "## 4 Collaborative Filtering Model item based"
   ]
  },
  {
   "cell_type": "code",
   "execution_count": 40,
   "metadata": {},
   "outputs": [
    {
     "data": {
      "text/html": [
       "<pre>Recsys training: model = item_similarity</pre>"
      ],
      "text/plain": [
       "Recsys training: model = item_similarity"
      ]
     },
     "metadata": {},
     "output_type": "display_data"
    },
    {
     "data": {
      "text/html": [
       "<pre>Warning: Ignoring columns name, avg_stars, normalized_stars;</pre>"
      ],
      "text/plain": [
       "Warning: Ignoring columns name, avg_stars, normalized_stars;"
      ]
     },
     "metadata": {},
     "output_type": "display_data"
    },
    {
     "data": {
      "text/html": [
       "<pre>    To use these columns in scoring predictions, use a model that allows the use of additional features.</pre>"
      ],
      "text/plain": [
       "    To use these columns in scoring predictions, use a model that allows the use of additional features."
      ]
     },
     "metadata": {},
     "output_type": "display_data"
    },
    {
     "data": {
      "text/html": [
       "<pre>Preparing data set.</pre>"
      ],
      "text/plain": [
       "Preparing data set."
      ]
     },
     "metadata": {},
     "output_type": "display_data"
    },
    {
     "data": {
      "text/html": [
       "<pre>    Data has 70721 observations with 25809 users and 1999 items.</pre>"
      ],
      "text/plain": [
       "    Data has 70721 observations with 25809 users and 1999 items."
      ]
     },
     "metadata": {},
     "output_type": "display_data"
    },
    {
     "data": {
      "text/html": [
       "<pre>    Data prepared in: 0.201034s</pre>"
      ],
      "text/plain": [
       "    Data prepared in: 0.201034s"
      ]
     },
     "metadata": {},
     "output_type": "display_data"
    },
    {
     "data": {
      "text/html": [
       "<pre>Training model from provided data.</pre>"
      ],
      "text/plain": [
       "Training model from provided data."
      ]
     },
     "metadata": {},
     "output_type": "display_data"
    },
    {
     "data": {
      "text/html": [
       "<pre>Gathering per-item and per-user statistics.</pre>"
      ],
      "text/plain": [
       "Gathering per-item and per-user statistics."
      ]
     },
     "metadata": {},
     "output_type": "display_data"
    },
    {
     "data": {
      "text/html": [
       "<pre>+--------------------------------+------------+</pre>"
      ],
      "text/plain": [
       "+--------------------------------+------------+"
      ]
     },
     "metadata": {},
     "output_type": "display_data"
    },
    {
     "data": {
      "text/html": [
       "<pre>| Elapsed Time (Item Statistics) | % Complete |</pre>"
      ],
      "text/plain": [
       "| Elapsed Time (Item Statistics) | % Complete |"
      ]
     },
     "metadata": {},
     "output_type": "display_data"
    },
    {
     "data": {
      "text/html": [
       "<pre>+--------------------------------+------------+</pre>"
      ],
      "text/plain": [
       "+--------------------------------+------------+"
      ]
     },
     "metadata": {},
     "output_type": "display_data"
    },
    {
     "data": {
      "text/html": [
       "<pre>| 2.968ms                        | 3.75       |</pre>"
      ],
      "text/plain": [
       "| 2.968ms                        | 3.75       |"
      ]
     },
     "metadata": {},
     "output_type": "display_data"
    },
    {
     "data": {
      "text/html": [
       "<pre>| 6.977ms                        | 100        |</pre>"
      ],
      "text/plain": [
       "| 6.977ms                        | 100        |"
      ]
     },
     "metadata": {},
     "output_type": "display_data"
    },
    {
     "data": {
      "text/html": [
       "<pre>+--------------------------------+------------+</pre>"
      ],
      "text/plain": [
       "+--------------------------------+------------+"
      ]
     },
     "metadata": {},
     "output_type": "display_data"
    },
    {
     "data": {
      "text/html": [
       "<pre>Setting up lookup tables.</pre>"
      ],
      "text/plain": [
       "Setting up lookup tables."
      ]
     },
     "metadata": {},
     "output_type": "display_data"
    },
    {
     "data": {
      "text/html": [
       "<pre>Processing data in one pass using dense lookup tables.</pre>"
      ],
      "text/plain": [
       "Processing data in one pass using dense lookup tables."
      ]
     },
     "metadata": {},
     "output_type": "display_data"
    },
    {
     "data": {
      "text/html": [
       "<pre>+-------------------------------------+------------------+-----------------+</pre>"
      ],
      "text/plain": [
       "+-------------------------------------+------------------+-----------------+"
      ]
     },
     "metadata": {},
     "output_type": "display_data"
    },
    {
     "data": {
      "text/html": [
       "<pre>| Elapsed Time (Constructing Lookups) | Total % Complete | Items Processed |</pre>"
      ],
      "text/plain": [
       "| Elapsed Time (Constructing Lookups) | Total % Complete | Items Processed |"
      ]
     },
     "metadata": {},
     "output_type": "display_data"
    },
    {
     "data": {
      "text/html": [
       "<pre>+-------------------------------------+------------------+-----------------+</pre>"
      ],
      "text/plain": [
       "+-------------------------------------+------------------+-----------------+"
      ]
     },
     "metadata": {},
     "output_type": "display_data"
    },
    {
     "data": {
      "text/html": [
       "<pre>| 22.058ms                            | 0                | 0               |</pre>"
      ],
      "text/plain": [
       "| 22.058ms                            | 0                | 0               |"
      ]
     },
     "metadata": {},
     "output_type": "display_data"
    },
    {
     "data": {
      "text/html": [
       "<pre>| 136.863ms                           | 100              | 1999            |</pre>"
      ],
      "text/plain": [
       "| 136.863ms                           | 100              | 1999            |"
      ]
     },
     "metadata": {},
     "output_type": "display_data"
    },
    {
     "data": {
      "text/html": [
       "<pre>+-------------------------------------+------------------+-----------------+</pre>"
      ],
      "text/plain": [
       "+-------------------------------------+------------------+-----------------+"
      ]
     },
     "metadata": {},
     "output_type": "display_data"
    },
    {
     "data": {
      "text/html": [
       "<pre>Finalizing lookup tables.</pre>"
      ],
      "text/plain": [
       "Finalizing lookup tables."
      ]
     },
     "metadata": {},
     "output_type": "display_data"
    },
    {
     "data": {
      "text/html": [
       "<pre>Generating candidate set for working with new users.</pre>"
      ],
      "text/plain": [
       "Generating candidate set for working with new users."
      ]
     },
     "metadata": {},
     "output_type": "display_data"
    },
    {
     "data": {
      "text/html": [
       "<pre>Finished training in 1.15854s</pre>"
      ],
      "text/plain": [
       "Finished training in 1.15854s"
      ]
     },
     "metadata": {},
     "output_type": "display_data"
    }
   ],
   "source": [
    "#Train Model\n",
    "item_bases_model = gl.item_similarity_recommender.create(pop_data_train, \\\n",
    "                                        user_id='user_id', item_id='business_id', target='stars', similarity_type='pearson')"
   ]
  },
  {
   "cell_type": "code",
   "execution_count": 41,
   "metadata": {},
   "outputs": [
    {
     "data": {
      "text/html": [
       "<pre>recommendations finished on 1000/70721 queries. users per second: 35620.1</pre>"
      ],
      "text/plain": [
       "recommendations finished on 1000/70721 queries. users per second: 35620.1"
      ]
     },
     "metadata": {},
     "output_type": "display_data"
    },
    {
     "data": {
      "text/html": [
       "<pre>recommendations finished on 2000/70721 queries. users per second: 33808.9</pre>"
      ],
      "text/plain": [
       "recommendations finished on 2000/70721 queries. users per second: 33808.9"
      ]
     },
     "metadata": {},
     "output_type": "display_data"
    },
    {
     "data": {
      "text/html": [
       "<pre>recommendations finished on 3000/70721 queries. users per second: 33997.8</pre>"
      ],
      "text/plain": [
       "recommendations finished on 3000/70721 queries. users per second: 33997.8"
      ]
     },
     "metadata": {},
     "output_type": "display_data"
    },
    {
     "data": {
      "text/html": [
       "<pre>recommendations finished on 4000/70721 queries. users per second: 32834.5</pre>"
      ],
      "text/plain": [
       "recommendations finished on 4000/70721 queries. users per second: 32834.5"
      ]
     },
     "metadata": {},
     "output_type": "display_data"
    },
    {
     "data": {
      "text/html": [
       "<pre>recommendations finished on 5000/70721 queries. users per second: 27101.7</pre>"
      ],
      "text/plain": [
       "recommendations finished on 5000/70721 queries. users per second: 27101.7"
      ]
     },
     "metadata": {},
     "output_type": "display_data"
    },
    {
     "data": {
      "text/html": [
       "<pre>recommendations finished on 6000/70721 queries. users per second: 28769.5</pre>"
      ],
      "text/plain": [
       "recommendations finished on 6000/70721 queries. users per second: 28769.5"
      ]
     },
     "metadata": {},
     "output_type": "display_data"
    },
    {
     "data": {
      "text/html": [
       "<pre>recommendations finished on 7000/70721 queries. users per second: 28908.2</pre>"
      ],
      "text/plain": [
       "recommendations finished on 7000/70721 queries. users per second: 28908.2"
      ]
     },
     "metadata": {},
     "output_type": "display_data"
    },
    {
     "data": {
      "text/html": [
       "<pre>recommendations finished on 8000/70721 queries. users per second: 28960.7</pre>"
      ],
      "text/plain": [
       "recommendations finished on 8000/70721 queries. users per second: 28960.7"
      ]
     },
     "metadata": {},
     "output_type": "display_data"
    },
    {
     "data": {
      "text/html": [
       "<pre>recommendations finished on 9000/70721 queries. users per second: 28450.3</pre>"
      ],
      "text/plain": [
       "recommendations finished on 9000/70721 queries. users per second: 28450.3"
      ]
     },
     "metadata": {},
     "output_type": "display_data"
    },
    {
     "data": {
      "text/html": [
       "<pre>recommendations finished on 10000/70721 queries. users per second: 29247.5</pre>"
      ],
      "text/plain": [
       "recommendations finished on 10000/70721 queries. users per second: 29247.5"
      ]
     },
     "metadata": {},
     "output_type": "display_data"
    },
    {
     "data": {
      "text/html": [
       "<pre>recommendations finished on 11000/70721 queries. users per second: 30473.8</pre>"
      ],
      "text/plain": [
       "recommendations finished on 11000/70721 queries. users per second: 30473.8"
      ]
     },
     "metadata": {},
     "output_type": "display_data"
    },
    {
     "data": {
      "text/html": [
       "<pre>recommendations finished on 12000/70721 queries. users per second: 30845.6</pre>"
      ],
      "text/plain": [
       "recommendations finished on 12000/70721 queries. users per second: 30845.6"
      ]
     },
     "metadata": {},
     "output_type": "display_data"
    },
    {
     "data": {
      "text/html": [
       "<pre>recommendations finished on 13000/70721 queries. users per second: 32092.7</pre>"
      ],
      "text/plain": [
       "recommendations finished on 13000/70721 queries. users per second: 32092.7"
      ]
     },
     "metadata": {},
     "output_type": "display_data"
    },
    {
     "data": {
      "text/html": [
       "<pre>recommendations finished on 14000/70721 queries. users per second: 31518.6</pre>"
      ],
      "text/plain": [
       "recommendations finished on 14000/70721 queries. users per second: 31518.6"
      ]
     },
     "metadata": {},
     "output_type": "display_data"
    },
    {
     "data": {
      "text/html": [
       "<pre>recommendations finished on 15000/70721 queries. users per second: 32137.7</pre>"
      ],
      "text/plain": [
       "recommendations finished on 15000/70721 queries. users per second: 32137.7"
      ]
     },
     "metadata": {},
     "output_type": "display_data"
    },
    {
     "data": {
      "text/html": [
       "<pre>recommendations finished on 16000/70721 queries. users per second: 32902</pre>"
      ],
      "text/plain": [
       "recommendations finished on 16000/70721 queries. users per second: 32902"
      ]
     },
     "metadata": {},
     "output_type": "display_data"
    },
    {
     "data": {
      "text/html": [
       "<pre>recommendations finished on 17000/70721 queries. users per second: 32921.9</pre>"
      ],
      "text/plain": [
       "recommendations finished on 17000/70721 queries. users per second: 32921.9"
      ]
     },
     "metadata": {},
     "output_type": "display_data"
    },
    {
     "data": {
      "text/html": [
       "<pre>recommendations finished on 18000/70721 queries. users per second: 33840.1</pre>"
      ],
      "text/plain": [
       "recommendations finished on 18000/70721 queries. users per second: 33840.1"
      ]
     },
     "metadata": {},
     "output_type": "display_data"
    },
    {
     "data": {
      "text/html": [
       "<pre>recommendations finished on 19000/70721 queries. users per second: 33568.5</pre>"
      ],
      "text/plain": [
       "recommendations finished on 19000/70721 queries. users per second: 33568.5"
      ]
     },
     "metadata": {},
     "output_type": "display_data"
    },
    {
     "data": {
      "text/html": [
       "<pre>recommendations finished on 20000/70721 queries. users per second: 34155.5</pre>"
      ],
      "text/plain": [
       "recommendations finished on 20000/70721 queries. users per second: 34155.5"
      ]
     },
     "metadata": {},
     "output_type": "display_data"
    },
    {
     "data": {
      "text/html": [
       "<pre>recommendations finished on 21000/70721 queries. users per second: 33780.8</pre>"
      ],
      "text/plain": [
       "recommendations finished on 21000/70721 queries. users per second: 33780.8"
      ]
     },
     "metadata": {},
     "output_type": "display_data"
    },
    {
     "data": {
      "text/html": [
       "<pre>recommendations finished on 22000/70721 queries. users per second: 34176.8</pre>"
      ],
      "text/plain": [
       "recommendations finished on 22000/70721 queries. users per second: 34176.8"
      ]
     },
     "metadata": {},
     "output_type": "display_data"
    },
    {
     "data": {
      "text/html": [
       "<pre>recommendations finished on 23000/70721 queries. users per second: 34624.7</pre>"
      ],
      "text/plain": [
       "recommendations finished on 23000/70721 queries. users per second: 34624.7"
      ]
     },
     "metadata": {},
     "output_type": "display_data"
    },
    {
     "data": {
      "text/html": [
       "<pre>recommendations finished on 24000/70721 queries. users per second: 34024.4</pre>"
      ],
      "text/plain": [
       "recommendations finished on 24000/70721 queries. users per second: 34024.4"
      ]
     },
     "metadata": {},
     "output_type": "display_data"
    },
    {
     "data": {
      "text/html": [
       "<pre>recommendations finished on 25000/70721 queries. users per second: 34367.4</pre>"
      ],
      "text/plain": [
       "recommendations finished on 25000/70721 queries. users per second: 34367.4"
      ]
     },
     "metadata": {},
     "output_type": "display_data"
    },
    {
     "data": {
      "text/html": [
       "<pre>recommendations finished on 26000/70721 queries. users per second: 33896.5</pre>"
      ],
      "text/plain": [
       "recommendations finished on 26000/70721 queries. users per second: 33896.5"
      ]
     },
     "metadata": {},
     "output_type": "display_data"
    },
    {
     "data": {
      "text/html": [
       "<pre>recommendations finished on 27000/70721 queries. users per second: 33978.8</pre>"
      ],
      "text/plain": [
       "recommendations finished on 27000/70721 queries. users per second: 33978.8"
      ]
     },
     "metadata": {},
     "output_type": "display_data"
    },
    {
     "data": {
      "text/html": [
       "<pre>recommendations finished on 28000/70721 queries. users per second: 33665.5</pre>"
      ],
      "text/plain": [
       "recommendations finished on 28000/70721 queries. users per second: 33665.5"
      ]
     },
     "metadata": {},
     "output_type": "display_data"
    },
    {
     "data": {
      "text/html": [
       "<pre>recommendations finished on 29000/70721 queries. users per second: 33947</pre>"
      ],
      "text/plain": [
       "recommendations finished on 29000/70721 queries. users per second: 33947"
      ]
     },
     "metadata": {},
     "output_type": "display_data"
    },
    {
     "data": {
      "text/html": [
       "<pre>recommendations finished on 30000/70721 queries. users per second: 33675</pre>"
      ],
      "text/plain": [
       "recommendations finished on 30000/70721 queries. users per second: 33675"
      ]
     },
     "metadata": {},
     "output_type": "display_data"
    },
    {
     "data": {
      "text/html": [
       "<pre>recommendations finished on 31000/70721 queries. users per second: 34031.4</pre>"
      ],
      "text/plain": [
       "recommendations finished on 31000/70721 queries. users per second: 34031.4"
      ]
     },
     "metadata": {},
     "output_type": "display_data"
    },
    {
     "data": {
      "text/html": [
       "<pre>recommendations finished on 32000/70721 queries. users per second: 33123.8</pre>"
      ],
      "text/plain": [
       "recommendations finished on 32000/70721 queries. users per second: 33123.8"
      ]
     },
     "metadata": {},
     "output_type": "display_data"
    },
    {
     "data": {
      "text/html": [
       "<pre>recommendations finished on 33000/70721 queries. users per second: 33413.4</pre>"
      ],
      "text/plain": [
       "recommendations finished on 33000/70721 queries. users per second: 33413.4"
      ]
     },
     "metadata": {},
     "output_type": "display_data"
    },
    {
     "data": {
      "text/html": [
       "<pre>recommendations finished on 34000/70721 queries. users per second: 33017.9</pre>"
      ],
      "text/plain": [
       "recommendations finished on 34000/70721 queries. users per second: 33017.9"
      ]
     },
     "metadata": {},
     "output_type": "display_data"
    },
    {
     "data": {
      "text/html": [
       "<pre>recommendations finished on 35000/70721 queries. users per second: 32577.6</pre>"
      ],
      "text/plain": [
       "recommendations finished on 35000/70721 queries. users per second: 32577.6"
      ]
     },
     "metadata": {},
     "output_type": "display_data"
    },
    {
     "data": {
      "text/html": [
       "<pre>recommendations finished on 36000/70721 queries. users per second: 32566.2</pre>"
      ],
      "text/plain": [
       "recommendations finished on 36000/70721 queries. users per second: 32566.2"
      ]
     },
     "metadata": {},
     "output_type": "display_data"
    },
    {
     "data": {
      "text/html": [
       "<pre>recommendations finished on 37000/70721 queries. users per second: 32757.7</pre>"
      ],
      "text/plain": [
       "recommendations finished on 37000/70721 queries. users per second: 32757.7"
      ]
     },
     "metadata": {},
     "output_type": "display_data"
    },
    {
     "data": {
      "text/html": [
       "<pre>recommendations finished on 38000/70721 queries. users per second: 33085.1</pre>"
      ],
      "text/plain": [
       "recommendations finished on 38000/70721 queries. users per second: 33085.1"
      ]
     },
     "metadata": {},
     "output_type": "display_data"
    },
    {
     "data": {
      "text/html": [
       "<pre>recommendations finished on 39000/70721 queries. users per second: 33047</pre>"
      ],
      "text/plain": [
       "recommendations finished on 39000/70721 queries. users per second: 33047"
      ]
     },
     "metadata": {},
     "output_type": "display_data"
    },
    {
     "data": {
      "text/html": [
       "<pre>recommendations finished on 40000/70721 queries. users per second: 33175.2</pre>"
      ],
      "text/plain": [
       "recommendations finished on 40000/70721 queries. users per second: 33175.2"
      ]
     },
     "metadata": {},
     "output_type": "display_data"
    },
    {
     "data": {
      "text/html": [
       "<pre>recommendations finished on 41000/70721 queries. users per second: 32963.3</pre>"
      ],
      "text/plain": [
       "recommendations finished on 41000/70721 queries. users per second: 32963.3"
      ]
     },
     "metadata": {},
     "output_type": "display_data"
    },
    {
     "data": {
      "text/html": [
       "<pre>recommendations finished on 42000/70721 queries. users per second: 33165.7</pre>"
      ],
      "text/plain": [
       "recommendations finished on 42000/70721 queries. users per second: 33165.7"
      ]
     },
     "metadata": {},
     "output_type": "display_data"
    },
    {
     "data": {
      "text/html": [
       "<pre>recommendations finished on 43000/70721 queries. users per second: 33335.1</pre>"
      ],
      "text/plain": [
       "recommendations finished on 43000/70721 queries. users per second: 33335.1"
      ]
     },
     "metadata": {},
     "output_type": "display_data"
    },
    {
     "data": {
      "text/html": [
       "<pre>recommendations finished on 44000/70721 queries. users per second: 33678.4</pre>"
      ],
      "text/plain": [
       "recommendations finished on 44000/70721 queries. users per second: 33678.4"
      ]
     },
     "metadata": {},
     "output_type": "display_data"
    },
    {
     "data": {
      "text/html": [
       "<pre>recommendations finished on 45000/70721 queries. users per second: 33542.2</pre>"
      ],
      "text/plain": [
       "recommendations finished on 45000/70721 queries. users per second: 33542.2"
      ]
     },
     "metadata": {},
     "output_type": "display_data"
    },
    {
     "data": {
      "text/html": [
       "<pre>recommendations finished on 46000/70721 queries. users per second: 33425.6</pre>"
      ],
      "text/plain": [
       "recommendations finished on 46000/70721 queries. users per second: 33425.6"
      ]
     },
     "metadata": {},
     "output_type": "display_data"
    },
    {
     "data": {
      "text/html": [
       "<pre>recommendations finished on 47000/70721 queries. users per second: 33326.8</pre>"
      ],
      "text/plain": [
       "recommendations finished on 47000/70721 queries. users per second: 33326.8"
      ]
     },
     "metadata": {},
     "output_type": "display_data"
    },
    {
     "data": {
      "text/html": [
       "<pre>recommendations finished on 48000/70721 queries. users per second: 33371.5</pre>"
      ],
      "text/plain": [
       "recommendations finished on 48000/70721 queries. users per second: 33371.5"
      ]
     },
     "metadata": {},
     "output_type": "display_data"
    },
    {
     "data": {
      "text/html": [
       "<pre>recommendations finished on 49000/70721 queries. users per second: 33255.4</pre>"
      ],
      "text/plain": [
       "recommendations finished on 49000/70721 queries. users per second: 33255.4"
      ]
     },
     "metadata": {},
     "output_type": "display_data"
    },
    {
     "data": {
      "text/html": [
       "<pre>recommendations finished on 50000/70721 queries. users per second: 33500.9</pre>"
      ],
      "text/plain": [
       "recommendations finished on 50000/70721 queries. users per second: 33500.9"
      ]
     },
     "metadata": {},
     "output_type": "display_data"
    },
    {
     "data": {
      "text/html": [
       "<pre>recommendations finished on 51000/70721 queries. users per second: 33740.2</pre>"
      ],
      "text/plain": [
       "recommendations finished on 51000/70721 queries. users per second: 33740.2"
      ]
     },
     "metadata": {},
     "output_type": "display_data"
    },
    {
     "data": {
      "text/html": [
       "<pre>recommendations finished on 52000/70721 queries. users per second: 33873.8</pre>"
      ],
      "text/plain": [
       "recommendations finished on 52000/70721 queries. users per second: 33873.8"
      ]
     },
     "metadata": {},
     "output_type": "display_data"
    },
    {
     "data": {
      "text/html": [
       "<pre>recommendations finished on 53000/70721 queries. users per second: 33689</pre>"
      ],
      "text/plain": [
       "recommendations finished on 53000/70721 queries. users per second: 33689"
      ]
     },
     "metadata": {},
     "output_type": "display_data"
    },
    {
     "data": {
      "text/html": [
       "<pre>recommendations finished on 54000/70721 queries. users per second: 33502.6</pre>"
      ],
      "text/plain": [
       "recommendations finished on 54000/70721 queries. users per second: 33502.6"
      ]
     },
     "metadata": {},
     "output_type": "display_data"
    },
    {
     "data": {
      "text/html": [
       "<pre>recommendations finished on 55000/70721 queries. users per second: 33569.6</pre>"
      ],
      "text/plain": [
       "recommendations finished on 55000/70721 queries. users per second: 33569.6"
      ]
     },
     "metadata": {},
     "output_type": "display_data"
    },
    {
     "data": {
      "text/html": [
       "<pre>recommendations finished on 56000/70721 queries. users per second: 33736.1</pre>"
      ],
      "text/plain": [
       "recommendations finished on 56000/70721 queries. users per second: 33736.1"
      ]
     },
     "metadata": {},
     "output_type": "display_data"
    },
    {
     "data": {
      "text/html": [
       "<pre>recommendations finished on 57000/70721 queries. users per second: 33959.1</pre>"
      ],
      "text/plain": [
       "recommendations finished on 57000/70721 queries. users per second: 33959.1"
      ]
     },
     "metadata": {},
     "output_type": "display_data"
    },
    {
     "data": {
      "text/html": [
       "<pre>recommendations finished on 58000/70721 queries. users per second: 34076.4</pre>"
      ],
      "text/plain": [
       "recommendations finished on 58000/70721 queries. users per second: 34076.4"
      ]
     },
     "metadata": {},
     "output_type": "display_data"
    },
    {
     "data": {
      "text/html": [
       "<pre>recommendations finished on 59000/70721 queries. users per second: 33875.7</pre>"
      ],
      "text/plain": [
       "recommendations finished on 59000/70721 queries. users per second: 33875.7"
      ]
     },
     "metadata": {},
     "output_type": "display_data"
    },
    {
     "data": {
      "text/html": [
       "<pre>recommendations finished on 60000/70721 queries. users per second: 33941.8</pre>"
      ],
      "text/plain": [
       "recommendations finished on 60000/70721 queries. users per second: 33941.8"
      ]
     },
     "metadata": {},
     "output_type": "display_data"
    },
    {
     "data": {
      "text/html": [
       "<pre>recommendations finished on 61000/70721 queries. users per second: 33996.5</pre>"
      ],
      "text/plain": [
       "recommendations finished on 61000/70721 queries. users per second: 33996.5"
      ]
     },
     "metadata": {},
     "output_type": "display_data"
    },
    {
     "data": {
      "text/html": [
       "<pre>recommendations finished on 62000/70721 queries. users per second: 34030.9</pre>"
      ],
      "text/plain": [
       "recommendations finished on 62000/70721 queries. users per second: 34030.9"
      ]
     },
     "metadata": {},
     "output_type": "display_data"
    },
    {
     "data": {
      "text/html": [
       "<pre>recommendations finished on 63000/70721 queries. users per second: 34073.5</pre>"
      ],
      "text/plain": [
       "recommendations finished on 63000/70721 queries. users per second: 34073.5"
      ]
     },
     "metadata": {},
     "output_type": "display_data"
    },
    {
     "data": {
      "text/html": [
       "<pre>recommendations finished on 64000/70721 queries. users per second: 34178.7</pre>"
      ],
      "text/plain": [
       "recommendations finished on 64000/70721 queries. users per second: 34178.7"
      ]
     },
     "metadata": {},
     "output_type": "display_data"
    },
    {
     "data": {
      "text/html": [
       "<pre>recommendations finished on 65000/70721 queries. users per second: 34101.1</pre>"
      ],
      "text/plain": [
       "recommendations finished on 65000/70721 queries. users per second: 34101.1"
      ]
     },
     "metadata": {},
     "output_type": "display_data"
    },
    {
     "data": {
      "text/html": [
       "<pre>recommendations finished on 66000/70721 queries. users per second: 34265.2</pre>"
      ],
      "text/plain": [
       "recommendations finished on 66000/70721 queries. users per second: 34265.2"
      ]
     },
     "metadata": {},
     "output_type": "display_data"
    },
    {
     "data": {
      "text/html": [
       "<pre>recommendations finished on 67000/70721 queries. users per second: 34293.5</pre>"
      ],
      "text/plain": [
       "recommendations finished on 67000/70721 queries. users per second: 34293.5"
      ]
     },
     "metadata": {},
     "output_type": "display_data"
    },
    {
     "data": {
      "text/html": [
       "<pre>recommendations finished on 68000/70721 queries. users per second: 34199.8</pre>"
      ],
      "text/plain": [
       "recommendations finished on 68000/70721 queries. users per second: 34199.8"
      ]
     },
     "metadata": {},
     "output_type": "display_data"
    },
    {
     "data": {
      "text/html": [
       "<pre>recommendations finished on 69000/70721 queries. users per second: 34202.5</pre>"
      ],
      "text/plain": [
       "recommendations finished on 69000/70721 queries. users per second: 34202.5"
      ]
     },
     "metadata": {},
     "output_type": "display_data"
    },
    {
     "data": {
      "text/html": [
       "<pre>recommendations finished on 70000/70721 queries. users per second: 33531.6</pre>"
      ],
      "text/plain": [
       "recommendations finished on 70000/70721 queries. users per second: 33531.6"
      ]
     },
     "metadata": {},
     "output_type": "display_data"
    }
   ],
   "source": [
    "#Make Recommendations:\n",
    "users_info = list(pop_data_train['user_id']) \n",
    "item_based_recomm = item_bases_model.recommend(users=users_info,k=5)\n",
    "item_based_recomm = item_based_recomm.to_dataframe()"
   ]
  },
  {
   "cell_type": "code",
   "execution_count": 42,
   "metadata": {},
   "outputs": [
    {
     "data": {
      "text/html": [
       "<div>\n",
       "<table border=\"1\" class=\"dataframe\">\n",
       "  <thead>\n",
       "    <tr style=\"text-align: right;\">\n",
       "      <th></th>\n",
       "      <th>user_id</th>\n",
       "      <th>business_id</th>\n",
       "      <th>score</th>\n",
       "      <th>rank</th>\n",
       "    </tr>\n",
       "  </thead>\n",
       "  <tbody>\n",
       "    <tr>\n",
       "      <th>0</th>\n",
       "      <td>XVZCDccLPdYdaj9docxTHg</td>\n",
       "      <td>eGdr777YxPCBwDPEWVswSQ</td>\n",
       "      <td>5.0</td>\n",
       "      <td>1</td>\n",
       "    </tr>\n",
       "    <tr>\n",
       "      <th>1</th>\n",
       "      <td>XVZCDccLPdYdaj9docxTHg</td>\n",
       "      <td>3TolC4iUceA-C52DOJ8G8Q</td>\n",
       "      <td>5.0</td>\n",
       "      <td>2</td>\n",
       "    </tr>\n",
       "    <tr>\n",
       "      <th>2</th>\n",
       "      <td>XVZCDccLPdYdaj9docxTHg</td>\n",
       "      <td>X6fm6mRM1vuWLgvEy5VoYA</td>\n",
       "      <td>5.0</td>\n",
       "      <td>3</td>\n",
       "    </tr>\n",
       "    <tr>\n",
       "      <th>3</th>\n",
       "      <td>XVZCDccLPdYdaj9docxTHg</td>\n",
       "      <td>mPhpRGTgusNHOXgvF43FQg</td>\n",
       "      <td>5.0</td>\n",
       "      <td>4</td>\n",
       "    </tr>\n",
       "    <tr>\n",
       "      <th>4</th>\n",
       "      <td>XVZCDccLPdYdaj9docxTHg</td>\n",
       "      <td>64AT1yFmMwzRM035Z4YduA</td>\n",
       "      <td>5.0</td>\n",
       "      <td>5</td>\n",
       "    </tr>\n",
       "  </tbody>\n",
       "</table>\n",
       "</div>"
      ],
      "text/plain": [
       "                  user_id             business_id  score  rank\n",
       "0  XVZCDccLPdYdaj9docxTHg  eGdr777YxPCBwDPEWVswSQ    5.0     1\n",
       "1  XVZCDccLPdYdaj9docxTHg  3TolC4iUceA-C52DOJ8G8Q    5.0     2\n",
       "2  XVZCDccLPdYdaj9docxTHg  X6fm6mRM1vuWLgvEy5VoYA    5.0     3\n",
       "3  XVZCDccLPdYdaj9docxTHg  mPhpRGTgusNHOXgvF43FQg    5.0     4\n",
       "4  XVZCDccLPdYdaj9docxTHg  64AT1yFmMwzRM035Z4YduA    5.0     5"
      ]
     },
     "execution_count": 42,
     "metadata": {},
     "output_type": "execute_result"
    }
   ],
   "source": [
    "item_based_recomm.head(5)"
   ]
  },
  {
   "cell_type": "markdown",
   "metadata": {},
   "source": [
    "## Evaluating Recommendation Engines"
   ]
  },
  {
   "cell_type": "code",
   "execution_count": 44,
   "metadata": {},
   "outputs": [
    {
     "name": "stdout",
     "output_type": "stream",
     "text": [
      "PROGRESS: Evaluate model M0\n"
     ]
    },
    {
     "data": {
      "text/html": [
       "<pre>recommendations finished on 1000/14839 queries. users per second: 79789.4</pre>"
      ],
      "text/plain": [
       "recommendations finished on 1000/14839 queries. users per second: 79789.4"
      ]
     },
     "metadata": {},
     "output_type": "display_data"
    },
    {
     "data": {
      "text/html": [
       "<pre>recommendations finished on 2000/14839 queries. users per second: 88656.4</pre>"
      ],
      "text/plain": [
       "recommendations finished on 2000/14839 queries. users per second: 88656.4"
      ]
     },
     "metadata": {},
     "output_type": "display_data"
    },
    {
     "data": {
      "text/html": [
       "<pre>recommendations finished on 3000/14839 queries. users per second: 73877.1</pre>"
      ],
      "text/plain": [
       "recommendations finished on 3000/14839 queries. users per second: 73877.1"
      ]
     },
     "metadata": {},
     "output_type": "display_data"
    },
    {
     "data": {
      "text/html": [
       "<pre>recommendations finished on 4000/14839 queries. users per second: 69380.6</pre>"
      ],
      "text/plain": [
       "recommendations finished on 4000/14839 queries. users per second: 69380.6"
      ]
     },
     "metadata": {},
     "output_type": "display_data"
    },
    {
     "data": {
      "text/html": [
       "<pre>recommendations finished on 5000/14839 queries. users per second: 73334.2</pre>"
      ],
      "text/plain": [
       "recommendations finished on 5000/14839 queries. users per second: 73334.2"
      ]
     },
     "metadata": {},
     "output_type": "display_data"
    },
    {
     "data": {
      "text/html": [
       "<pre>recommendations finished on 6000/14839 queries. users per second: 58097.9</pre>"
      ],
      "text/plain": [
       "recommendations finished on 6000/14839 queries. users per second: 58097.9"
      ]
     },
     "metadata": {},
     "output_type": "display_data"
    },
    {
     "data": {
      "text/html": [
       "<pre>recommendations finished on 7000/14839 queries. users per second: 58667.2</pre>"
      ],
      "text/plain": [
       "recommendations finished on 7000/14839 queries. users per second: 58667.2"
      ]
     },
     "metadata": {},
     "output_type": "display_data"
    },
    {
     "data": {
      "text/html": [
       "<pre>recommendations finished on 8000/14839 queries. users per second: 57817.3</pre>"
      ],
      "text/plain": [
       "recommendations finished on 8000/14839 queries. users per second: 57817.3"
      ]
     },
     "metadata": {},
     "output_type": "display_data"
    },
    {
     "data": {
      "text/html": [
       "<pre>recommendations finished on 9000/14839 queries. users per second: 51884.6</pre>"
      ],
      "text/plain": [
       "recommendations finished on 9000/14839 queries. users per second: 51884.6"
      ]
     },
     "metadata": {},
     "output_type": "display_data"
    },
    {
     "data": {
      "text/html": [
       "<pre>recommendations finished on 10000/14839 queries. users per second: 52630.2</pre>"
      ],
      "text/plain": [
       "recommendations finished on 10000/14839 queries. users per second: 52630.2"
      ]
     },
     "metadata": {},
     "output_type": "display_data"
    },
    {
     "data": {
      "text/html": [
       "<pre>recommendations finished on 11000/14839 queries. users per second: 46388.1</pre>"
      ],
      "text/plain": [
       "recommendations finished on 11000/14839 queries. users per second: 46388.1"
      ]
     },
     "metadata": {},
     "output_type": "display_data"
    },
    {
     "data": {
      "text/html": [
       "<pre>recommendations finished on 12000/14839 queries. users per second: 42973.5</pre>"
      ],
      "text/plain": [
       "recommendations finished on 12000/14839 queries. users per second: 42973.5"
      ]
     },
     "metadata": {},
     "output_type": "display_data"
    },
    {
     "data": {
      "text/html": [
       "<pre>recommendations finished on 13000/14839 queries. users per second: 43435.3</pre>"
      ],
      "text/plain": [
       "recommendations finished on 13000/14839 queries. users per second: 43435.3"
      ]
     },
     "metadata": {},
     "output_type": "display_data"
    },
    {
     "data": {
      "text/html": [
       "<pre>recommendations finished on 14000/14839 queries. users per second: 43362.6</pre>"
      ],
      "text/plain": [
       "recommendations finished on 14000/14839 queries. users per second: 43362.6"
      ]
     },
     "metadata": {},
     "output_type": "display_data"
    },
    {
     "name": "stdout",
     "output_type": "stream",
     "text": [
      "\n",
      "Precision and recall summary statistics by cutoff\n",
      "+--------+-------------------+-------------------+\n",
      "| cutoff |   mean_precision  |    mean_recall    |\n",
      "+--------+-------------------+-------------------+\n",
      "|   1    | 0.000134779971696 | 1.99106776369e-05 |\n",
      "|   2    |  0.00016847496462 | 0.000155915921803 |\n",
      "|   3    | 0.000134779971696 | 0.000223305907651 |\n",
      "|   4    | 0.000101084978772 | 0.000223305907651 |\n",
      "|   5    | 0.000134779971696 | 0.000328907836826 |\n",
      "|   6    | 0.000146011636004 | 0.000497382801446 |\n",
      "|   7    | 0.000163661394203 | 0.000614379304655 |\n",
      "|   8    |  0.00016847496462 |  0.00070380063203 |\n",
      "|   9    | 0.000149755524107 |  0.00070380063203 |\n",
      "|   10   | 0.000141518970281 | 0.000711288408236 |\n",
      "+--------+-------------------+-------------------+\n",
      "[10 rows x 3 columns]\n",
      "\n",
      "PROGRESS: Evaluate model M1\n"
     ]
    },
    {
     "data": {
      "text/html": [
       "<pre>recommendations finished on 1000/14839 queries. users per second: 31168.2</pre>"
      ],
      "text/plain": [
       "recommendations finished on 1000/14839 queries. users per second: 31168.2"
      ]
     },
     "metadata": {},
     "output_type": "display_data"
    },
    {
     "data": {
      "text/html": [
       "<pre>recommendations finished on 2000/14839 queries. users per second: 26596.1</pre>"
      ],
      "text/plain": [
       "recommendations finished on 2000/14839 queries. users per second: 26596.1"
      ]
     },
     "metadata": {},
     "output_type": "display_data"
    },
    {
     "data": {
      "text/html": [
       "<pre>recommendations finished on 3000/14839 queries. users per second: 25143.1</pre>"
      ],
      "text/plain": [
       "recommendations finished on 3000/14839 queries. users per second: 25143.1"
      ]
     },
     "metadata": {},
     "output_type": "display_data"
    },
    {
     "data": {
      "text/html": [
       "<pre>recommendations finished on 4000/14839 queries. users per second: 22602.7</pre>"
      ],
      "text/plain": [
       "recommendations finished on 4000/14839 queries. users per second: 22602.7"
      ]
     },
     "metadata": {},
     "output_type": "display_data"
    },
    {
     "data": {
      "text/html": [
       "<pre>recommendations finished on 5000/14839 queries. users per second: 22212.6</pre>"
      ],
      "text/plain": [
       "recommendations finished on 5000/14839 queries. users per second: 22212.6"
      ]
     },
     "metadata": {},
     "output_type": "display_data"
    },
    {
     "data": {
      "text/html": [
       "<pre>recommendations finished on 6000/14839 queries. users per second: 22122.2</pre>"
      ],
      "text/plain": [
       "recommendations finished on 6000/14839 queries. users per second: 22122.2"
      ]
     },
     "metadata": {},
     "output_type": "display_data"
    },
    {
     "data": {
      "text/html": [
       "<pre>recommendations finished on 7000/14839 queries. users per second: 20294.7</pre>"
      ],
      "text/plain": [
       "recommendations finished on 7000/14839 queries. users per second: 20294.7"
      ]
     },
     "metadata": {},
     "output_type": "display_data"
    },
    {
     "data": {
      "text/html": [
       "<pre>recommendations finished on 8000/14839 queries. users per second: 20969.1</pre>"
      ],
      "text/plain": [
       "recommendations finished on 8000/14839 queries. users per second: 20969.1"
      ]
     },
     "metadata": {},
     "output_type": "display_data"
    },
    {
     "data": {
      "text/html": [
       "<pre>recommendations finished on 9000/14839 queries. users per second: 21919.6</pre>"
      ],
      "text/plain": [
       "recommendations finished on 9000/14839 queries. users per second: 21919.6"
      ]
     },
     "metadata": {},
     "output_type": "display_data"
    },
    {
     "data": {
      "text/html": [
       "<pre>recommendations finished on 10000/14839 queries. users per second: 20821.3</pre>"
      ],
      "text/plain": [
       "recommendations finished on 10000/14839 queries. users per second: 20821.3"
      ]
     },
     "metadata": {},
     "output_type": "display_data"
    },
    {
     "data": {
      "text/html": [
       "<pre>recommendations finished on 11000/14839 queries. users per second: 20956.5</pre>"
      ],
      "text/plain": [
       "recommendations finished on 11000/14839 queries. users per second: 20956.5"
      ]
     },
     "metadata": {},
     "output_type": "display_data"
    },
    {
     "data": {
      "text/html": [
       "<pre>recommendations finished on 12000/14839 queries. users per second: 20319.4</pre>"
      ],
      "text/plain": [
       "recommendations finished on 12000/14839 queries. users per second: 20319.4"
      ]
     },
     "metadata": {},
     "output_type": "display_data"
    },
    {
     "data": {
      "text/html": [
       "<pre>recommendations finished on 13000/14839 queries. users per second: 20728.1</pre>"
      ],
      "text/plain": [
       "recommendations finished on 13000/14839 queries. users per second: 20728.1"
      ]
     },
     "metadata": {},
     "output_type": "display_data"
    },
    {
     "data": {
      "text/html": [
       "<pre>recommendations finished on 14000/14839 queries. users per second: 21187.8</pre>"
      ],
      "text/plain": [
       "recommendations finished on 14000/14839 queries. users per second: 21187.8"
      ]
     },
     "metadata": {},
     "output_type": "display_data"
    },
    {
     "name": "stdout",
     "output_type": "stream",
     "text": [
      "\n",
      "Precision and recall summary statistics by cutoff\n",
      "+--------+-------------------+-------------------+\n",
      "| cutoff |   mean_precision  |    mean_recall    |\n",
      "+--------+-------------------+-------------------+\n",
      "|   1    | 0.000134779971696 | 0.000101084978772 |\n",
      "|   2    |  0.00016847496462 |  0.00012701991272 |\n",
      "|   3    | 0.000179706628928 | 0.000185050178311 |\n",
      "|   4    | 0.000185322461082 | 0.000328253898238 |\n",
      "|   5    | 0.000202169957544 | 0.000383587517154 |\n",
      "|   6    | 0.000190938293236 | 0.000518367488851 |\n",
      "|   7    | 0.000173288535038 | 0.000585757474699 |\n",
      "|   8    | 0.000160051216389 | 0.000587132780532 |\n",
      "|   9    | 0.000142267747902 | 0.000587132780532 |\n",
      "|   10   | 0.000141518970281 | 0.000659706611446 |\n",
      "+--------+-------------------+-------------------+\n",
      "[10 rows x 3 columns]\n",
      "\n",
      "Model compare metric: precision_recall\n",
      "Canvas is accessible via web browser at the URL: http://localhost:52363/index.html\n",
      "Opening Canvas in default web browser.\n"
     ]
    }
   ],
   "source": [
    "model_performance = gl.compare(pop_data_test, [popularity_model, item_bases_model])\n",
    "gl.show_comparison(model_performance,[popularity_model, item_bases_model])"
   ]
  }
 ],
 "metadata": {
  "anaconda-cloud": {},
  "kernelspec": {
   "display_name": "Python 3 (ipykernel)",
   "language": "python",
   "name": "python3"
  },
  "language_info": {
   "codemirror_mode": {
    "name": "ipython",
    "version": 3
   },
   "file_extension": ".py",
   "mimetype": "text/x-python",
   "name": "python",
   "nbconvert_exporter": "python",
   "pygments_lexer": "ipython3",
   "version": "3.9.7"
  }
 },
 "nbformat": 4,
 "nbformat_minor": 1
}
